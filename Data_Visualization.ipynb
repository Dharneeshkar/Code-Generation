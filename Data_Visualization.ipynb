{
 "cells": [
  {
   "cell_type": "code",
   "execution_count": 8,
   "id": "b689f8a7",
   "metadata": {},
   "outputs": [],
   "source": [
    "#Import Statements \n",
    "import torch\n",
    "import numpy as np\n",
    "import transformers\n",
    "from transformers import AutoTokenizer\n",
    "from transformers import AutoConfig\n",
    "from transformers import AutoModelForSeq2SeqLM\n",
    "import datasets\n",
    "from datasets import load_dataset, load_metric\n",
    "import evaluator\n",
    "import pandas as pd\n",
    "from autoviz.AutoViz_Class import AutoViz_Class"
   ]
  },
  {
   "cell_type": "code",
   "execution_count": 2,
   "id": "cb9cdab2",
   "metadata": {},
   "outputs": [
    {
     "name": "stdout",
     "output_type": "stream",
     "text": [
      "cuda\n"
     ]
    }
   ],
   "source": [
    "#Checking GPU \n",
    "device = torch.device('cuda') if torch.cuda.is_available() else torch.device('cpu')\n",
    "print(device)"
   ]
  },
  {
   "cell_type": "code",
   "execution_count": 3,
   "id": "765215b0",
   "metadata": {},
   "outputs": [
    {
     "name": "stderr",
     "output_type": "stream",
     "text": [
      "Using custom data configuration AhmedSSoliman--CoNaLa-Large-51e462b03558a775\n",
      "Found cached dataset csv (C:/Users/Dharneeshkar J/.cache/huggingface/datasets/AhmedSSoliman___csv/AhmedSSoliman--CoNaLa-Large-51e462b03558a775/0.0.0/6b34fb8fcf56f7c8ba51dc895bfa2bfbe43546f190a60fcf74bb5e8afdcc2317)\n"
     ]
    },
    {
     "data": {
      "application/vnd.jupyter.widget-view+json": {
       "model_id": "26c2ab3e74b34c0dae59c6361c553a13",
       "version_major": 2,
       "version_minor": 0
      },
      "text/plain": [
       "  0%|          | 0/3 [00:00<?, ?it/s]"
      ]
     },
     "metadata": {},
     "output_type": "display_data"
    }
   ],
   "source": [
    "# Loading CoNaLa Dataset\n",
    "\n",
    "data = load_dataset(\"AhmedSSoliman/CoNaLa-Large\")\n"
   ]
  },
  {
   "cell_type": "code",
   "execution_count": 18,
   "id": "1091f76f",
   "metadata": {},
   "outputs": [
    {
     "data": {
      "text/html": [
       "<div>\n",
       "<style scoped>\n",
       "    .dataframe tbody tr th:only-of-type {\n",
       "        vertical-align: middle;\n",
       "    }\n",
       "\n",
       "    .dataframe tbody tr th {\n",
       "        vertical-align: top;\n",
       "    }\n",
       "\n",
       "    .dataframe thead th {\n",
       "        text-align: right;\n",
       "    }\n",
       "</style>\n",
       "<table border=\"1\" class=\"dataframe\">\n",
       "  <thead>\n",
       "    <tr style=\"text-align: right;\">\n",
       "      <th></th>\n",
       "      <th>intent</th>\n",
       "      <th>snippet</th>\n",
       "      <th>id</th>\n",
       "    </tr>\n",
       "  </thead>\n",
       "  <tbody>\n",
       "    <tr>\n",
       "      <th>0</th>\n",
       "      <td>convert a list to a dictionary in python</td>\n",
       "      <td>b = dict(zip(a[0::2], a[1::2]))</td>\n",
       "      <td>0</td>\n",
       "    </tr>\n",
       "    <tr>\n",
       "      <th>1</th>\n",
       "      <td>python - sort a list of nested lists</td>\n",
       "      <td>l.sort(key=sum_nested)</td>\n",
       "      <td>1</td>\n",
       "    </tr>\n",
       "    <tr>\n",
       "      <th>2</th>\n",
       "      <td>how to get the size of a string in python?</td>\n",
       "      <td>print(len('\\xd0\\xb9\\xd1\\x86\\xd1\\x8b'))</td>\n",
       "      <td>2</td>\n",
       "    </tr>\n",
       "    <tr>\n",
       "      <th>3</th>\n",
       "      <td>how to get the fft of a numpy array to work?</td>\n",
       "      <td>np.fft.fft(xfiltered)</td>\n",
       "      <td>3</td>\n",
       "    </tr>\n",
       "    <tr>\n",
       "      <th>4</th>\n",
       "      <td>calculating difference between two rows in python / pandas</td>\n",
       "      <td>data.set_index('Date').diff()</td>\n",
       "      <td>4</td>\n",
       "    </tr>\n",
       "  </tbody>\n",
       "</table>\n",
       "</div>"
      ],
      "text/plain": [
       "                                                       intent  \\\n",
       "0                    convert a list to a dictionary in python   \n",
       "1                        python - sort a list of nested lists   \n",
       "2                  how to get the size of a string in python?   \n",
       "3                how to get the fft of a numpy array to work?   \n",
       "4  calculating difference between two rows in python / pandas   \n",
       "\n",
       "                                  snippet  id  \n",
       "0         b = dict(zip(a[0::2], a[1::2]))   0  \n",
       "1                  l.sort(key=sum_nested)   1  \n",
       "2  print(len('\\xd0\\xb9\\xd1\\x86\\xd1\\x8b'))   2  \n",
       "3                   np.fft.fft(xfiltered)   3  \n",
       "4           data.set_index('Date').diff()   4  "
      ]
     },
     "execution_count": 18,
     "metadata": {},
     "output_type": "execute_result"
    }
   ],
   "source": [
    "trainData= data[\"train\"]\n",
    "testData = data[\"test\"]\n",
    "train_df = pd.DataFrame(trainData)\n",
    "train_df['id'] = range(0, len(train_df))\n",
    "train_df.head()"
   ]
  },
  {
   "cell_type": "code",
   "execution_count": 26,
   "id": "481eca92",
   "metadata": {},
   "outputs": [
    {
     "ename": "NameError",
     "evalue": "name 'AutoViz_NLP' is not defined",
     "output_type": "error",
     "traceback": [
      "\u001b[1;31m---------------------------------------------------------------------------\u001b[0m",
      "\u001b[1;31mNameError\u001b[0m                                 Traceback (most recent call last)",
      "Cell \u001b[1;32mIn[26], line 1\u001b[0m\n\u001b[1;32m----> 1\u001b[0m AV \u001b[38;5;241m=\u001b[39m \u001b[43mAutoViz_NLP\u001b[49m()\n",
      "\u001b[1;31mNameError\u001b[0m: name 'AutoViz_NLP' is not defined"
     ]
    }
   ],
   "source": [
    "\n",
    "AV = AutoViz_Class()"
   ]
  },
  {
   "cell_type": "code",
   "execution_count": 25,
   "id": "4231b7fb",
   "metadata": {},
   "outputs": [
    {
     "name": "stdout",
     "output_type": "stream",
     "text": [
      "Shape of your Data Set loaded: (24687, 3)\n",
      "#######################################################################################\n",
      "######################## C L A S S I F Y I N G  V A R I A B L E S  ####################\n",
      "#######################################################################################\n",
      "Classifying variables in data set...\n",
      "Data cleaning improvement suggestions. Complete them before proceeding to ML modeling.\n"
     ]
    },
    {
     "data": {
      "text/html": [
       "<style type=\"text/css\">\n",
       "#T_58da0_row0_col0, #T_58da0_row0_col4, #T_58da0_row1_col5, #T_58da0_row2_col5 {\n",
       "  background-color: #67000d;\n",
       "  color: #f1f1f1;\n",
       "  font-family: Segoe UI;\n",
       "}\n",
       "#T_58da0_row0_col1, #T_58da0_row0_col6, #T_58da0_row1_col1, #T_58da0_row1_col6, #T_58da0_row2_col1, #T_58da0_row2_col6 {\n",
       "  font-family: Segoe UI;\n",
       "}\n",
       "#T_58da0_row0_col2, #T_58da0_row0_col3, #T_58da0_row0_col5, #T_58da0_row1_col2, #T_58da0_row1_col3, #T_58da0_row2_col0, #T_58da0_row2_col2, #T_58da0_row2_col3, #T_58da0_row2_col4 {\n",
       "  background-color: #fff5f0;\n",
       "  color: #000000;\n",
       "  font-family: Segoe UI;\n",
       "}\n",
       "#T_58da0_row1_col0, #T_58da0_row1_col4 {\n",
       "  background-color: #fc8767;\n",
       "  color: #f1f1f1;\n",
       "  font-family: Segoe UI;\n",
       "}\n",
       "</style>\n",
       "<table id=\"T_58da0\">\n",
       "  <thead>\n",
       "    <tr>\n",
       "      <th class=\"blank level0\" >&nbsp;</th>\n",
       "      <th id=\"T_58da0_level0_col0\" class=\"col_heading level0 col0\" >Nuniques</th>\n",
       "      <th id=\"T_58da0_level0_col1\" class=\"col_heading level0 col1\" >dtype</th>\n",
       "      <th id=\"T_58da0_level0_col2\" class=\"col_heading level0 col2\" >Nulls</th>\n",
       "      <th id=\"T_58da0_level0_col3\" class=\"col_heading level0 col3\" >Nullpercent</th>\n",
       "      <th id=\"T_58da0_level0_col4\" class=\"col_heading level0 col4\" >NuniquePercent</th>\n",
       "      <th id=\"T_58da0_level0_col5\" class=\"col_heading level0 col5\" >Value counts Min</th>\n",
       "      <th id=\"T_58da0_level0_col6\" class=\"col_heading level0 col6\" >Data cleaning improvement suggestions</th>\n",
       "    </tr>\n",
       "  </thead>\n",
       "  <tbody>\n",
       "    <tr>\n",
       "      <th id=\"T_58da0_level0_row0\" class=\"row_heading level0 row0\" >id</th>\n",
       "      <td id=\"T_58da0_row0_col0\" class=\"data row0 col0\" >24687</td>\n",
       "      <td id=\"T_58da0_row0_col1\" class=\"data row0 col1\" >int64</td>\n",
       "      <td id=\"T_58da0_row0_col2\" class=\"data row0 col2\" >0</td>\n",
       "      <td id=\"T_58da0_row0_col3\" class=\"data row0 col3\" >0.000000</td>\n",
       "      <td id=\"T_58da0_row0_col4\" class=\"data row0 col4\" >100.000000</td>\n",
       "      <td id=\"T_58da0_row0_col5\" class=\"data row0 col5\" >0</td>\n",
       "      <td id=\"T_58da0_row0_col6\" class=\"data row0 col6\" >possible ID column: drop</td>\n",
       "    </tr>\n",
       "    <tr>\n",
       "      <th id=\"T_58da0_level0_row1\" class=\"row_heading level0 row1\" >intent</th>\n",
       "      <td id=\"T_58da0_row1_col0\" class=\"data row1 col0\" >15750</td>\n",
       "      <td id=\"T_58da0_row1_col1\" class=\"data row1 col1\" >object</td>\n",
       "      <td id=\"T_58da0_row1_col2\" class=\"data row1 col2\" >0</td>\n",
       "      <td id=\"T_58da0_row1_col3\" class=\"data row1 col3\" >0.000000</td>\n",
       "      <td id=\"T_58da0_row1_col4\" class=\"data row1 col4\" >63.798760</td>\n",
       "      <td id=\"T_58da0_row1_col5\" class=\"data row1 col5\" >1</td>\n",
       "      <td id=\"T_58da0_row1_col6\" class=\"data row1 col6\" >combine rare categories</td>\n",
       "    </tr>\n",
       "    <tr>\n",
       "      <th id=\"T_58da0_level0_row2\" class=\"row_heading level0 row2\" >snippet</th>\n",
       "      <td id=\"T_58da0_row2_col0\" class=\"data row2 col0\" >9632</td>\n",
       "      <td id=\"T_58da0_row2_col1\" class=\"data row2 col1\" >object</td>\n",
       "      <td id=\"T_58da0_row2_col2\" class=\"data row2 col2\" >0</td>\n",
       "      <td id=\"T_58da0_row2_col3\" class=\"data row2 col3\" >0.000000</td>\n",
       "      <td id=\"T_58da0_row2_col4\" class=\"data row2 col4\" >39.016486</td>\n",
       "      <td id=\"T_58da0_row2_col5\" class=\"data row2 col5\" >1</td>\n",
       "      <td id=\"T_58da0_row2_col6\" class=\"data row2 col6\" >combine rare categories</td>\n",
       "    </tr>\n",
       "  </tbody>\n",
       "</table>\n"
      ],
      "text/plain": [
       "<pandas.io.formats.style.Styler at 0x1fabfc0f5e0>"
      ]
     },
     "metadata": {},
     "output_type": "display_data"
    },
    {
     "name": "stdout",
     "output_type": "stream",
     "text": [
      "  Printing upto 30 columns max in each category:\n",
      "    Numeric Columns : []\n",
      "    Integer-Categorical Columns: []\n",
      "    String-Categorical Columns: []\n",
      "    Factor-Categorical Columns: []\n",
      "    String-Boolean Columns: []\n",
      "    Numeric-Boolean Columns: []\n",
      "    Discrete String Columns: []\n",
      "    NLP text Columns: ['intent', 'snippet']\n",
      "    Date Time Columns: []\n",
      "    ID Columns: ['id']\n",
      "    Columns that will not be considered in modeling: []\n",
      "    3 Predictors classified...\n",
      "Cannot visualize this dataset since no numeric or integer vars in data...returning\n",
      "Not able to read or load file. Please check your inputs and try again...\n"
     ]
    }
   ],
   "source": [
    "sep = ','\n",
    "dft = AV.AutoViz(filename=\"\", sep= ' ',dfte=train_df,  verbose=2, \n",
    "                 lowess=True, chart_format='bokeh')"
   ]
  },
  {
   "cell_type": "code",
   "execution_count": null,
   "id": "a9b6e60c",
   "metadata": {},
   "outputs": [],
   "source": []
  }
 ],
 "metadata": {
  "kernelspec": {
   "display_name": "Python 3 (ipykernel)",
   "language": "python",
   "name": "python3"
  },
  "language_info": {
   "codemirror_mode": {
    "name": "ipython",
    "version": 3
   },
   "file_extension": ".py",
   "mimetype": "text/x-python",
   "name": "python",
   "nbconvert_exporter": "python",
   "pygments_lexer": "ipython3",
   "version": "3.8.16"
  }
 },
 "nbformat": 4,
 "nbformat_minor": 5
}

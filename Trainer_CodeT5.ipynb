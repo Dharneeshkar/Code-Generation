{
 "cells": [
  {
   "cell_type": "code",
   "execution_count": 2,
   "id": "b689f8a7",
   "metadata": {},
   "outputs": [],
   "source": [
    "#Import Statements \n",
    "import torch\n",
    "import numpy as np\n",
    "import transformers\n",
    "from transformers import AutoTokenizer,RobertaTokenizer\n",
    "from transformers import AutoConfig\n",
    "from transformers import AutoModelForSeq2SeqLM\n",
    "import datasets\n",
    "from datasets import load_dataset, load_metric\n",
    "# import evaluator\n",
    "import evaluate\n",
    "from transformers import EarlyStoppingCallback, IntervalStrategy"
   ]
  },
  {
   "cell_type": "code",
   "execution_count": 1,
   "id": "fef9b331",
   "metadata": {},
   "outputs": [],
   "source": [
    "import wandb\n",
    "import os\n",
    "\n",
    "os.environ[\"WANDB_PROJECT\"]=\"code_gen_codeT5_small_config\"\n",
    "\n",
    "# save your trained model checkpoint to wandb\n",
    "os.environ[\"WANDB_LOG_MODEL\"]=\"true\"\n",
    "\n",
    "# turn off watch to log faster\n",
    "os.environ[\"WANDB_WATCH\"]=\"false\""
   ]
  },
  {
   "cell_type": "code",
   "execution_count": 3,
   "id": "cb9cdab2",
   "metadata": {},
   "outputs": [
    {
     "name": "stdout",
     "output_type": "stream",
     "text": [
      "cuda\n"
     ]
    }
   ],
   "source": [
    "#Checking GPU \n",
    "device = torch.device('cuda') if torch.cuda.is_available() else torch.device('cpu')\n",
    "print(device)"
   ]
  },
  {
   "cell_type": "code",
   "execution_count": 4,
   "id": "765215b0",
   "metadata": {},
   "outputs": [
    {
     "name": "stderr",
     "output_type": "stream",
     "text": [
      "Using custom data configuration AhmedSSoliman--CoNaLa-Large-51e462b03558a775\n",
      "Found cached dataset csv (C:/Users/Dharneeshkar J/.cache/huggingface/datasets/AhmedSSoliman___csv/AhmedSSoliman--CoNaLa-Large-51e462b03558a775/0.0.0/6b34fb8fcf56f7c8ba51dc895bfa2bfbe43546f190a60fcf74bb5e8afdcc2317)\n"
     ]
    },
    {
     "data": {
      "application/vnd.jupyter.widget-view+json": {
       "model_id": "7a5a74f474ab4f8395122644c0cd9764",
       "version_major": 2,
       "version_minor": 0
      },
      "text/plain": [
       "  0%|          | 0/3 [00:00<?, ?it/s]"
      ]
     },
     "metadata": {},
     "output_type": "display_data"
    }
   ],
   "source": [
    "# Loading CoNaLa Dataset\n",
    "\n",
    "data= load_dataset(\"AhmedSSoliman/CoNaLa-Large\")\n"
   ]
  },
  {
   "cell_type": "code",
   "execution_count": 5,
   "id": "b8c6b64f",
   "metadata": {},
   "outputs": [
    {
     "data": {
      "text/plain": [
       "DatasetDict({\n",
       "    train: Dataset({\n",
       "        features: ['intent', 'snippet'],\n",
       "        num_rows: 24687\n",
       "    })\n",
       "    test: Dataset({\n",
       "        features: ['intent', 'snippet'],\n",
       "        num_rows: 500\n",
       "    })\n",
       "    validation: Dataset({\n",
       "        features: ['intent', 'snippet'],\n",
       "        num_rows: 1237\n",
       "    })\n",
       "})"
      ]
     },
     "execution_count": 5,
     "metadata": {},
     "output_type": "execute_result"
    }
   ],
   "source": [
    "data"
   ]
  },
  {
   "cell_type": "code",
   "execution_count": 6,
   "id": "a301ac6f",
   "metadata": {},
   "outputs": [],
   "source": [
    "trainData= data[\"train\"]\n",
    "valData = data[\"validation\"]\n",
    "testData = data[\"test\"]"
   ]
  },
  {
   "cell_type": "code",
   "execution_count": 7,
   "id": "fd75a04c",
   "metadata": {},
   "outputs": [],
   "source": [
    "from transformers import RobertaTokenizer, T5ForConditionalGeneration\n",
    "\n",
    "tokenizer = RobertaTokenizer.from_pretrained('Salesforce/codet5-small')\n",
    "model = T5ForConditionalGeneration.from_pretrained('Salesforce/codet5-small')\n",
    "model.config.early_stopping = True\n",
    "\n",
    "model.config.encoder_layerdrop = 0.2\n",
    "model.config.decoder_layerdrop = 0.2\n",
    "\n",
    "model.config.dropout = 0.2"
   ]
  },
  {
   "cell_type": "code",
   "execution_count": 8,
   "id": "878ec4d3",
   "metadata": {},
   "outputs": [],
   "source": [
    "\n",
    "\n",
    "# map data correctly\n",
    "def map_to_encoder_decoder_inputs(batch):  \n",
    "    \n",
    "    inputs = tokenizer(str(batch[\"intent\"][0]), return_tensors=\"pt\",truncation=True, padding=True)\n",
    "    outputs = tokenizer(str(batch[\"snippet\"][0]), return_tensors=\"pt\",truncation=True,padding=True)\n",
    "    batch[\"input_ids\"] = inputs.input_ids\n",
    "    batch[\"attention_mask\"] = inputs.attention_mask\n",
    "    batch[\"labels\"] = outputs.input_ids\n",
    "   \n",
    "    return batch"
   ]
  },
  {
   "cell_type": "code",
   "execution_count": 9,
   "id": "c7a128a3",
   "metadata": {},
   "outputs": [
    {
     "name": "stderr",
     "output_type": "stream",
     "text": [
      "Parameter 'function'=<function map_to_encoder_decoder_inputs at 0x0000023AAF4C14C0> of the transform datasets.arrow_dataset.Dataset._map_single couldn't be hashed properly, a random hash was used instead. Make sure your transforms and parameters are serializable with pickle or dill for the dataset fingerprinting and caching to work. If you reuse this transform, the caching mechanism will consider it to be different from the previous calls and recompute everything. This warning is only showed once. Subsequent hashing failures won't be showed.\n"
     ]
    },
    {
     "data": {
      "application/vnd.jupyter.widget-view+json": {
       "model_id": "e6a06424275a48eb9f29ae8daae3f47a",
       "version_major": 2,
       "version_minor": 0
      },
      "text/plain": [
       "  0%|          | 0/24687 [00:00<?, ?ba/s]"
      ]
     },
     "metadata": {},
     "output_type": "display_data"
    }
   ],
   "source": [
    "train_data = trainData.map(\n",
    "    map_to_encoder_decoder_inputs, batched=True, batch_size=1, remove_columns=['intent', 'snippet' ],\n",
    ")\n"
   ]
  },
  {
   "cell_type": "code",
   "execution_count": 10,
   "id": "0001747f",
   "metadata": {},
   "outputs": [
    {
     "data": {
      "application/vnd.jupyter.widget-view+json": {
       "model_id": "34bc153a801f42118f7713b329f5029a",
       "version_major": 2,
       "version_minor": 0
      },
      "text/plain": [
       "  0%|          | 0/1237 [00:00<?, ?ba/s]"
      ]
     },
     "metadata": {},
     "output_type": "display_data"
    }
   ],
   "source": [
    "val_data = valData.map(\n",
    "    map_to_encoder_decoder_inputs, batched=True, batch_size=1, remove_columns=['intent', 'snippet' ],\n",
    ")\n"
   ]
  },
  {
   "cell_type": "code",
   "execution_count": 11,
   "id": "88ff25bf",
   "metadata": {},
   "outputs": [],
   "source": [
    "import nltk\n",
    "import CodeBLEU\n",
    "# !pip install tree-sitter\n",
    "# !pip install code_bert_score\n",
    "nltk.download(\"punkt\", quiet=True)\n",
    "metric1 = evaluate.load(\"bleu\")\n",
    "metric2 = evaluate.load(\"neulab/python_bleu\")\n",
    "metric4 = evaluate.load(\"idsedykh/codebleu2\")\n",
    "\n",
    "import code_bert_score\n",
    "# pred_results = code_bert_score.score(cands=predictions, refs=refs, lang='python')\n",
    "def compute_metrics(eval_preds):\n",
    "    preds, labels = eval_preds\n",
    "    labels = np.where(labels != -100, labels, tokenizer.pad_token_id)\n",
    "    preds = np.where(preds != -100, preds, tokenizer.pad_token_id)\n",
    "    decoded_preds = tokenizer.batch_decode(preds, skip_special_tokens=True)\n",
    "    decoded_labels = tokenizer.batch_decode(labels, skip_special_tokens=True)\n",
    "    m1 = metric1.compute(predictions=decoded_preds, references=decoded_labels)\n",
    "    m2= metric2.compute(predictions=decoded_preds, references=decoded_labels)\n",
    "    m3 = code_bert_score.score(cands=decoded_preds, refs=decoded_labels, lang='python')\n",
    "#     m4= metric4.compute(predictions=decoded_preds, references=decoded_labels)\n",
    "#     CodeBLEU.calc_code_bleu(hyp=decoded_preds , refs=decoded_labels , lang='python')\n",
    "    return {\n",
    "                'BLEU'                  : m1['bleu'] * 100,\n",
    "                'BLEU-Unigram-Precision': 100 * m1['precisions'][0],\n",
    "                'BLEU-Bigram-Precision' : 100 * m1['precisions'][1],\n",
    "                'Python-BLEU' : m2['bleu_score'],\n",
    "                'Code-BERT-SCORE-Precision' : m3[0].mean(),\n",
    "                'Code-BERT-SCORE-Recall' : m3[1].mean(),\n",
    "                'Code-BERT-SCORE-F1': m3[2].mean(),\n",
    "              \n",
    "              \n",
    "            }\n",
    "    "
   ]
  },
  {
   "cell_type": "code",
   "execution_count": 12,
   "id": "0842764c",
   "metadata": {},
   "outputs": [],
   "source": [
    "data_collator = transformers.DataCollatorForSeq2Seq(tokenizer=tokenizer,padding=True, model = model)"
   ]
  },
  {
   "cell_type": "code",
   "execution_count": 13,
   "id": "cb41c692",
   "metadata": {},
   "outputs": [],
   "source": [
    "import ml_collections\n",
    "def trainingArgs(logging_dir, label_names = None):\n",
    "    if label_names is None:\n",
    "        label_names = ['labels']\n",
    "    _config = ml_collections.ConfigDict()\n",
    "    _config.output_dir = logging_dir\n",
    "    _config.evaluation_strategy = \"epoch\"\n",
    "    _config.save_strategy = \"epoch\"\n",
    "    _config.per_device_train_batch_size = 2\n",
    "    _config.per_device_eval_batch_size =2\n",
    "    _config.predict_with_generate=True\n",
    "    _config.logging_dir = logging_dir\n",
    "    _config.save_total_limit = 2\n",
    "    _config.learning_rate = 5e-5\n",
    "    _config.num_train_epochs = 30\n",
    "    _config.dataloader_num_workers = 0\n",
    "    _config.label_names = label_names\n",
    "    _config.no_cuda = False\n",
    "    _config.load_best_model_at_end = True\n",
    "    _config.group_by_length =True\n",
    "    _config.warmup_ratio = 0.05\n",
    "    _config.optim = \"adamw_torch\"\n",
    "   \n",
    "    _config.logging_strategy='epoch'\n",
    "    _config.report_to=\"wandb\"\n",
    "    return _config  "
   ]
  },
  {
   "cell_type": "code",
   "execution_count": 14,
   "id": "6e932f69",
   "metadata": {},
   "outputs": [],
   "source": [
    "args_dict = trainingArgs(\"./Exp_final10_CodeT5-small+config/\")\n",
    "training_args = transformers.Seq2SeqTrainingArguments(**args_dict)\n",
    "training_args.predict_with_generate= True"
   ]
  },
  {
   "cell_type": "code",
   "execution_count": 15,
   "id": "0a3a71d9",
   "metadata": {},
   "outputs": [],
   "source": [
    "trainer = transformers.Seq2SeqTrainer(\n",
    "    model=model,\n",
    "    args=training_args,\n",
    "    callbacks=[EarlyStoppingCallback(early_stopping_patience=3)],\n",
    "    train_dataset=train_data,\n",
    "    eval_dataset=val_data,\n",
    "    data_collator=data_collator,\n",
    "    tokenizer=tokenizer,\n",
    "    compute_metrics = compute_metrics,\n",
    "   \n",
    ")"
   ]
  },
  {
   "cell_type": "code",
   "execution_count": 16,
   "id": "6804ec81",
   "metadata": {},
   "outputs": [
    {
     "name": "stderr",
     "output_type": "stream",
     "text": [
      "INFO\n",
      "WARN\n"
     ]
    }
   ],
   "source": [
    "from transformers.utils import logging\n",
    "\n",
    "logging.set_verbosity_info()\n",
    "logger = logging.get_logger(\"transformers\")\n",
    "logger.info(\"INFO\")\n",
    "logger.warning(\"WARN\")"
   ]
  },
  {
   "cell_type": "code",
   "execution_count": 17,
   "id": "8624dcf6",
   "metadata": {
    "scrolled": false
   },
   "outputs": [
    {
     "name": "stderr",
     "output_type": "stream",
     "text": [
      "***** Running training *****\n",
      "  Num examples = 24687\n",
      "  Num Epochs = 30\n",
      "  Instantaneous batch size per device = 2\n",
      "  Total train batch size (w. parallel, distributed & accumulation) = 2\n",
      "  Gradient Accumulation steps = 1\n",
      "  Total optimization steps = 370320\n",
      "  Number of trainable parameters = 60492288\n",
      "Automatic Weights & Biases logging enabled, to disable set os.environ[\"WANDB_DISABLED\"] = \"true\"\n",
      "\u001b[34m\u001b[1mwandb\u001b[0m: Currently logged in as: \u001b[33mdharneeshkar\u001b[0m. Use \u001b[1m`wandb login --relogin`\u001b[0m to force relogin\n"
     ]
    },
    {
     "data": {
      "text/html": [
       "wandb version 0.15.0 is available!  To upgrade, please run:\n",
       " $ pip install wandb --upgrade"
      ],
      "text/plain": [
       "<IPython.core.display.HTML object>"
      ]
     },
     "metadata": {},
     "output_type": "display_data"
    },
    {
     "data": {
      "text/html": [
       "Tracking run with wandb version 0.14.2"
      ],
      "text/plain": [
       "<IPython.core.display.HTML object>"
      ]
     },
     "metadata": {},
     "output_type": "display_data"
    },
    {
     "data": {
      "text/html": [
       "Run data is saved locally in <code>C:\\Users\\Dharneeshkar J\\Desktop\\Code Generation\\wandb\\run-20230423_114155-hw7n8ulz</code>"
      ],
      "text/plain": [
       "<IPython.core.display.HTML object>"
      ]
     },
     "metadata": {},
     "output_type": "display_data"
    },
    {
     "data": {
      "text/html": [
       "Syncing run <strong><a href='https://wandb.ai/dharneeshkar/code_gen_codeT5_small_config/runs/hw7n8ulz' target=\"_blank\">./Exp_final10_CodeT5-small+config/</a></strong> to <a href='https://wandb.ai/dharneeshkar/code_gen_codeT5_small_config' target=\"_blank\">Weights & Biases</a> (<a href='https://wandb.me/run' target=\"_blank\">docs</a>)<br/>"
      ],
      "text/plain": [
       "<IPython.core.display.HTML object>"
      ]
     },
     "metadata": {},
     "output_type": "display_data"
    },
    {
     "data": {
      "text/html": [
       " View project at <a href='https://wandb.ai/dharneeshkar/code_gen_codeT5_small_config' target=\"_blank\">https://wandb.ai/dharneeshkar/code_gen_codeT5_small_config</a>"
      ],
      "text/plain": [
       "<IPython.core.display.HTML object>"
      ]
     },
     "metadata": {},
     "output_type": "display_data"
    },
    {
     "data": {
      "text/html": [
       " View run at <a href='https://wandb.ai/dharneeshkar/code_gen_codeT5_small_config/runs/hw7n8ulz' target=\"_blank\">https://wandb.ai/dharneeshkar/code_gen_codeT5_small_config/runs/hw7n8ulz</a>"
      ],
      "text/plain": [
       "<IPython.core.display.HTML object>"
      ]
     },
     "metadata": {},
     "output_type": "display_data"
    },
    {
     "name": "stderr",
     "output_type": "stream",
     "text": [
      "***** Running Evaluation *****\n",
      "  Num examples = 1237\n",
      "  Batch size = 2\n"
     ]
    },
    {
     "name": "stdout",
     "output_type": "stream",
     "text": [
      "{'loss': 2.3847, 'learning_rate': 3.3333333333333335e-05, 'epoch': 1.0}\n"
     ]
    },
    {
     "name": "stderr",
     "output_type": "stream",
     "text": [
      "loading file vocab.json from cache at C:\\Users\\Dharneeshkar J/.cache\\huggingface\\hub\\models--neulab--codebert-python\\snapshots\\0375ce6e7f53d21a181fa3d7485b1cd9a9e8c13f\\vocab.json\n",
      "loading file merges.txt from cache at C:\\Users\\Dharneeshkar J/.cache\\huggingface\\hub\\models--neulab--codebert-python\\snapshots\\0375ce6e7f53d21a181fa3d7485b1cd9a9e8c13f\\merges.txt\n",
      "loading file tokenizer.json from cache at C:\\Users\\Dharneeshkar J/.cache\\huggingface\\hub\\models--neulab--codebert-python\\snapshots\\0375ce6e7f53d21a181fa3d7485b1cd9a9e8c13f\\tokenizer.json\n",
      "loading file added_tokens.json from cache at None\n",
      "loading file special_tokens_map.json from cache at C:\\Users\\Dharneeshkar J/.cache\\huggingface\\hub\\models--neulab--codebert-python\\snapshots\\0375ce6e7f53d21a181fa3d7485b1cd9a9e8c13f\\special_tokens_map.json\n",
      "loading file tokenizer_config.json from cache at C:\\Users\\Dharneeshkar J/.cache\\huggingface\\hub\\models--neulab--codebert-python\\snapshots\\0375ce6e7f53d21a181fa3d7485b1cd9a9e8c13f\\tokenizer_config.json\n",
      "loading configuration file config.json from cache at C:\\Users\\Dharneeshkar J/.cache\\huggingface\\hub\\models--neulab--codebert-python\\snapshots\\0375ce6e7f53d21a181fa3d7485b1cd9a9e8c13f\\config.json\n",
      "Model config RobertaConfig {\n",
      "  \"_name_or_path\": \"neulab/codebert-python\",\n",
      "  \"architectures\": [\n",
      "    \"RobertaForMaskedLM\"\n",
      "  ],\n",
      "  \"attention_probs_dropout_prob\": 0.1,\n",
      "  \"bos_token_id\": 0,\n",
      "  \"classifier_dropout\": null,\n",
      "  \"eos_token_id\": 2,\n",
      "  \"hidden_act\": \"gelu\",\n",
      "  \"hidden_dropout_prob\": 0.1,\n",
      "  \"hidden_size\": 768,\n",
      "  \"initializer_range\": 0.02,\n",
      "  \"intermediate_size\": 3072,\n",
      "  \"layer_norm_eps\": 1e-05,\n",
      "  \"max_position_embeddings\": 514,\n",
      "  \"model_type\": \"roberta\",\n",
      "  \"num_attention_heads\": 12,\n",
      "  \"num_hidden_layers\": 12,\n",
      "  \"output_past\": true,\n",
      "  \"pad_token_id\": 1,\n",
      "  \"position_embedding_type\": \"absolute\",\n",
      "  \"torch_dtype\": \"float32\",\n",
      "  \"transformers_version\": \"4.24.0\",\n",
      "  \"type_vocab_size\": 1,\n",
      "  \"use_cache\": true,\n",
      "  \"vocab_size\": 50265\n",
      "}\n",
      "\n",
      "loading weights file pytorch_model.bin from cache at C:\\Users\\Dharneeshkar J/.cache\\huggingface\\hub\\models--neulab--codebert-python\\snapshots\\0375ce6e7f53d21a181fa3d7485b1cd9a9e8c13f\\pytorch_model.bin\n",
      "Some weights of the model checkpoint at neulab/codebert-python were not used when initializing RobertaModel: ['lm_head.layer_norm.bias', 'lm_head.bias', 'lm_head.dense.weight', 'lm_head.dense.bias', 'lm_head.layer_norm.weight']\n",
      "- This IS expected if you are initializing RobertaModel from the checkpoint of a model trained on another task or with another architecture (e.g. initializing a BertForSequenceClassification model from a BertForPreTraining model).\n",
      "- This IS NOT expected if you are initializing RobertaModel from the checkpoint of a model that you expect to be exactly identical (initializing a BertForSequenceClassification model from a BertForSequenceClassification model).\n",
      "Some weights of RobertaModel were not initialized from the model checkpoint at neulab/codebert-python and are newly initialized: ['roberta.pooler.dense.weight', 'roberta.pooler.dense.bias']\n",
      "You should probably TRAIN this model on a down-stream task to be able to use it for predictions and inference.\n",
      "Saving model checkpoint to ./Exp_final10_CodeT5-small+config/checkpoint-12344\n",
      "Configuration saved in ./Exp_final10_CodeT5-small+config/checkpoint-12344\\config.json\n"
     ]
    },
    {
     "name": "stdout",
     "output_type": "stream",
     "text": [
      "{'eval_loss': 1.6648130416870117, 'eval_BLEU': 15.474104561248597, 'eval_BLEU-Unigram-Precision': 47.843064336184455, 'eval_BLEU-Bigram-Precision': 22.481036450292006, 'eval_Python-BLEU': 0.16610400126155941, 'eval_Code-BERT-SCORE-Precision': 0.7828806042671204, 'eval_Code-BERT-SCORE-Recall': 0.771892249584198, 'eval_Code-BERT-SCORE-F1': 0.776421070098877, 'eval_runtime': 126.8995, 'eval_samples_per_second': 9.748, 'eval_steps_per_second': 4.878, 'epoch': 1.0}\n"
     ]
    },
    {
     "name": "stderr",
     "output_type": "stream",
     "text": [
      "Model weights saved in ./Exp_final10_CodeT5-small+config/checkpoint-12344\\pytorch_model.bin\n",
      "tokenizer config file saved in ./Exp_final10_CodeT5-small+config/checkpoint-12344\\tokenizer_config.json\n",
      "Special tokens file saved in ./Exp_final10_CodeT5-small+config/checkpoint-12344\\special_tokens_map.json\n",
      "***** Running Evaluation *****\n",
      "  Num examples = 1237\n",
      "  Batch size = 2\n"
     ]
    },
    {
     "name": "stdout",
     "output_type": "stream",
     "text": [
      "{'loss': 1.6293, 'learning_rate': 4.912280701754386e-05, 'epoch': 2.0}\n"
     ]
    },
    {
     "name": "stderr",
     "output_type": "stream",
     "text": [
      "loading file vocab.json from cache at C:\\Users\\Dharneeshkar J/.cache\\huggingface\\hub\\models--neulab--codebert-python\\snapshots\\0375ce6e7f53d21a181fa3d7485b1cd9a9e8c13f\\vocab.json\n",
      "loading file merges.txt from cache at C:\\Users\\Dharneeshkar J/.cache\\huggingface\\hub\\models--neulab--codebert-python\\snapshots\\0375ce6e7f53d21a181fa3d7485b1cd9a9e8c13f\\merges.txt\n",
      "loading file tokenizer.json from cache at C:\\Users\\Dharneeshkar J/.cache\\huggingface\\hub\\models--neulab--codebert-python\\snapshots\\0375ce6e7f53d21a181fa3d7485b1cd9a9e8c13f\\tokenizer.json\n",
      "loading file added_tokens.json from cache at None\n",
      "loading file special_tokens_map.json from cache at C:\\Users\\Dharneeshkar J/.cache\\huggingface\\hub\\models--neulab--codebert-python\\snapshots\\0375ce6e7f53d21a181fa3d7485b1cd9a9e8c13f\\special_tokens_map.json\n",
      "loading file tokenizer_config.json from cache at C:\\Users\\Dharneeshkar J/.cache\\huggingface\\hub\\models--neulab--codebert-python\\snapshots\\0375ce6e7f53d21a181fa3d7485b1cd9a9e8c13f\\tokenizer_config.json\n",
      "loading configuration file config.json from cache at C:\\Users\\Dharneeshkar J/.cache\\huggingface\\hub\\models--neulab--codebert-python\\snapshots\\0375ce6e7f53d21a181fa3d7485b1cd9a9e8c13f\\config.json\n",
      "Model config RobertaConfig {\n",
      "  \"_name_or_path\": \"neulab/codebert-python\",\n",
      "  \"architectures\": [\n",
      "    \"RobertaForMaskedLM\"\n",
      "  ],\n",
      "  \"attention_probs_dropout_prob\": 0.1,\n",
      "  \"bos_token_id\": 0,\n",
      "  \"classifier_dropout\": null,\n",
      "  \"eos_token_id\": 2,\n",
      "  \"hidden_act\": \"gelu\",\n",
      "  \"hidden_dropout_prob\": 0.1,\n",
      "  \"hidden_size\": 768,\n",
      "  \"initializer_range\": 0.02,\n",
      "  \"intermediate_size\": 3072,\n",
      "  \"layer_norm_eps\": 1e-05,\n",
      "  \"max_position_embeddings\": 514,\n",
      "  \"model_type\": \"roberta\",\n",
      "  \"num_attention_heads\": 12,\n",
      "  \"num_hidden_layers\": 12,\n",
      "  \"output_past\": true,\n",
      "  \"pad_token_id\": 1,\n",
      "  \"position_embedding_type\": \"absolute\",\n",
      "  \"torch_dtype\": \"float32\",\n",
      "  \"transformers_version\": \"4.24.0\",\n",
      "  \"type_vocab_size\": 1,\n",
      "  \"use_cache\": true,\n",
      "  \"vocab_size\": 50265\n",
      "}\n",
      "\n",
      "loading weights file pytorch_model.bin from cache at C:\\Users\\Dharneeshkar J/.cache\\huggingface\\hub\\models--neulab--codebert-python\\snapshots\\0375ce6e7f53d21a181fa3d7485b1cd9a9e8c13f\\pytorch_model.bin\n",
      "Some weights of the model checkpoint at neulab/codebert-python were not used when initializing RobertaModel: ['lm_head.layer_norm.bias', 'lm_head.bias', 'lm_head.dense.weight', 'lm_head.dense.bias', 'lm_head.layer_norm.weight']\n",
      "- This IS expected if you are initializing RobertaModel from the checkpoint of a model trained on another task or with another architecture (e.g. initializing a BertForSequenceClassification model from a BertForPreTraining model).\n",
      "- This IS NOT expected if you are initializing RobertaModel from the checkpoint of a model that you expect to be exactly identical (initializing a BertForSequenceClassification model from a BertForSequenceClassification model).\n",
      "Some weights of RobertaModel were not initialized from the model checkpoint at neulab/codebert-python and are newly initialized: ['roberta.pooler.dense.weight', 'roberta.pooler.dense.bias']\n",
      "You should probably TRAIN this model on a down-stream task to be able to use it for predictions and inference.\n",
      "Saving model checkpoint to ./Exp_final10_CodeT5-small+config/checkpoint-24688\n",
      "Configuration saved in ./Exp_final10_CodeT5-small+config/checkpoint-24688\\config.json\n"
     ]
    },
    {
     "name": "stdout",
     "output_type": "stream",
     "text": [
      "{'eval_loss': 1.3636388778686523, 'eval_BLEU': 19.87447534780896, 'eval_BLEU-Unigram-Precision': 52.18437615697889, 'eval_BLEU-Bigram-Precision': 27.937737991849822, 'eval_Python-BLEU': 0.2084547722327544, 'eval_Code-BERT-SCORE-Precision': 0.7996520400047302, 'eval_Code-BERT-SCORE-Recall': 0.7834421396255493, 'eval_Code-BERT-SCORE-F1': 0.790591835975647, 'eval_runtime': 127.7215, 'eval_samples_per_second': 9.685, 'eval_steps_per_second': 4.846, 'epoch': 2.0}\n"
     ]
    },
    {
     "name": "stderr",
     "output_type": "stream",
     "text": [
      "Model weights saved in ./Exp_final10_CodeT5-small+config/checkpoint-24688\\pytorch_model.bin\n",
      "tokenizer config file saved in ./Exp_final10_CodeT5-small+config/checkpoint-24688\\tokenizer_config.json\n",
      "Special tokens file saved in ./Exp_final10_CodeT5-small+config/checkpoint-24688\\special_tokens_map.json\n",
      "***** Running Evaluation *****\n",
      "  Num examples = 1237\n",
      "  Batch size = 2\n"
     ]
    },
    {
     "name": "stdout",
     "output_type": "stream",
     "text": [
      "{'loss': 1.284, 'learning_rate': 4.736842105263158e-05, 'epoch': 3.0}\n"
     ]
    },
    {
     "name": "stderr",
     "output_type": "stream",
     "text": [
      "loading file vocab.json from cache at C:\\Users\\Dharneeshkar J/.cache\\huggingface\\hub\\models--neulab--codebert-python\\snapshots\\0375ce6e7f53d21a181fa3d7485b1cd9a9e8c13f\\vocab.json\n",
      "loading file merges.txt from cache at C:\\Users\\Dharneeshkar J/.cache\\huggingface\\hub\\models--neulab--codebert-python\\snapshots\\0375ce6e7f53d21a181fa3d7485b1cd9a9e8c13f\\merges.txt\n",
      "loading file tokenizer.json from cache at C:\\Users\\Dharneeshkar J/.cache\\huggingface\\hub\\models--neulab--codebert-python\\snapshots\\0375ce6e7f53d21a181fa3d7485b1cd9a9e8c13f\\tokenizer.json\n",
      "loading file added_tokens.json from cache at None\n",
      "loading file special_tokens_map.json from cache at C:\\Users\\Dharneeshkar J/.cache\\huggingface\\hub\\models--neulab--codebert-python\\snapshots\\0375ce6e7f53d21a181fa3d7485b1cd9a9e8c13f\\special_tokens_map.json\n",
      "loading file tokenizer_config.json from cache at C:\\Users\\Dharneeshkar J/.cache\\huggingface\\hub\\models--neulab--codebert-python\\snapshots\\0375ce6e7f53d21a181fa3d7485b1cd9a9e8c13f\\tokenizer_config.json\n",
      "loading configuration file config.json from cache at C:\\Users\\Dharneeshkar J/.cache\\huggingface\\hub\\models--neulab--codebert-python\\snapshots\\0375ce6e7f53d21a181fa3d7485b1cd9a9e8c13f\\config.json\n",
      "Model config RobertaConfig {\n",
      "  \"_name_or_path\": \"neulab/codebert-python\",\n",
      "  \"architectures\": [\n",
      "    \"RobertaForMaskedLM\"\n",
      "  ],\n",
      "  \"attention_probs_dropout_prob\": 0.1,\n",
      "  \"bos_token_id\": 0,\n",
      "  \"classifier_dropout\": null,\n",
      "  \"eos_token_id\": 2,\n",
      "  \"hidden_act\": \"gelu\",\n",
      "  \"hidden_dropout_prob\": 0.1,\n",
      "  \"hidden_size\": 768,\n",
      "  \"initializer_range\": 0.02,\n",
      "  \"intermediate_size\": 3072,\n",
      "  \"layer_norm_eps\": 1e-05,\n",
      "  \"max_position_embeddings\": 514,\n",
      "  \"model_type\": \"roberta\",\n",
      "  \"num_attention_heads\": 12,\n",
      "  \"num_hidden_layers\": 12,\n",
      "  \"output_past\": true,\n",
      "  \"pad_token_id\": 1,\n",
      "  \"position_embedding_type\": \"absolute\",\n",
      "  \"torch_dtype\": \"float32\",\n",
      "  \"transformers_version\": \"4.24.0\",\n",
      "  \"type_vocab_size\": 1,\n",
      "  \"use_cache\": true,\n",
      "  \"vocab_size\": 50265\n",
      "}\n",
      "\n",
      "loading weights file pytorch_model.bin from cache at C:\\Users\\Dharneeshkar J/.cache\\huggingface\\hub\\models--neulab--codebert-python\\snapshots\\0375ce6e7f53d21a181fa3d7485b1cd9a9e8c13f\\pytorch_model.bin\n",
      "Some weights of the model checkpoint at neulab/codebert-python were not used when initializing RobertaModel: ['lm_head.layer_norm.bias', 'lm_head.bias', 'lm_head.dense.weight', 'lm_head.dense.bias', 'lm_head.layer_norm.weight']\n",
      "- This IS expected if you are initializing RobertaModel from the checkpoint of a model trained on another task or with another architecture (e.g. initializing a BertForSequenceClassification model from a BertForPreTraining model).\n",
      "- This IS NOT expected if you are initializing RobertaModel from the checkpoint of a model that you expect to be exactly identical (initializing a BertForSequenceClassification model from a BertForSequenceClassification model).\n",
      "Some weights of RobertaModel were not initialized from the model checkpoint at neulab/codebert-python and are newly initialized: ['roberta.pooler.dense.weight', 'roberta.pooler.dense.bias']\n",
      "You should probably TRAIN this model on a down-stream task to be able to use it for predictions and inference.\n",
      "Saving model checkpoint to ./Exp_final10_CodeT5-small+config/checkpoint-37032\n",
      "Configuration saved in ./Exp_final10_CodeT5-small+config/checkpoint-37032\\config.json\n"
     ]
    },
    {
     "name": "stdout",
     "output_type": "stream",
     "text": [
      "{'eval_loss': 1.1758246421813965, 'eval_BLEU': 24.27147003432221, 'eval_BLEU-Unigram-Precision': 57.81544256120527, 'eval_BLEU-Bigram-Precision': 35.21395283152097, 'eval_Python-BLEU': 0.24420183794325462, 'eval_Code-BERT-SCORE-Precision': 0.819381833076477, 'eval_Code-BERT-SCORE-Recall': 0.7992056608200073, 'eval_Code-BERT-SCORE-F1': 0.8082489371299744, 'eval_runtime': 161.9736, 'eval_samples_per_second': 7.637, 'eval_steps_per_second': 3.822, 'epoch': 3.0}\n"
     ]
    },
    {
     "name": "stderr",
     "output_type": "stream",
     "text": [
      "Model weights saved in ./Exp_final10_CodeT5-small+config/checkpoint-37032\\pytorch_model.bin\n",
      "tokenizer config file saved in ./Exp_final10_CodeT5-small+config/checkpoint-37032\\tokenizer_config.json\n",
      "Special tokens file saved in ./Exp_final10_CodeT5-small+config/checkpoint-37032\\special_tokens_map.json\n",
      "Deleting older checkpoint [Exp_final10_CodeT5-small+config\\checkpoint-12344] due to args.save_total_limit\n",
      "***** Running Evaluation *****\n",
      "  Num examples = 1237\n",
      "  Batch size = 2\n"
     ]
    },
    {
     "name": "stdout",
     "output_type": "stream",
     "text": [
      "{'loss': 1.0443, 'learning_rate': 4.56140350877193e-05, 'epoch': 4.0}\n"
     ]
    },
    {
     "name": "stderr",
     "output_type": "stream",
     "text": [
      "loading file vocab.json from cache at C:\\Users\\Dharneeshkar J/.cache\\huggingface\\hub\\models--neulab--codebert-python\\snapshots\\0375ce6e7f53d21a181fa3d7485b1cd9a9e8c13f\\vocab.json\n",
      "loading file merges.txt from cache at C:\\Users\\Dharneeshkar J/.cache\\huggingface\\hub\\models--neulab--codebert-python\\snapshots\\0375ce6e7f53d21a181fa3d7485b1cd9a9e8c13f\\merges.txt\n",
      "loading file tokenizer.json from cache at C:\\Users\\Dharneeshkar J/.cache\\huggingface\\hub\\models--neulab--codebert-python\\snapshots\\0375ce6e7f53d21a181fa3d7485b1cd9a9e8c13f\\tokenizer.json\n",
      "loading file added_tokens.json from cache at None\n",
      "loading file special_tokens_map.json from cache at C:\\Users\\Dharneeshkar J/.cache\\huggingface\\hub\\models--neulab--codebert-python\\snapshots\\0375ce6e7f53d21a181fa3d7485b1cd9a9e8c13f\\special_tokens_map.json\n",
      "loading file tokenizer_config.json from cache at C:\\Users\\Dharneeshkar J/.cache\\huggingface\\hub\\models--neulab--codebert-python\\snapshots\\0375ce6e7f53d21a181fa3d7485b1cd9a9e8c13f\\tokenizer_config.json\n",
      "loading configuration file config.json from cache at C:\\Users\\Dharneeshkar J/.cache\\huggingface\\hub\\models--neulab--codebert-python\\snapshots\\0375ce6e7f53d21a181fa3d7485b1cd9a9e8c13f\\config.json\n",
      "Model config RobertaConfig {\n",
      "  \"_name_or_path\": \"neulab/codebert-python\",\n",
      "  \"architectures\": [\n",
      "    \"RobertaForMaskedLM\"\n",
      "  ],\n",
      "  \"attention_probs_dropout_prob\": 0.1,\n",
      "  \"bos_token_id\": 0,\n",
      "  \"classifier_dropout\": null,\n",
      "  \"eos_token_id\": 2,\n",
      "  \"hidden_act\": \"gelu\",\n",
      "  \"hidden_dropout_prob\": 0.1,\n",
      "  \"hidden_size\": 768,\n",
      "  \"initializer_range\": 0.02,\n",
      "  \"intermediate_size\": 3072,\n",
      "  \"layer_norm_eps\": 1e-05,\n",
      "  \"max_position_embeddings\": 514,\n",
      "  \"model_type\": \"roberta\",\n",
      "  \"num_attention_heads\": 12,\n",
      "  \"num_hidden_layers\": 12,\n",
      "  \"output_past\": true,\n",
      "  \"pad_token_id\": 1,\n",
      "  \"position_embedding_type\": \"absolute\",\n",
      "  \"torch_dtype\": \"float32\",\n",
      "  \"transformers_version\": \"4.24.0\",\n",
      "  \"type_vocab_size\": 1,\n",
      "  \"use_cache\": true,\n",
      "  \"vocab_size\": 50265\n",
      "}\n",
      "\n",
      "loading weights file pytorch_model.bin from cache at C:\\Users\\Dharneeshkar J/.cache\\huggingface\\hub\\models--neulab--codebert-python\\snapshots\\0375ce6e7f53d21a181fa3d7485b1cd9a9e8c13f\\pytorch_model.bin\n",
      "Some weights of the model checkpoint at neulab/codebert-python were not used when initializing RobertaModel: ['lm_head.layer_norm.bias', 'lm_head.bias', 'lm_head.dense.weight', 'lm_head.dense.bias', 'lm_head.layer_norm.weight']\n",
      "- This IS expected if you are initializing RobertaModel from the checkpoint of a model trained on another task or with another architecture (e.g. initializing a BertForSequenceClassification model from a BertForPreTraining model).\n",
      "- This IS NOT expected if you are initializing RobertaModel from the checkpoint of a model that you expect to be exactly identical (initializing a BertForSequenceClassification model from a BertForSequenceClassification model).\n",
      "Some weights of RobertaModel were not initialized from the model checkpoint at neulab/codebert-python and are newly initialized: ['roberta.pooler.dense.weight', 'roberta.pooler.dense.bias']\n",
      "You should probably TRAIN this model on a down-stream task to be able to use it for predictions and inference.\n",
      "Saving model checkpoint to ./Exp_final10_CodeT5-small+config/checkpoint-49376\n",
      "Configuration saved in ./Exp_final10_CodeT5-small+config/checkpoint-49376\\config.json\n"
     ]
    },
    {
     "name": "stdout",
     "output_type": "stream",
     "text": [
      "{'eval_loss': 1.0319616794586182, 'eval_BLEU': 28.878250240677684, 'eval_BLEU-Unigram-Precision': 59.52675151365378, 'eval_BLEU-Bigram-Precision': 38.597899525051844, 'eval_Python-BLEU': 0.29678913662821815, 'eval_Code-BERT-SCORE-Precision': 0.8267205953598022, 'eval_Code-BERT-SCORE-Recall': 0.8108943104743958, 'eval_Code-BERT-SCORE-F1': 0.8178608417510986, 'eval_runtime': 128.0789, 'eval_samples_per_second': 9.658, 'eval_steps_per_second': 4.833, 'epoch': 4.0}\n"
     ]
    },
    {
     "name": "stderr",
     "output_type": "stream",
     "text": [
      "Model weights saved in ./Exp_final10_CodeT5-small+config/checkpoint-49376\\pytorch_model.bin\n",
      "tokenizer config file saved in ./Exp_final10_CodeT5-small+config/checkpoint-49376\\tokenizer_config.json\n",
      "Special tokens file saved in ./Exp_final10_CodeT5-small+config/checkpoint-49376\\special_tokens_map.json\n",
      "Deleting older checkpoint [Exp_final10_CodeT5-small+config\\checkpoint-24688] due to args.save_total_limit\n",
      "***** Running Evaluation *****\n",
      "  Num examples = 1237\n",
      "  Batch size = 2\n"
     ]
    },
    {
     "name": "stdout",
     "output_type": "stream",
     "text": [
      "{'loss': 0.8603, 'learning_rate': 4.3859649122807014e-05, 'epoch': 5.0}\n"
     ]
    },
    {
     "name": "stderr",
     "output_type": "stream",
     "text": [
      "loading file vocab.json from cache at C:\\Users\\Dharneeshkar J/.cache\\huggingface\\hub\\models--neulab--codebert-python\\snapshots\\0375ce6e7f53d21a181fa3d7485b1cd9a9e8c13f\\vocab.json\n",
      "loading file merges.txt from cache at C:\\Users\\Dharneeshkar J/.cache\\huggingface\\hub\\models--neulab--codebert-python\\snapshots\\0375ce6e7f53d21a181fa3d7485b1cd9a9e8c13f\\merges.txt\n",
      "loading file tokenizer.json from cache at C:\\Users\\Dharneeshkar J/.cache\\huggingface\\hub\\models--neulab--codebert-python\\snapshots\\0375ce6e7f53d21a181fa3d7485b1cd9a9e8c13f\\tokenizer.json\n",
      "loading file added_tokens.json from cache at None\n",
      "loading file special_tokens_map.json from cache at C:\\Users\\Dharneeshkar J/.cache\\huggingface\\hub\\models--neulab--codebert-python\\snapshots\\0375ce6e7f53d21a181fa3d7485b1cd9a9e8c13f\\special_tokens_map.json\n",
      "loading file tokenizer_config.json from cache at C:\\Users\\Dharneeshkar J/.cache\\huggingface\\hub\\models--neulab--codebert-python\\snapshots\\0375ce6e7f53d21a181fa3d7485b1cd9a9e8c13f\\tokenizer_config.json\n",
      "loading configuration file config.json from cache at C:\\Users\\Dharneeshkar J/.cache\\huggingface\\hub\\models--neulab--codebert-python\\snapshots\\0375ce6e7f53d21a181fa3d7485b1cd9a9e8c13f\\config.json\n",
      "Model config RobertaConfig {\n",
      "  \"_name_or_path\": \"neulab/codebert-python\",\n",
      "  \"architectures\": [\n",
      "    \"RobertaForMaskedLM\"\n",
      "  ],\n",
      "  \"attention_probs_dropout_prob\": 0.1,\n",
      "  \"bos_token_id\": 0,\n",
      "  \"classifier_dropout\": null,\n",
      "  \"eos_token_id\": 2,\n",
      "  \"hidden_act\": \"gelu\",\n",
      "  \"hidden_dropout_prob\": 0.1,\n",
      "  \"hidden_size\": 768,\n",
      "  \"initializer_range\": 0.02,\n",
      "  \"intermediate_size\": 3072,\n",
      "  \"layer_norm_eps\": 1e-05,\n",
      "  \"max_position_embeddings\": 514,\n",
      "  \"model_type\": \"roberta\",\n",
      "  \"num_attention_heads\": 12,\n",
      "  \"num_hidden_layers\": 12,\n",
      "  \"output_past\": true,\n",
      "  \"pad_token_id\": 1,\n",
      "  \"position_embedding_type\": \"absolute\",\n",
      "  \"torch_dtype\": \"float32\",\n",
      "  \"transformers_version\": \"4.24.0\",\n",
      "  \"type_vocab_size\": 1,\n",
      "  \"use_cache\": true,\n",
      "  \"vocab_size\": 50265\n",
      "}\n",
      "\n",
      "loading weights file pytorch_model.bin from cache at C:\\Users\\Dharneeshkar J/.cache\\huggingface\\hub\\models--neulab--codebert-python\\snapshots\\0375ce6e7f53d21a181fa3d7485b1cd9a9e8c13f\\pytorch_model.bin\n",
      "Some weights of the model checkpoint at neulab/codebert-python were not used when initializing RobertaModel: ['lm_head.layer_norm.bias', 'lm_head.bias', 'lm_head.dense.weight', 'lm_head.dense.bias', 'lm_head.layer_norm.weight']\n",
      "- This IS expected if you are initializing RobertaModel from the checkpoint of a model trained on another task or with another architecture (e.g. initializing a BertForSequenceClassification model from a BertForPreTraining model).\n",
      "- This IS NOT expected if you are initializing RobertaModel from the checkpoint of a model that you expect to be exactly identical (initializing a BertForSequenceClassification model from a BertForSequenceClassification model).\n",
      "Some weights of RobertaModel were not initialized from the model checkpoint at neulab/codebert-python and are newly initialized: ['roberta.pooler.dense.weight', 'roberta.pooler.dense.bias']\n",
      "You should probably TRAIN this model on a down-stream task to be able to use it for predictions and inference.\n",
      "Saving model checkpoint to ./Exp_final10_CodeT5-small+config/checkpoint-61720\n",
      "Configuration saved in ./Exp_final10_CodeT5-small+config/checkpoint-61720\\config.json\n"
     ]
    },
    {
     "name": "stdout",
     "output_type": "stream",
     "text": [
      "{'eval_loss': 0.9299136996269226, 'eval_BLEU': 33.37511079451024, 'eval_BLEU-Unigram-Precision': 63.141476542907824, 'eval_BLEU-Bigram-Precision': 43.726839597670725, 'eval_Python-BLEU': 0.3423211542147299, 'eval_Code-BERT-SCORE-Precision': 0.8391121029853821, 'eval_Code-BERT-SCORE-Recall': 0.8229492902755737, 'eval_Code-BERT-SCORE-F1': 0.8301075100898743, 'eval_runtime': 131.8492, 'eval_samples_per_second': 9.382, 'eval_steps_per_second': 4.695, 'epoch': 5.0}\n"
     ]
    },
    {
     "name": "stderr",
     "output_type": "stream",
     "text": [
      "Model weights saved in ./Exp_final10_CodeT5-small+config/checkpoint-61720\\pytorch_model.bin\n",
      "tokenizer config file saved in ./Exp_final10_CodeT5-small+config/checkpoint-61720\\tokenizer_config.json\n",
      "Special tokens file saved in ./Exp_final10_CodeT5-small+config/checkpoint-61720\\special_tokens_map.json\n",
      "Deleting older checkpoint [Exp_final10_CodeT5-small+config\\checkpoint-37032] due to args.save_total_limit\n",
      "***** Running Evaluation *****\n",
      "  Num examples = 1237\n",
      "  Batch size = 2\n"
     ]
    },
    {
     "name": "stdout",
     "output_type": "stream",
     "text": [
      "{'loss': 0.7218, 'learning_rate': 4.210526315789474e-05, 'epoch': 6.0}\n"
     ]
    },
    {
     "name": "stderr",
     "output_type": "stream",
     "text": [
      "loading file vocab.json from cache at C:\\Users\\Dharneeshkar J/.cache\\huggingface\\hub\\models--neulab--codebert-python\\snapshots\\0375ce6e7f53d21a181fa3d7485b1cd9a9e8c13f\\vocab.json\n",
      "loading file merges.txt from cache at C:\\Users\\Dharneeshkar J/.cache\\huggingface\\hub\\models--neulab--codebert-python\\snapshots\\0375ce6e7f53d21a181fa3d7485b1cd9a9e8c13f\\merges.txt\n",
      "loading file tokenizer.json from cache at C:\\Users\\Dharneeshkar J/.cache\\huggingface\\hub\\models--neulab--codebert-python\\snapshots\\0375ce6e7f53d21a181fa3d7485b1cd9a9e8c13f\\tokenizer.json\n",
      "loading file added_tokens.json from cache at None\n",
      "loading file special_tokens_map.json from cache at C:\\Users\\Dharneeshkar J/.cache\\huggingface\\hub\\models--neulab--codebert-python\\snapshots\\0375ce6e7f53d21a181fa3d7485b1cd9a9e8c13f\\special_tokens_map.json\n",
      "loading file tokenizer_config.json from cache at C:\\Users\\Dharneeshkar J/.cache\\huggingface\\hub\\models--neulab--codebert-python\\snapshots\\0375ce6e7f53d21a181fa3d7485b1cd9a9e8c13f\\tokenizer_config.json\n",
      "loading configuration file config.json from cache at C:\\Users\\Dharneeshkar J/.cache\\huggingface\\hub\\models--neulab--codebert-python\\snapshots\\0375ce6e7f53d21a181fa3d7485b1cd9a9e8c13f\\config.json\n",
      "Model config RobertaConfig {\n",
      "  \"_name_or_path\": \"neulab/codebert-python\",\n",
      "  \"architectures\": [\n",
      "    \"RobertaForMaskedLM\"\n",
      "  ],\n",
      "  \"attention_probs_dropout_prob\": 0.1,\n",
      "  \"bos_token_id\": 0,\n",
      "  \"classifier_dropout\": null,\n",
      "  \"eos_token_id\": 2,\n",
      "  \"hidden_act\": \"gelu\",\n",
      "  \"hidden_dropout_prob\": 0.1,\n",
      "  \"hidden_size\": 768,\n",
      "  \"initializer_range\": 0.02,\n",
      "  \"intermediate_size\": 3072,\n",
      "  \"layer_norm_eps\": 1e-05,\n",
      "  \"max_position_embeddings\": 514,\n",
      "  \"model_type\": \"roberta\",\n",
      "  \"num_attention_heads\": 12,\n",
      "  \"num_hidden_layers\": 12,\n",
      "  \"output_past\": true,\n",
      "  \"pad_token_id\": 1,\n",
      "  \"position_embedding_type\": \"absolute\",\n",
      "  \"torch_dtype\": \"float32\",\n",
      "  \"transformers_version\": \"4.24.0\",\n",
      "  \"type_vocab_size\": 1,\n",
      "  \"use_cache\": true,\n",
      "  \"vocab_size\": 50265\n",
      "}\n",
      "\n",
      "loading weights file pytorch_model.bin from cache at C:\\Users\\Dharneeshkar J/.cache\\huggingface\\hub\\models--neulab--codebert-python\\snapshots\\0375ce6e7f53d21a181fa3d7485b1cd9a9e8c13f\\pytorch_model.bin\n",
      "Some weights of the model checkpoint at neulab/codebert-python were not used when initializing RobertaModel: ['lm_head.layer_norm.bias', 'lm_head.bias', 'lm_head.dense.weight', 'lm_head.dense.bias', 'lm_head.layer_norm.weight']\n",
      "- This IS expected if you are initializing RobertaModel from the checkpoint of a model trained on another task or with another architecture (e.g. initializing a BertForSequenceClassification model from a BertForPreTraining model).\n",
      "- This IS NOT expected if you are initializing RobertaModel from the checkpoint of a model that you expect to be exactly identical (initializing a BertForSequenceClassification model from a BertForSequenceClassification model).\n",
      "Some weights of RobertaModel were not initialized from the model checkpoint at neulab/codebert-python and are newly initialized: ['roberta.pooler.dense.weight', 'roberta.pooler.dense.bias']\n",
      "You should probably TRAIN this model on a down-stream task to be able to use it for predictions and inference.\n",
      "Saving model checkpoint to ./Exp_final10_CodeT5-small+config/checkpoint-74064\n",
      "Configuration saved in ./Exp_final10_CodeT5-small+config/checkpoint-74064\\config.json\n"
     ]
    },
    {
     "name": "stdout",
     "output_type": "stream",
     "text": [
      "{'eval_loss': 0.8711016178131104, 'eval_BLEU': 36.55637945961009, 'eval_BLEU-Unigram-Precision': 65.9901900674433, 'eval_BLEU-Bigram-Precision': 47.68791879519671, 'eval_Python-BLEU': 0.3709895126154215, 'eval_Code-BERT-SCORE-Precision': 0.8488858342170715, 'eval_Code-BERT-SCORE-Recall': 0.8328874111175537, 'eval_Code-BERT-SCORE-F1': 0.8399978876113892, 'eval_runtime': 127.4118, 'eval_samples_per_second': 9.709, 'eval_steps_per_second': 4.858, 'epoch': 6.0}\n"
     ]
    },
    {
     "name": "stderr",
     "output_type": "stream",
     "text": [
      "Model weights saved in ./Exp_final10_CodeT5-small+config/checkpoint-74064\\pytorch_model.bin\n",
      "tokenizer config file saved in ./Exp_final10_CodeT5-small+config/checkpoint-74064\\tokenizer_config.json\n",
      "Special tokens file saved in ./Exp_final10_CodeT5-small+config/checkpoint-74064\\special_tokens_map.json\n",
      "Deleting older checkpoint [Exp_final10_CodeT5-small+config\\checkpoint-49376] due to args.save_total_limit\n",
      "***** Running Evaluation *****\n",
      "  Num examples = 1237\n",
      "  Batch size = 2\n"
     ]
    },
    {
     "name": "stdout",
     "output_type": "stream",
     "text": [
      "{'loss': 0.6143, 'learning_rate': 4.0350877192982455e-05, 'epoch': 7.0}\n"
     ]
    },
    {
     "name": "stderr",
     "output_type": "stream",
     "text": [
      "loading file vocab.json from cache at C:\\Users\\Dharneeshkar J/.cache\\huggingface\\hub\\models--neulab--codebert-python\\snapshots\\0375ce6e7f53d21a181fa3d7485b1cd9a9e8c13f\\vocab.json\n",
      "loading file merges.txt from cache at C:\\Users\\Dharneeshkar J/.cache\\huggingface\\hub\\models--neulab--codebert-python\\snapshots\\0375ce6e7f53d21a181fa3d7485b1cd9a9e8c13f\\merges.txt\n",
      "loading file tokenizer.json from cache at C:\\Users\\Dharneeshkar J/.cache\\huggingface\\hub\\models--neulab--codebert-python\\snapshots\\0375ce6e7f53d21a181fa3d7485b1cd9a9e8c13f\\tokenizer.json\n",
      "loading file added_tokens.json from cache at None\n",
      "loading file special_tokens_map.json from cache at C:\\Users\\Dharneeshkar J/.cache\\huggingface\\hub\\models--neulab--codebert-python\\snapshots\\0375ce6e7f53d21a181fa3d7485b1cd9a9e8c13f\\special_tokens_map.json\n",
      "loading file tokenizer_config.json from cache at C:\\Users\\Dharneeshkar J/.cache\\huggingface\\hub\\models--neulab--codebert-python\\snapshots\\0375ce6e7f53d21a181fa3d7485b1cd9a9e8c13f\\tokenizer_config.json\n",
      "loading configuration file config.json from cache at C:\\Users\\Dharneeshkar J/.cache\\huggingface\\hub\\models--neulab--codebert-python\\snapshots\\0375ce6e7f53d21a181fa3d7485b1cd9a9e8c13f\\config.json\n",
      "Model config RobertaConfig {\n",
      "  \"_name_or_path\": \"neulab/codebert-python\",\n",
      "  \"architectures\": [\n",
      "    \"RobertaForMaskedLM\"\n",
      "  ],\n",
      "  \"attention_probs_dropout_prob\": 0.1,\n",
      "  \"bos_token_id\": 0,\n",
      "  \"classifier_dropout\": null,\n",
      "  \"eos_token_id\": 2,\n",
      "  \"hidden_act\": \"gelu\",\n",
      "  \"hidden_dropout_prob\": 0.1,\n",
      "  \"hidden_size\": 768,\n",
      "  \"initializer_range\": 0.02,\n",
      "  \"intermediate_size\": 3072,\n",
      "  \"layer_norm_eps\": 1e-05,\n",
      "  \"max_position_embeddings\": 514,\n",
      "  \"model_type\": \"roberta\",\n",
      "  \"num_attention_heads\": 12,\n",
      "  \"num_hidden_layers\": 12,\n",
      "  \"output_past\": true,\n",
      "  \"pad_token_id\": 1,\n",
      "  \"position_embedding_type\": \"absolute\",\n",
      "  \"torch_dtype\": \"float32\",\n",
      "  \"transformers_version\": \"4.24.0\",\n",
      "  \"type_vocab_size\": 1,\n",
      "  \"use_cache\": true,\n",
      "  \"vocab_size\": 50265\n",
      "}\n",
      "\n",
      "loading weights file pytorch_model.bin from cache at C:\\Users\\Dharneeshkar J/.cache\\huggingface\\hub\\models--neulab--codebert-python\\snapshots\\0375ce6e7f53d21a181fa3d7485b1cd9a9e8c13f\\pytorch_model.bin\n",
      "Some weights of the model checkpoint at neulab/codebert-python were not used when initializing RobertaModel: ['lm_head.layer_norm.bias', 'lm_head.bias', 'lm_head.dense.weight', 'lm_head.dense.bias', 'lm_head.layer_norm.weight']\n",
      "- This IS expected if you are initializing RobertaModel from the checkpoint of a model trained on another task or with another architecture (e.g. initializing a BertForSequenceClassification model from a BertForPreTraining model).\n",
      "- This IS NOT expected if you are initializing RobertaModel from the checkpoint of a model that you expect to be exactly identical (initializing a BertForSequenceClassification model from a BertForSequenceClassification model).\n",
      "Some weights of RobertaModel were not initialized from the model checkpoint at neulab/codebert-python and are newly initialized: ['roberta.pooler.dense.weight', 'roberta.pooler.dense.bias']\n",
      "You should probably TRAIN this model on a down-stream task to be able to use it for predictions and inference.\n",
      "Saving model checkpoint to ./Exp_final10_CodeT5-small+config/checkpoint-86408\n",
      "Configuration saved in ./Exp_final10_CodeT5-small+config/checkpoint-86408\\config.json\n"
     ]
    },
    {
     "name": "stdout",
     "output_type": "stream",
     "text": [
      "{'eval_loss': 0.8056971430778503, 'eval_BLEU': 39.50166357859949, 'eval_BLEU-Unigram-Precision': 67.00602409638554, 'eval_BLEU-Bigram-Precision': 50.02278200872225, 'eval_Python-BLEU': 0.4014116326227708, 'eval_Code-BERT-SCORE-Precision': 0.8550319075584412, 'eval_Code-BERT-SCORE-Recall': 0.841101348400116, 'eval_Code-BERT-SCORE-F1': 0.8472834229469299, 'eval_runtime': 129.8728, 'eval_samples_per_second': 9.525, 'eval_steps_per_second': 4.766, 'epoch': 7.0}\n"
     ]
    },
    {
     "name": "stderr",
     "output_type": "stream",
     "text": [
      "Model weights saved in ./Exp_final10_CodeT5-small+config/checkpoint-86408\\pytorch_model.bin\n",
      "tokenizer config file saved in ./Exp_final10_CodeT5-small+config/checkpoint-86408\\tokenizer_config.json\n",
      "Special tokens file saved in ./Exp_final10_CodeT5-small+config/checkpoint-86408\\special_tokens_map.json\n",
      "Deleting older checkpoint [Exp_final10_CodeT5-small+config\\checkpoint-61720] due to args.save_total_limit\n",
      "***** Running Evaluation *****\n",
      "  Num examples = 1237\n",
      "  Batch size = 2\n"
     ]
    },
    {
     "name": "stdout",
     "output_type": "stream",
     "text": [
      "{'loss': 0.5215, 'learning_rate': 3.859649122807018e-05, 'epoch': 8.0}\n"
     ]
    },
    {
     "name": "stderr",
     "output_type": "stream",
     "text": [
      "loading file vocab.json from cache at C:\\Users\\Dharneeshkar J/.cache\\huggingface\\hub\\models--neulab--codebert-python\\snapshots\\0375ce6e7f53d21a181fa3d7485b1cd9a9e8c13f\\vocab.json\n",
      "loading file merges.txt from cache at C:\\Users\\Dharneeshkar J/.cache\\huggingface\\hub\\models--neulab--codebert-python\\snapshots\\0375ce6e7f53d21a181fa3d7485b1cd9a9e8c13f\\merges.txt\n",
      "loading file tokenizer.json from cache at C:\\Users\\Dharneeshkar J/.cache\\huggingface\\hub\\models--neulab--codebert-python\\snapshots\\0375ce6e7f53d21a181fa3d7485b1cd9a9e8c13f\\tokenizer.json\n",
      "loading file added_tokens.json from cache at None\n",
      "loading file special_tokens_map.json from cache at C:\\Users\\Dharneeshkar J/.cache\\huggingface\\hub\\models--neulab--codebert-python\\snapshots\\0375ce6e7f53d21a181fa3d7485b1cd9a9e8c13f\\special_tokens_map.json\n",
      "loading file tokenizer_config.json from cache at C:\\Users\\Dharneeshkar J/.cache\\huggingface\\hub\\models--neulab--codebert-python\\snapshots\\0375ce6e7f53d21a181fa3d7485b1cd9a9e8c13f\\tokenizer_config.json\n",
      "loading configuration file config.json from cache at C:\\Users\\Dharneeshkar J/.cache\\huggingface\\hub\\models--neulab--codebert-python\\snapshots\\0375ce6e7f53d21a181fa3d7485b1cd9a9e8c13f\\config.json\n",
      "Model config RobertaConfig {\n",
      "  \"_name_or_path\": \"neulab/codebert-python\",\n",
      "  \"architectures\": [\n",
      "    \"RobertaForMaskedLM\"\n",
      "  ],\n",
      "  \"attention_probs_dropout_prob\": 0.1,\n",
      "  \"bos_token_id\": 0,\n",
      "  \"classifier_dropout\": null,\n",
      "  \"eos_token_id\": 2,\n",
      "  \"hidden_act\": \"gelu\",\n",
      "  \"hidden_dropout_prob\": 0.1,\n",
      "  \"hidden_size\": 768,\n",
      "  \"initializer_range\": 0.02,\n",
      "  \"intermediate_size\": 3072,\n",
      "  \"layer_norm_eps\": 1e-05,\n",
      "  \"max_position_embeddings\": 514,\n",
      "  \"model_type\": \"roberta\",\n",
      "  \"num_attention_heads\": 12,\n",
      "  \"num_hidden_layers\": 12,\n",
      "  \"output_past\": true,\n",
      "  \"pad_token_id\": 1,\n",
      "  \"position_embedding_type\": \"absolute\",\n",
      "  \"torch_dtype\": \"float32\",\n",
      "  \"transformers_version\": \"4.24.0\",\n",
      "  \"type_vocab_size\": 1,\n",
      "  \"use_cache\": true,\n",
      "  \"vocab_size\": 50265\n",
      "}\n",
      "\n",
      "loading weights file pytorch_model.bin from cache at C:\\Users\\Dharneeshkar J/.cache\\huggingface\\hub\\models--neulab--codebert-python\\snapshots\\0375ce6e7f53d21a181fa3d7485b1cd9a9e8c13f\\pytorch_model.bin\n",
      "Some weights of the model checkpoint at neulab/codebert-python were not used when initializing RobertaModel: ['lm_head.layer_norm.bias', 'lm_head.bias', 'lm_head.dense.weight', 'lm_head.dense.bias', 'lm_head.layer_norm.weight']\n",
      "- This IS expected if you are initializing RobertaModel from the checkpoint of a model trained on another task or with another architecture (e.g. initializing a BertForSequenceClassification model from a BertForPreTraining model).\n",
      "- This IS NOT expected if you are initializing RobertaModel from the checkpoint of a model that you expect to be exactly identical (initializing a BertForSequenceClassification model from a BertForSequenceClassification model).\n",
      "Some weights of RobertaModel were not initialized from the model checkpoint at neulab/codebert-python and are newly initialized: ['roberta.pooler.dense.weight', 'roberta.pooler.dense.bias']\n",
      "You should probably TRAIN this model on a down-stream task to be able to use it for predictions and inference.\n",
      "Saving model checkpoint to ./Exp_final10_CodeT5-small+config/checkpoint-98752\n",
      "Configuration saved in ./Exp_final10_CodeT5-small+config/checkpoint-98752\\config.json\n"
     ]
    },
    {
     "name": "stdout",
     "output_type": "stream",
     "text": [
      "{'eval_loss': 0.7571401000022888, 'eval_BLEU': 42.19742978020315, 'eval_BLEU-Unigram-Precision': 69.23261390887289, 'eval_BLEU-Bigram-Precision': 53.05963867124264, 'eval_Python-BLEU': 0.42678496675609295, 'eval_Code-BERT-SCORE-Precision': 0.8638657331466675, 'eval_Code-BERT-SCORE-Recall': 0.8485919833183289, 'eval_Code-BERT-SCORE-F1': 0.8554043173789978, 'eval_runtime': 130.327, 'eval_samples_per_second': 9.492, 'eval_steps_per_second': 4.75, 'epoch': 8.0}\n"
     ]
    },
    {
     "name": "stderr",
     "output_type": "stream",
     "text": [
      "Model weights saved in ./Exp_final10_CodeT5-small+config/checkpoint-98752\\pytorch_model.bin\n",
      "tokenizer config file saved in ./Exp_final10_CodeT5-small+config/checkpoint-98752\\tokenizer_config.json\n",
      "Special tokens file saved in ./Exp_final10_CodeT5-small+config/checkpoint-98752\\special_tokens_map.json\n",
      "Deleting older checkpoint [Exp_final10_CodeT5-small+config\\checkpoint-74064] due to args.save_total_limit\n",
      "***** Running Evaluation *****\n",
      "  Num examples = 1237\n",
      "  Batch size = 2\n"
     ]
    },
    {
     "name": "stdout",
     "output_type": "stream",
     "text": [
      "{'loss': 0.4533, 'learning_rate': 3.6842105263157895e-05, 'epoch': 9.0}\n"
     ]
    },
    {
     "name": "stderr",
     "output_type": "stream",
     "text": [
      "loading file vocab.json from cache at C:\\Users\\Dharneeshkar J/.cache\\huggingface\\hub\\models--neulab--codebert-python\\snapshots\\0375ce6e7f53d21a181fa3d7485b1cd9a9e8c13f\\vocab.json\n",
      "loading file merges.txt from cache at C:\\Users\\Dharneeshkar J/.cache\\huggingface\\hub\\models--neulab--codebert-python\\snapshots\\0375ce6e7f53d21a181fa3d7485b1cd9a9e8c13f\\merges.txt\n",
      "loading file tokenizer.json from cache at C:\\Users\\Dharneeshkar J/.cache\\huggingface\\hub\\models--neulab--codebert-python\\snapshots\\0375ce6e7f53d21a181fa3d7485b1cd9a9e8c13f\\tokenizer.json\n",
      "loading file added_tokens.json from cache at None\n",
      "loading file special_tokens_map.json from cache at C:\\Users\\Dharneeshkar J/.cache\\huggingface\\hub\\models--neulab--codebert-python\\snapshots\\0375ce6e7f53d21a181fa3d7485b1cd9a9e8c13f\\special_tokens_map.json\n",
      "loading file tokenizer_config.json from cache at C:\\Users\\Dharneeshkar J/.cache\\huggingface\\hub\\models--neulab--codebert-python\\snapshots\\0375ce6e7f53d21a181fa3d7485b1cd9a9e8c13f\\tokenizer_config.json\n",
      "loading configuration file config.json from cache at C:\\Users\\Dharneeshkar J/.cache\\huggingface\\hub\\models--neulab--codebert-python\\snapshots\\0375ce6e7f53d21a181fa3d7485b1cd9a9e8c13f\\config.json\n",
      "Model config RobertaConfig {\n",
      "  \"_name_or_path\": \"neulab/codebert-python\",\n",
      "  \"architectures\": [\n",
      "    \"RobertaForMaskedLM\"\n",
      "  ],\n",
      "  \"attention_probs_dropout_prob\": 0.1,\n",
      "  \"bos_token_id\": 0,\n",
      "  \"classifier_dropout\": null,\n",
      "  \"eos_token_id\": 2,\n",
      "  \"hidden_act\": \"gelu\",\n",
      "  \"hidden_dropout_prob\": 0.1,\n",
      "  \"hidden_size\": 768,\n",
      "  \"initializer_range\": 0.02,\n",
      "  \"intermediate_size\": 3072,\n",
      "  \"layer_norm_eps\": 1e-05,\n",
      "  \"max_position_embeddings\": 514,\n",
      "  \"model_type\": \"roberta\",\n",
      "  \"num_attention_heads\": 12,\n",
      "  \"num_hidden_layers\": 12,\n",
      "  \"output_past\": true,\n",
      "  \"pad_token_id\": 1,\n",
      "  \"position_embedding_type\": \"absolute\",\n",
      "  \"torch_dtype\": \"float32\",\n",
      "  \"transformers_version\": \"4.24.0\",\n",
      "  \"type_vocab_size\": 1,\n",
      "  \"use_cache\": true,\n",
      "  \"vocab_size\": 50265\n",
      "}\n",
      "\n",
      "loading weights file pytorch_model.bin from cache at C:\\Users\\Dharneeshkar J/.cache\\huggingface\\hub\\models--neulab--codebert-python\\snapshots\\0375ce6e7f53d21a181fa3d7485b1cd9a9e8c13f\\pytorch_model.bin\n",
      "Some weights of the model checkpoint at neulab/codebert-python were not used when initializing RobertaModel: ['lm_head.layer_norm.bias', 'lm_head.bias', 'lm_head.dense.weight', 'lm_head.dense.bias', 'lm_head.layer_norm.weight']\n",
      "- This IS expected if you are initializing RobertaModel from the checkpoint of a model trained on another task or with another architecture (e.g. initializing a BertForSequenceClassification model from a BertForPreTraining model).\n",
      "- This IS NOT expected if you are initializing RobertaModel from the checkpoint of a model that you expect to be exactly identical (initializing a BertForSequenceClassification model from a BertForSequenceClassification model).\n",
      "Some weights of RobertaModel were not initialized from the model checkpoint at neulab/codebert-python and are newly initialized: ['roberta.pooler.dense.weight', 'roberta.pooler.dense.bias']\n",
      "You should probably TRAIN this model on a down-stream task to be able to use it for predictions and inference.\n",
      "Saving model checkpoint to ./Exp_final10_CodeT5-small+config/checkpoint-111096\n",
      "Configuration saved in ./Exp_final10_CodeT5-small+config/checkpoint-111096\\config.json\n"
     ]
    },
    {
     "name": "stdout",
     "output_type": "stream",
     "text": [
      "{'eval_loss': 0.717155933380127, 'eval_BLEU': 43.41599242831264, 'eval_BLEU-Unigram-Precision': 69.95697896749522, 'eval_BLEU-Bigram-Precision': 54.30027743725402, 'eval_Python-BLEU': 0.436754012256715, 'eval_Code-BERT-SCORE-Precision': 0.8660288453102112, 'eval_Code-BERT-SCORE-Recall': 0.8510617613792419, 'eval_Code-BERT-SCORE-F1': 0.857745349407196, 'eval_runtime': 130.9993, 'eval_samples_per_second': 9.443, 'eval_steps_per_second': 4.725, 'epoch': 9.0}\n"
     ]
    },
    {
     "name": "stderr",
     "output_type": "stream",
     "text": [
      "Model weights saved in ./Exp_final10_CodeT5-small+config/checkpoint-111096\\pytorch_model.bin\n",
      "tokenizer config file saved in ./Exp_final10_CodeT5-small+config/checkpoint-111096\\tokenizer_config.json\n",
      "Special tokens file saved in ./Exp_final10_CodeT5-small+config/checkpoint-111096\\special_tokens_map.json\n",
      "Deleting older checkpoint [Exp_final10_CodeT5-small+config\\checkpoint-86408] due to args.save_total_limit\n",
      "***** Running Evaluation *****\n",
      "  Num examples = 1237\n",
      "  Batch size = 2\n"
     ]
    },
    {
     "name": "stdout",
     "output_type": "stream",
     "text": [
      "{'loss': 0.3954, 'learning_rate': 3.508771929824561e-05, 'epoch': 10.0}\n"
     ]
    },
    {
     "name": "stderr",
     "output_type": "stream",
     "text": [
      "loading file vocab.json from cache at C:\\Users\\Dharneeshkar J/.cache\\huggingface\\hub\\models--neulab--codebert-python\\snapshots\\0375ce6e7f53d21a181fa3d7485b1cd9a9e8c13f\\vocab.json\n",
      "loading file merges.txt from cache at C:\\Users\\Dharneeshkar J/.cache\\huggingface\\hub\\models--neulab--codebert-python\\snapshots\\0375ce6e7f53d21a181fa3d7485b1cd9a9e8c13f\\merges.txt\n",
      "loading file tokenizer.json from cache at C:\\Users\\Dharneeshkar J/.cache\\huggingface\\hub\\models--neulab--codebert-python\\snapshots\\0375ce6e7f53d21a181fa3d7485b1cd9a9e8c13f\\tokenizer.json\n",
      "loading file added_tokens.json from cache at None\n",
      "loading file special_tokens_map.json from cache at C:\\Users\\Dharneeshkar J/.cache\\huggingface\\hub\\models--neulab--codebert-python\\snapshots\\0375ce6e7f53d21a181fa3d7485b1cd9a9e8c13f\\special_tokens_map.json\n",
      "loading file tokenizer_config.json from cache at C:\\Users\\Dharneeshkar J/.cache\\huggingface\\hub\\models--neulab--codebert-python\\snapshots\\0375ce6e7f53d21a181fa3d7485b1cd9a9e8c13f\\tokenizer_config.json\n",
      "loading configuration file config.json from cache at C:\\Users\\Dharneeshkar J/.cache\\huggingface\\hub\\models--neulab--codebert-python\\snapshots\\0375ce6e7f53d21a181fa3d7485b1cd9a9e8c13f\\config.json\n",
      "Model config RobertaConfig {\n",
      "  \"_name_or_path\": \"neulab/codebert-python\",\n",
      "  \"architectures\": [\n",
      "    \"RobertaForMaskedLM\"\n",
      "  ],\n",
      "  \"attention_probs_dropout_prob\": 0.1,\n",
      "  \"bos_token_id\": 0,\n",
      "  \"classifier_dropout\": null,\n",
      "  \"eos_token_id\": 2,\n",
      "  \"hidden_act\": \"gelu\",\n",
      "  \"hidden_dropout_prob\": 0.1,\n",
      "  \"hidden_size\": 768,\n",
      "  \"initializer_range\": 0.02,\n",
      "  \"intermediate_size\": 3072,\n",
      "  \"layer_norm_eps\": 1e-05,\n",
      "  \"max_position_embeddings\": 514,\n",
      "  \"model_type\": \"roberta\",\n",
      "  \"num_attention_heads\": 12,\n",
      "  \"num_hidden_layers\": 12,\n",
      "  \"output_past\": true,\n",
      "  \"pad_token_id\": 1,\n",
      "  \"position_embedding_type\": \"absolute\",\n",
      "  \"torch_dtype\": \"float32\",\n",
      "  \"transformers_version\": \"4.24.0\",\n",
      "  \"type_vocab_size\": 1,\n",
      "  \"use_cache\": true,\n",
      "  \"vocab_size\": 50265\n",
      "}\n",
      "\n",
      "loading weights file pytorch_model.bin from cache at C:\\Users\\Dharneeshkar J/.cache\\huggingface\\hub\\models--neulab--codebert-python\\snapshots\\0375ce6e7f53d21a181fa3d7485b1cd9a9e8c13f\\pytorch_model.bin\n",
      "Some weights of the model checkpoint at neulab/codebert-python were not used when initializing RobertaModel: ['lm_head.layer_norm.bias', 'lm_head.bias', 'lm_head.dense.weight', 'lm_head.dense.bias', 'lm_head.layer_norm.weight']\n",
      "- This IS expected if you are initializing RobertaModel from the checkpoint of a model trained on another task or with another architecture (e.g. initializing a BertForSequenceClassification model from a BertForPreTraining model).\n",
      "- This IS NOT expected if you are initializing RobertaModel from the checkpoint of a model that you expect to be exactly identical (initializing a BertForSequenceClassification model from a BertForSequenceClassification model).\n",
      "Some weights of RobertaModel were not initialized from the model checkpoint at neulab/codebert-python and are newly initialized: ['roberta.pooler.dense.weight', 'roberta.pooler.dense.bias']\n",
      "You should probably TRAIN this model on a down-stream task to be able to use it for predictions and inference.\n",
      "Saving model checkpoint to ./Exp_final10_CodeT5-small+config/checkpoint-123440\n",
      "Configuration saved in ./Exp_final10_CodeT5-small+config/checkpoint-123440\\config.json\n"
     ]
    },
    {
     "name": "stdout",
     "output_type": "stream",
     "text": [
      "{'eval_loss': 0.6837233304977417, 'eval_BLEU': 45.25570985875979, 'eval_BLEU-Unigram-Precision': 71.16118264186933, 'eval_BLEU-Bigram-Precision': 56.30349443336122, 'eval_Python-BLEU': 0.45551052648573215, 'eval_Code-BERT-SCORE-Precision': 0.8691982626914978, 'eval_Code-BERT-SCORE-Recall': 0.8551521897315979, 'eval_Code-BERT-SCORE-F1': 0.861394464969635, 'eval_runtime': 124.0065, 'eval_samples_per_second': 9.975, 'eval_steps_per_second': 4.992, 'epoch': 10.0}\n"
     ]
    },
    {
     "name": "stderr",
     "output_type": "stream",
     "text": [
      "Model weights saved in ./Exp_final10_CodeT5-small+config/checkpoint-123440\\pytorch_model.bin\n",
      "tokenizer config file saved in ./Exp_final10_CodeT5-small+config/checkpoint-123440\\tokenizer_config.json\n",
      "Special tokens file saved in ./Exp_final10_CodeT5-small+config/checkpoint-123440\\special_tokens_map.json\n",
      "Deleting older checkpoint [Exp_final10_CodeT5-small+config\\checkpoint-98752] due to args.save_total_limit\n",
      "***** Running Evaluation *****\n",
      "  Num examples = 1237\n",
      "  Batch size = 2\n"
     ]
    },
    {
     "name": "stdout",
     "output_type": "stream",
     "text": [
      "{'loss': 0.3477, 'learning_rate': 3.3333333333333335e-05, 'epoch': 11.0}\n"
     ]
    },
    {
     "name": "stderr",
     "output_type": "stream",
     "text": [
      "loading file vocab.json from cache at C:\\Users\\Dharneeshkar J/.cache\\huggingface\\hub\\models--neulab--codebert-python\\snapshots\\0375ce6e7f53d21a181fa3d7485b1cd9a9e8c13f\\vocab.json\n",
      "loading file merges.txt from cache at C:\\Users\\Dharneeshkar J/.cache\\huggingface\\hub\\models--neulab--codebert-python\\snapshots\\0375ce6e7f53d21a181fa3d7485b1cd9a9e8c13f\\merges.txt\n",
      "loading file tokenizer.json from cache at C:\\Users\\Dharneeshkar J/.cache\\huggingface\\hub\\models--neulab--codebert-python\\snapshots\\0375ce6e7f53d21a181fa3d7485b1cd9a9e8c13f\\tokenizer.json\n",
      "loading file added_tokens.json from cache at None\n",
      "loading file special_tokens_map.json from cache at C:\\Users\\Dharneeshkar J/.cache\\huggingface\\hub\\models--neulab--codebert-python\\snapshots\\0375ce6e7f53d21a181fa3d7485b1cd9a9e8c13f\\special_tokens_map.json\n",
      "loading file tokenizer_config.json from cache at C:\\Users\\Dharneeshkar J/.cache\\huggingface\\hub\\models--neulab--codebert-python\\snapshots\\0375ce6e7f53d21a181fa3d7485b1cd9a9e8c13f\\tokenizer_config.json\n",
      "loading configuration file config.json from cache at C:\\Users\\Dharneeshkar J/.cache\\huggingface\\hub\\models--neulab--codebert-python\\snapshots\\0375ce6e7f53d21a181fa3d7485b1cd9a9e8c13f\\config.json\n",
      "Model config RobertaConfig {\n",
      "  \"_name_or_path\": \"neulab/codebert-python\",\n",
      "  \"architectures\": [\n",
      "    \"RobertaForMaskedLM\"\n",
      "  ],\n",
      "  \"attention_probs_dropout_prob\": 0.1,\n",
      "  \"bos_token_id\": 0,\n",
      "  \"classifier_dropout\": null,\n",
      "  \"eos_token_id\": 2,\n",
      "  \"hidden_act\": \"gelu\",\n",
      "  \"hidden_dropout_prob\": 0.1,\n",
      "  \"hidden_size\": 768,\n",
      "  \"initializer_range\": 0.02,\n",
      "  \"intermediate_size\": 3072,\n",
      "  \"layer_norm_eps\": 1e-05,\n",
      "  \"max_position_embeddings\": 514,\n",
      "  \"model_type\": \"roberta\",\n",
      "  \"num_attention_heads\": 12,\n",
      "  \"num_hidden_layers\": 12,\n",
      "  \"output_past\": true,\n",
      "  \"pad_token_id\": 1,\n",
      "  \"position_embedding_type\": \"absolute\",\n",
      "  \"torch_dtype\": \"float32\",\n",
      "  \"transformers_version\": \"4.24.0\",\n",
      "  \"type_vocab_size\": 1,\n",
      "  \"use_cache\": true,\n",
      "  \"vocab_size\": 50265\n",
      "}\n",
      "\n",
      "loading weights file pytorch_model.bin from cache at C:\\Users\\Dharneeshkar J/.cache\\huggingface\\hub\\models--neulab--codebert-python\\snapshots\\0375ce6e7f53d21a181fa3d7485b1cd9a9e8c13f\\pytorch_model.bin\n",
      "Some weights of the model checkpoint at neulab/codebert-python were not used when initializing RobertaModel: ['lm_head.layer_norm.bias', 'lm_head.bias', 'lm_head.dense.weight', 'lm_head.dense.bias', 'lm_head.layer_norm.weight']\n",
      "- This IS expected if you are initializing RobertaModel from the checkpoint of a model trained on another task or with another architecture (e.g. initializing a BertForSequenceClassification model from a BertForPreTraining model).\n",
      "- This IS NOT expected if you are initializing RobertaModel from the checkpoint of a model that you expect to be exactly identical (initializing a BertForSequenceClassification model from a BertForSequenceClassification model).\n",
      "Some weights of RobertaModel were not initialized from the model checkpoint at neulab/codebert-python and are newly initialized: ['roberta.pooler.dense.weight', 'roberta.pooler.dense.bias']\n",
      "You should probably TRAIN this model on a down-stream task to be able to use it for predictions and inference.\n",
      "Saving model checkpoint to ./Exp_final10_CodeT5-small+config/checkpoint-135784\n",
      "Configuration saved in ./Exp_final10_CodeT5-small+config/checkpoint-135784\\config.json\n"
     ]
    },
    {
     "name": "stdout",
     "output_type": "stream",
     "text": [
      "{'eval_loss': 0.6578697562217712, 'eval_BLEU': 47.17219279608646, 'eval_BLEU-Unigram-Precision': 72.78915626679405, 'eval_BLEU-Bigram-Precision': 58.69116698903933, 'eval_Python-BLEU': 0.47449684408596343, 'eval_Code-BERT-SCORE-Precision': 0.8747180700302124, 'eval_Code-BERT-SCORE-Recall': 0.8611905574798584, 'eval_Code-BERT-SCORE-F1': 0.867220938205719, 'eval_runtime': 123.6792, 'eval_samples_per_second': 10.002, 'eval_steps_per_second': 5.005, 'epoch': 11.0}\n"
     ]
    },
    {
     "name": "stderr",
     "output_type": "stream",
     "text": [
      "Model weights saved in ./Exp_final10_CodeT5-small+config/checkpoint-135784\\pytorch_model.bin\n",
      "tokenizer config file saved in ./Exp_final10_CodeT5-small+config/checkpoint-135784\\tokenizer_config.json\n",
      "Special tokens file saved in ./Exp_final10_CodeT5-small+config/checkpoint-135784\\special_tokens_map.json\n",
      "Deleting older checkpoint [Exp_final10_CodeT5-small+config\\checkpoint-111096] due to args.save_total_limit\n",
      "***** Running Evaluation *****\n",
      "  Num examples = 1237\n",
      "  Batch size = 2\n"
     ]
    },
    {
     "name": "stdout",
     "output_type": "stream",
     "text": [
      "{'loss': 0.31, 'learning_rate': 3.157894736842105e-05, 'epoch': 12.0}\n"
     ]
    },
    {
     "name": "stderr",
     "output_type": "stream",
     "text": [
      "loading file vocab.json from cache at C:\\Users\\Dharneeshkar J/.cache\\huggingface\\hub\\models--neulab--codebert-python\\snapshots\\0375ce6e7f53d21a181fa3d7485b1cd9a9e8c13f\\vocab.json\n",
      "loading file merges.txt from cache at C:\\Users\\Dharneeshkar J/.cache\\huggingface\\hub\\models--neulab--codebert-python\\snapshots\\0375ce6e7f53d21a181fa3d7485b1cd9a9e8c13f\\merges.txt\n",
      "loading file tokenizer.json from cache at C:\\Users\\Dharneeshkar J/.cache\\huggingface\\hub\\models--neulab--codebert-python\\snapshots\\0375ce6e7f53d21a181fa3d7485b1cd9a9e8c13f\\tokenizer.json\n",
      "loading file added_tokens.json from cache at None\n",
      "loading file special_tokens_map.json from cache at C:\\Users\\Dharneeshkar J/.cache\\huggingface\\hub\\models--neulab--codebert-python\\snapshots\\0375ce6e7f53d21a181fa3d7485b1cd9a9e8c13f\\special_tokens_map.json\n",
      "loading file tokenizer_config.json from cache at C:\\Users\\Dharneeshkar J/.cache\\huggingface\\hub\\models--neulab--codebert-python\\snapshots\\0375ce6e7f53d21a181fa3d7485b1cd9a9e8c13f\\tokenizer_config.json\n",
      "loading configuration file config.json from cache at C:\\Users\\Dharneeshkar J/.cache\\huggingface\\hub\\models--neulab--codebert-python\\snapshots\\0375ce6e7f53d21a181fa3d7485b1cd9a9e8c13f\\config.json\n",
      "Model config RobertaConfig {\n",
      "  \"_name_or_path\": \"neulab/codebert-python\",\n",
      "  \"architectures\": [\n",
      "    \"RobertaForMaskedLM\"\n",
      "  ],\n",
      "  \"attention_probs_dropout_prob\": 0.1,\n",
      "  \"bos_token_id\": 0,\n",
      "  \"classifier_dropout\": null,\n",
      "  \"eos_token_id\": 2,\n",
      "  \"hidden_act\": \"gelu\",\n",
      "  \"hidden_dropout_prob\": 0.1,\n",
      "  \"hidden_size\": 768,\n",
      "  \"initializer_range\": 0.02,\n",
      "  \"intermediate_size\": 3072,\n",
      "  \"layer_norm_eps\": 1e-05,\n",
      "  \"max_position_embeddings\": 514,\n",
      "  \"model_type\": \"roberta\",\n",
      "  \"num_attention_heads\": 12,\n",
      "  \"num_hidden_layers\": 12,\n",
      "  \"output_past\": true,\n",
      "  \"pad_token_id\": 1,\n",
      "  \"position_embedding_type\": \"absolute\",\n",
      "  \"torch_dtype\": \"float32\",\n",
      "  \"transformers_version\": \"4.24.0\",\n",
      "  \"type_vocab_size\": 1,\n",
      "  \"use_cache\": true,\n",
      "  \"vocab_size\": 50265\n",
      "}\n",
      "\n",
      "loading weights file pytorch_model.bin from cache at C:\\Users\\Dharneeshkar J/.cache\\huggingface\\hub\\models--neulab--codebert-python\\snapshots\\0375ce6e7f53d21a181fa3d7485b1cd9a9e8c13f\\pytorch_model.bin\n",
      "Some weights of the model checkpoint at neulab/codebert-python were not used when initializing RobertaModel: ['lm_head.layer_norm.bias', 'lm_head.bias', 'lm_head.dense.weight', 'lm_head.dense.bias', 'lm_head.layer_norm.weight']\n",
      "- This IS expected if you are initializing RobertaModel from the checkpoint of a model trained on another task or with another architecture (e.g. initializing a BertForSequenceClassification model from a BertForPreTraining model).\n",
      "- This IS NOT expected if you are initializing RobertaModel from the checkpoint of a model that you expect to be exactly identical (initializing a BertForSequenceClassification model from a BertForSequenceClassification model).\n",
      "Some weights of RobertaModel were not initialized from the model checkpoint at neulab/codebert-python and are newly initialized: ['roberta.pooler.dense.weight', 'roberta.pooler.dense.bias']\n",
      "You should probably TRAIN this model on a down-stream task to be able to use it for predictions and inference.\n",
      "Saving model checkpoint to ./Exp_final10_CodeT5-small+config/checkpoint-148128\n",
      "Configuration saved in ./Exp_final10_CodeT5-small+config/checkpoint-148128\\config.json\n"
     ]
    },
    {
     "name": "stdout",
     "output_type": "stream",
     "text": [
      "{'eval_loss': 0.6429678201675415, 'eval_BLEU': 47.422485225002674, 'eval_BLEU-Unigram-Precision': 72.97681863994782, 'eval_BLEU-Bigram-Precision': 58.47728726807422, 'eval_Python-BLEU': 0.4750986705179611, 'eval_Code-BERT-SCORE-Precision': 0.8776310682296753, 'eval_Code-BERT-SCORE-Recall': 0.863975465297699, 'eval_Code-BERT-SCORE-F1': 0.8701047301292419, 'eval_runtime': 123.4192, 'eval_samples_per_second': 10.023, 'eval_steps_per_second': 5.015, 'epoch': 12.0}\n"
     ]
    },
    {
     "name": "stderr",
     "output_type": "stream",
     "text": [
      "Model weights saved in ./Exp_final10_CodeT5-small+config/checkpoint-148128\\pytorch_model.bin\n",
      "tokenizer config file saved in ./Exp_final10_CodeT5-small+config/checkpoint-148128\\tokenizer_config.json\n",
      "Special tokens file saved in ./Exp_final10_CodeT5-small+config/checkpoint-148128\\special_tokens_map.json\n",
      "Deleting older checkpoint [Exp_final10_CodeT5-small+config\\checkpoint-123440] due to args.save_total_limit\n",
      "***** Running Evaluation *****\n",
      "  Num examples = 1237\n",
      "  Batch size = 2\n"
     ]
    },
    {
     "name": "stdout",
     "output_type": "stream",
     "text": [
      "{'loss': 0.2774, 'learning_rate': 2.9824561403508772e-05, 'epoch': 13.0}\n"
     ]
    },
    {
     "name": "stderr",
     "output_type": "stream",
     "text": [
      "loading file vocab.json from cache at C:\\Users\\Dharneeshkar J/.cache\\huggingface\\hub\\models--neulab--codebert-python\\snapshots\\0375ce6e7f53d21a181fa3d7485b1cd9a9e8c13f\\vocab.json\n",
      "loading file merges.txt from cache at C:\\Users\\Dharneeshkar J/.cache\\huggingface\\hub\\models--neulab--codebert-python\\snapshots\\0375ce6e7f53d21a181fa3d7485b1cd9a9e8c13f\\merges.txt\n",
      "loading file tokenizer.json from cache at C:\\Users\\Dharneeshkar J/.cache\\huggingface\\hub\\models--neulab--codebert-python\\snapshots\\0375ce6e7f53d21a181fa3d7485b1cd9a9e8c13f\\tokenizer.json\n",
      "loading file added_tokens.json from cache at None\n",
      "loading file special_tokens_map.json from cache at C:\\Users\\Dharneeshkar J/.cache\\huggingface\\hub\\models--neulab--codebert-python\\snapshots\\0375ce6e7f53d21a181fa3d7485b1cd9a9e8c13f\\special_tokens_map.json\n",
      "loading file tokenizer_config.json from cache at C:\\Users\\Dharneeshkar J/.cache\\huggingface\\hub\\models--neulab--codebert-python\\snapshots\\0375ce6e7f53d21a181fa3d7485b1cd9a9e8c13f\\tokenizer_config.json\n",
      "loading configuration file config.json from cache at C:\\Users\\Dharneeshkar J/.cache\\huggingface\\hub\\models--neulab--codebert-python\\snapshots\\0375ce6e7f53d21a181fa3d7485b1cd9a9e8c13f\\config.json\n",
      "Model config RobertaConfig {\n",
      "  \"_name_or_path\": \"neulab/codebert-python\",\n",
      "  \"architectures\": [\n",
      "    \"RobertaForMaskedLM\"\n",
      "  ],\n",
      "  \"attention_probs_dropout_prob\": 0.1,\n",
      "  \"bos_token_id\": 0,\n",
      "  \"classifier_dropout\": null,\n",
      "  \"eos_token_id\": 2,\n",
      "  \"hidden_act\": \"gelu\",\n",
      "  \"hidden_dropout_prob\": 0.1,\n",
      "  \"hidden_size\": 768,\n",
      "  \"initializer_range\": 0.02,\n",
      "  \"intermediate_size\": 3072,\n",
      "  \"layer_norm_eps\": 1e-05,\n",
      "  \"max_position_embeddings\": 514,\n",
      "  \"model_type\": \"roberta\",\n",
      "  \"num_attention_heads\": 12,\n",
      "  \"num_hidden_layers\": 12,\n",
      "  \"output_past\": true,\n",
      "  \"pad_token_id\": 1,\n",
      "  \"position_embedding_type\": \"absolute\",\n",
      "  \"torch_dtype\": \"float32\",\n",
      "  \"transformers_version\": \"4.24.0\",\n",
      "  \"type_vocab_size\": 1,\n",
      "  \"use_cache\": true,\n",
      "  \"vocab_size\": 50265\n",
      "}\n",
      "\n",
      "loading weights file pytorch_model.bin from cache at C:\\Users\\Dharneeshkar J/.cache\\huggingface\\hub\\models--neulab--codebert-python\\snapshots\\0375ce6e7f53d21a181fa3d7485b1cd9a9e8c13f\\pytorch_model.bin\n",
      "Some weights of the model checkpoint at neulab/codebert-python were not used when initializing RobertaModel: ['lm_head.layer_norm.bias', 'lm_head.bias', 'lm_head.dense.weight', 'lm_head.dense.bias', 'lm_head.layer_norm.weight']\n",
      "- This IS expected if you are initializing RobertaModel from the checkpoint of a model trained on another task or with another architecture (e.g. initializing a BertForSequenceClassification model from a BertForPreTraining model).\n",
      "- This IS NOT expected if you are initializing RobertaModel from the checkpoint of a model that you expect to be exactly identical (initializing a BertForSequenceClassification model from a BertForSequenceClassification model).\n",
      "Some weights of RobertaModel were not initialized from the model checkpoint at neulab/codebert-python and are newly initialized: ['roberta.pooler.dense.weight', 'roberta.pooler.dense.bias']\n",
      "You should probably TRAIN this model on a down-stream task to be able to use it for predictions and inference.\n",
      "Saving model checkpoint to ./Exp_final10_CodeT5-small+config/checkpoint-160472\n",
      "Configuration saved in ./Exp_final10_CodeT5-small+config/checkpoint-160472\\config.json\n"
     ]
    },
    {
     "name": "stdout",
     "output_type": "stream",
     "text": [
      "{'eval_loss': 0.6154038906097412, 'eval_BLEU': 48.91114214965486, 'eval_BLEU-Unigram-Precision': 74.38456022944551, 'eval_BLEU-Bigram-Precision': 60.97812762113685, 'eval_Python-BLEU': 0.4914386313946081, 'eval_Code-BERT-SCORE-Precision': 0.8813377618789673, 'eval_Code-BERT-SCORE-Recall': 0.8673562407493591, 'eval_Code-BERT-SCORE-F1': 0.8735964298248291, 'eval_runtime': 123.2774, 'eval_samples_per_second': 10.034, 'eval_steps_per_second': 5.021, 'epoch': 13.0}\n"
     ]
    },
    {
     "name": "stderr",
     "output_type": "stream",
     "text": [
      "Model weights saved in ./Exp_final10_CodeT5-small+config/checkpoint-160472\\pytorch_model.bin\n",
      "tokenizer config file saved in ./Exp_final10_CodeT5-small+config/checkpoint-160472\\tokenizer_config.json\n",
      "Special tokens file saved in ./Exp_final10_CodeT5-small+config/checkpoint-160472\\special_tokens_map.json\n",
      "Deleting older checkpoint [Exp_final10_CodeT5-small+config\\checkpoint-135784] due to args.save_total_limit\n",
      "***** Running Evaluation *****\n",
      "  Num examples = 1237\n",
      "  Batch size = 2\n"
     ]
    },
    {
     "name": "stdout",
     "output_type": "stream",
     "text": [
      "{'loss': 0.25, 'learning_rate': 2.8070175438596492e-05, 'epoch': 14.0}\n"
     ]
    },
    {
     "name": "stderr",
     "output_type": "stream",
     "text": [
      "loading file vocab.json from cache at C:\\Users\\Dharneeshkar J/.cache\\huggingface\\hub\\models--neulab--codebert-python\\snapshots\\0375ce6e7f53d21a181fa3d7485b1cd9a9e8c13f\\vocab.json\n",
      "loading file merges.txt from cache at C:\\Users\\Dharneeshkar J/.cache\\huggingface\\hub\\models--neulab--codebert-python\\snapshots\\0375ce6e7f53d21a181fa3d7485b1cd9a9e8c13f\\merges.txt\n",
      "loading file tokenizer.json from cache at C:\\Users\\Dharneeshkar J/.cache\\huggingface\\hub\\models--neulab--codebert-python\\snapshots\\0375ce6e7f53d21a181fa3d7485b1cd9a9e8c13f\\tokenizer.json\n",
      "loading file added_tokens.json from cache at None\n",
      "loading file special_tokens_map.json from cache at C:\\Users\\Dharneeshkar J/.cache\\huggingface\\hub\\models--neulab--codebert-python\\snapshots\\0375ce6e7f53d21a181fa3d7485b1cd9a9e8c13f\\special_tokens_map.json\n",
      "loading file tokenizer_config.json from cache at C:\\Users\\Dharneeshkar J/.cache\\huggingface\\hub\\models--neulab--codebert-python\\snapshots\\0375ce6e7f53d21a181fa3d7485b1cd9a9e8c13f\\tokenizer_config.json\n",
      "loading configuration file config.json from cache at C:\\Users\\Dharneeshkar J/.cache\\huggingface\\hub\\models--neulab--codebert-python\\snapshots\\0375ce6e7f53d21a181fa3d7485b1cd9a9e8c13f\\config.json\n",
      "Model config RobertaConfig {\n",
      "  \"_name_or_path\": \"neulab/codebert-python\",\n",
      "  \"architectures\": [\n",
      "    \"RobertaForMaskedLM\"\n",
      "  ],\n",
      "  \"attention_probs_dropout_prob\": 0.1,\n",
      "  \"bos_token_id\": 0,\n",
      "  \"classifier_dropout\": null,\n",
      "  \"eos_token_id\": 2,\n",
      "  \"hidden_act\": \"gelu\",\n",
      "  \"hidden_dropout_prob\": 0.1,\n",
      "  \"hidden_size\": 768,\n",
      "  \"initializer_range\": 0.02,\n",
      "  \"intermediate_size\": 3072,\n",
      "  \"layer_norm_eps\": 1e-05,\n",
      "  \"max_position_embeddings\": 514,\n",
      "  \"model_type\": \"roberta\",\n",
      "  \"num_attention_heads\": 12,\n",
      "  \"num_hidden_layers\": 12,\n",
      "  \"output_past\": true,\n",
      "  \"pad_token_id\": 1,\n",
      "  \"position_embedding_type\": \"absolute\",\n",
      "  \"torch_dtype\": \"float32\",\n",
      "  \"transformers_version\": \"4.24.0\",\n",
      "  \"type_vocab_size\": 1,\n",
      "  \"use_cache\": true,\n",
      "  \"vocab_size\": 50265\n",
      "}\n",
      "\n",
      "loading weights file pytorch_model.bin from cache at C:\\Users\\Dharneeshkar J/.cache\\huggingface\\hub\\models--neulab--codebert-python\\snapshots\\0375ce6e7f53d21a181fa3d7485b1cd9a9e8c13f\\pytorch_model.bin\n",
      "Some weights of the model checkpoint at neulab/codebert-python were not used when initializing RobertaModel: ['lm_head.layer_norm.bias', 'lm_head.bias', 'lm_head.dense.weight', 'lm_head.dense.bias', 'lm_head.layer_norm.weight']\n",
      "- This IS expected if you are initializing RobertaModel from the checkpoint of a model trained on another task or with another architecture (e.g. initializing a BertForSequenceClassification model from a BertForPreTraining model).\n",
      "- This IS NOT expected if you are initializing RobertaModel from the checkpoint of a model that you expect to be exactly identical (initializing a BertForSequenceClassification model from a BertForSequenceClassification model).\n",
      "Some weights of RobertaModel were not initialized from the model checkpoint at neulab/codebert-python and are newly initialized: ['roberta.pooler.dense.weight', 'roberta.pooler.dense.bias']\n",
      "You should probably TRAIN this model on a down-stream task to be able to use it for predictions and inference.\n",
      "Saving model checkpoint to ./Exp_final10_CodeT5-small+config/checkpoint-172816\n",
      "Configuration saved in ./Exp_final10_CodeT5-small+config/checkpoint-172816\\config.json\n"
     ]
    },
    {
     "name": "stdout",
     "output_type": "stream",
     "text": [
      "{'eval_loss': 0.6044872999191284, 'eval_BLEU': 49.9091464518434, 'eval_BLEU-Unigram-Precision': 74.47817836812143, 'eval_BLEU-Bigram-Precision': 61.43213668650412, 'eval_Python-BLEU': 0.5021128494813822, 'eval_Code-BERT-SCORE-Precision': 0.8835490942001343, 'eval_Code-BERT-SCORE-Recall': 0.8696033358573914, 'eval_Code-BERT-SCORE-F1': 0.8758569359779358, 'eval_runtime': 123.582, 'eval_samples_per_second': 10.01, 'eval_steps_per_second': 5.009, 'epoch': 14.0}\n"
     ]
    },
    {
     "name": "stderr",
     "output_type": "stream",
     "text": [
      "Model weights saved in ./Exp_final10_CodeT5-small+config/checkpoint-172816\\pytorch_model.bin\n",
      "tokenizer config file saved in ./Exp_final10_CodeT5-small+config/checkpoint-172816\\tokenizer_config.json\n",
      "Special tokens file saved in ./Exp_final10_CodeT5-small+config/checkpoint-172816\\special_tokens_map.json\n",
      "Deleting older checkpoint [Exp_final10_CodeT5-small+config\\checkpoint-148128] due to args.save_total_limit\n",
      "***** Running Evaluation *****\n",
      "  Num examples = 1237\n",
      "  Batch size = 2\n"
     ]
    },
    {
     "name": "stdout",
     "output_type": "stream",
     "text": [
      "{'loss': 0.2273, 'learning_rate': 2.6315789473684212e-05, 'epoch': 15.0}\n"
     ]
    },
    {
     "name": "stderr",
     "output_type": "stream",
     "text": [
      "loading file vocab.json from cache at C:\\Users\\Dharneeshkar J/.cache\\huggingface\\hub\\models--neulab--codebert-python\\snapshots\\0375ce6e7f53d21a181fa3d7485b1cd9a9e8c13f\\vocab.json\n",
      "loading file merges.txt from cache at C:\\Users\\Dharneeshkar J/.cache\\huggingface\\hub\\models--neulab--codebert-python\\snapshots\\0375ce6e7f53d21a181fa3d7485b1cd9a9e8c13f\\merges.txt\n",
      "loading file tokenizer.json from cache at C:\\Users\\Dharneeshkar J/.cache\\huggingface\\hub\\models--neulab--codebert-python\\snapshots\\0375ce6e7f53d21a181fa3d7485b1cd9a9e8c13f\\tokenizer.json\n",
      "loading file added_tokens.json from cache at None\n",
      "loading file special_tokens_map.json from cache at C:\\Users\\Dharneeshkar J/.cache\\huggingface\\hub\\models--neulab--codebert-python\\snapshots\\0375ce6e7f53d21a181fa3d7485b1cd9a9e8c13f\\special_tokens_map.json\n",
      "loading file tokenizer_config.json from cache at C:\\Users\\Dharneeshkar J/.cache\\huggingface\\hub\\models--neulab--codebert-python\\snapshots\\0375ce6e7f53d21a181fa3d7485b1cd9a9e8c13f\\tokenizer_config.json\n",
      "loading configuration file config.json from cache at C:\\Users\\Dharneeshkar J/.cache\\huggingface\\hub\\models--neulab--codebert-python\\snapshots\\0375ce6e7f53d21a181fa3d7485b1cd9a9e8c13f\\config.json\n",
      "Model config RobertaConfig {\n",
      "  \"_name_or_path\": \"neulab/codebert-python\",\n",
      "  \"architectures\": [\n",
      "    \"RobertaForMaskedLM\"\n",
      "  ],\n",
      "  \"attention_probs_dropout_prob\": 0.1,\n",
      "  \"bos_token_id\": 0,\n",
      "  \"classifier_dropout\": null,\n",
      "  \"eos_token_id\": 2,\n",
      "  \"hidden_act\": \"gelu\",\n",
      "  \"hidden_dropout_prob\": 0.1,\n",
      "  \"hidden_size\": 768,\n",
      "  \"initializer_range\": 0.02,\n",
      "  \"intermediate_size\": 3072,\n",
      "  \"layer_norm_eps\": 1e-05,\n",
      "  \"max_position_embeddings\": 514,\n",
      "  \"model_type\": \"roberta\",\n",
      "  \"num_attention_heads\": 12,\n",
      "  \"num_hidden_layers\": 12,\n",
      "  \"output_past\": true,\n",
      "  \"pad_token_id\": 1,\n",
      "  \"position_embedding_type\": \"absolute\",\n",
      "  \"torch_dtype\": \"float32\",\n",
      "  \"transformers_version\": \"4.24.0\",\n",
      "  \"type_vocab_size\": 1,\n",
      "  \"use_cache\": true,\n",
      "  \"vocab_size\": 50265\n",
      "}\n",
      "\n",
      "loading weights file pytorch_model.bin from cache at C:\\Users\\Dharneeshkar J/.cache\\huggingface\\hub\\models--neulab--codebert-python\\snapshots\\0375ce6e7f53d21a181fa3d7485b1cd9a9e8c13f\\pytorch_model.bin\n",
      "Some weights of the model checkpoint at neulab/codebert-python were not used when initializing RobertaModel: ['lm_head.layer_norm.bias', 'lm_head.bias', 'lm_head.dense.weight', 'lm_head.dense.bias', 'lm_head.layer_norm.weight']\n",
      "- This IS expected if you are initializing RobertaModel from the checkpoint of a model trained on another task or with another architecture (e.g. initializing a BertForSequenceClassification model from a BertForPreTraining model).\n",
      "- This IS NOT expected if you are initializing RobertaModel from the checkpoint of a model that you expect to be exactly identical (initializing a BertForSequenceClassification model from a BertForSequenceClassification model).\n",
      "Some weights of RobertaModel were not initialized from the model checkpoint at neulab/codebert-python and are newly initialized: ['roberta.pooler.dense.weight', 'roberta.pooler.dense.bias']\n",
      "You should probably TRAIN this model on a down-stream task to be able to use it for predictions and inference.\n",
      "Saving model checkpoint to ./Exp_final10_CodeT5-small+config/checkpoint-185160\n",
      "Configuration saved in ./Exp_final10_CodeT5-small+config/checkpoint-185160\\config.json\n"
     ]
    },
    {
     "name": "stdout",
     "output_type": "stream",
     "text": [
      "{'eval_loss': 0.5868232846260071, 'eval_BLEU': 50.87778754533437, 'eval_BLEU-Unigram-Precision': 75.54421970460882, 'eval_BLEU-Bigram-Precision': 62.65522980412239, 'eval_Python-BLEU': 0.5118334690460908, 'eval_Code-BERT-SCORE-Precision': 0.888401985168457, 'eval_Code-BERT-SCORE-Recall': 0.8745650053024292, 'eval_Code-BERT-SCORE-F1': 0.8807598948478699, 'eval_runtime': 123.5085, 'eval_samples_per_second': 10.016, 'eval_steps_per_second': 5.012, 'epoch': 15.0}\n"
     ]
    },
    {
     "name": "stderr",
     "output_type": "stream",
     "text": [
      "Model weights saved in ./Exp_final10_CodeT5-small+config/checkpoint-185160\\pytorch_model.bin\n",
      "tokenizer config file saved in ./Exp_final10_CodeT5-small+config/checkpoint-185160\\tokenizer_config.json\n",
      "Special tokens file saved in ./Exp_final10_CodeT5-small+config/checkpoint-185160\\special_tokens_map.json\n",
      "Deleting older checkpoint [Exp_final10_CodeT5-small+config\\checkpoint-160472] due to args.save_total_limit\n",
      "***** Running Evaluation *****\n",
      "  Num examples = 1237\n",
      "  Batch size = 2\n"
     ]
    },
    {
     "name": "stdout",
     "output_type": "stream",
     "text": [
      "{'loss': 0.2074, 'learning_rate': 2.456140350877193e-05, 'epoch': 16.0}\n"
     ]
    },
    {
     "name": "stderr",
     "output_type": "stream",
     "text": [
      "loading file vocab.json from cache at C:\\Users\\Dharneeshkar J/.cache\\huggingface\\hub\\models--neulab--codebert-python\\snapshots\\0375ce6e7f53d21a181fa3d7485b1cd9a9e8c13f\\vocab.json\n",
      "loading file merges.txt from cache at C:\\Users\\Dharneeshkar J/.cache\\huggingface\\hub\\models--neulab--codebert-python\\snapshots\\0375ce6e7f53d21a181fa3d7485b1cd9a9e8c13f\\merges.txt\n",
      "loading file tokenizer.json from cache at C:\\Users\\Dharneeshkar J/.cache\\huggingface\\hub\\models--neulab--codebert-python\\snapshots\\0375ce6e7f53d21a181fa3d7485b1cd9a9e8c13f\\tokenizer.json\n",
      "loading file added_tokens.json from cache at None\n",
      "loading file special_tokens_map.json from cache at C:\\Users\\Dharneeshkar J/.cache\\huggingface\\hub\\models--neulab--codebert-python\\snapshots\\0375ce6e7f53d21a181fa3d7485b1cd9a9e8c13f\\special_tokens_map.json\n",
      "loading file tokenizer_config.json from cache at C:\\Users\\Dharneeshkar J/.cache\\huggingface\\hub\\models--neulab--codebert-python\\snapshots\\0375ce6e7f53d21a181fa3d7485b1cd9a9e8c13f\\tokenizer_config.json\n",
      "loading configuration file config.json from cache at C:\\Users\\Dharneeshkar J/.cache\\huggingface\\hub\\models--neulab--codebert-python\\snapshots\\0375ce6e7f53d21a181fa3d7485b1cd9a9e8c13f\\config.json\n",
      "Model config RobertaConfig {\n",
      "  \"_name_or_path\": \"neulab/codebert-python\",\n",
      "  \"architectures\": [\n",
      "    \"RobertaForMaskedLM\"\n",
      "  ],\n",
      "  \"attention_probs_dropout_prob\": 0.1,\n",
      "  \"bos_token_id\": 0,\n",
      "  \"classifier_dropout\": null,\n",
      "  \"eos_token_id\": 2,\n",
      "  \"hidden_act\": \"gelu\",\n",
      "  \"hidden_dropout_prob\": 0.1,\n",
      "  \"hidden_size\": 768,\n",
      "  \"initializer_range\": 0.02,\n",
      "  \"intermediate_size\": 3072,\n",
      "  \"layer_norm_eps\": 1e-05,\n",
      "  \"max_position_embeddings\": 514,\n",
      "  \"model_type\": \"roberta\",\n",
      "  \"num_attention_heads\": 12,\n",
      "  \"num_hidden_layers\": 12,\n",
      "  \"output_past\": true,\n",
      "  \"pad_token_id\": 1,\n",
      "  \"position_embedding_type\": \"absolute\",\n",
      "  \"torch_dtype\": \"float32\",\n",
      "  \"transformers_version\": \"4.24.0\",\n",
      "  \"type_vocab_size\": 1,\n",
      "  \"use_cache\": true,\n",
      "  \"vocab_size\": 50265\n",
      "}\n",
      "\n",
      "loading weights file pytorch_model.bin from cache at C:\\Users\\Dharneeshkar J/.cache\\huggingface\\hub\\models--neulab--codebert-python\\snapshots\\0375ce6e7f53d21a181fa3d7485b1cd9a9e8c13f\\pytorch_model.bin\n",
      "Some weights of the model checkpoint at neulab/codebert-python were not used when initializing RobertaModel: ['lm_head.layer_norm.bias', 'lm_head.bias', 'lm_head.dense.weight', 'lm_head.dense.bias', 'lm_head.layer_norm.weight']\n",
      "- This IS expected if you are initializing RobertaModel from the checkpoint of a model trained on another task or with another architecture (e.g. initializing a BertForSequenceClassification model from a BertForPreTraining model).\n",
      "- This IS NOT expected if you are initializing RobertaModel from the checkpoint of a model that you expect to be exactly identical (initializing a BertForSequenceClassification model from a BertForSequenceClassification model).\n",
      "Some weights of RobertaModel were not initialized from the model checkpoint at neulab/codebert-python and are newly initialized: ['roberta.pooler.dense.weight', 'roberta.pooler.dense.bias']\n",
      "You should probably TRAIN this model on a down-stream task to be able to use it for predictions and inference.\n",
      "Saving model checkpoint to ./Exp_final10_CodeT5-small+config/checkpoint-197504\n",
      "Configuration saved in ./Exp_final10_CodeT5-small+config/checkpoint-197504\\config.json\n"
     ]
    },
    {
     "name": "stdout",
     "output_type": "stream",
     "text": [
      "{'eval_loss': 0.575480580329895, 'eval_BLEU': 51.69889415185301, 'eval_BLEU-Unigram-Precision': 75.97198314239924, 'eval_BLEU-Bigram-Precision': 63.70916079436258, 'eval_Python-BLEU': 0.5205355331239443, 'eval_Code-BERT-SCORE-Precision': 0.8885576725006104, 'eval_Code-BERT-SCORE-Recall': 0.8749839067459106, 'eval_Code-BERT-SCORE-F1': 0.8810417652130127, 'eval_runtime': 123.0623, 'eval_samples_per_second': 10.052, 'eval_steps_per_second': 5.03, 'epoch': 16.0}\n"
     ]
    },
    {
     "name": "stderr",
     "output_type": "stream",
     "text": [
      "Model weights saved in ./Exp_final10_CodeT5-small+config/checkpoint-197504\\pytorch_model.bin\n",
      "tokenizer config file saved in ./Exp_final10_CodeT5-small+config/checkpoint-197504\\tokenizer_config.json\n",
      "Special tokens file saved in ./Exp_final10_CodeT5-small+config/checkpoint-197504\\special_tokens_map.json\n",
      "Deleting older checkpoint [Exp_final10_CodeT5-small+config\\checkpoint-172816] due to args.save_total_limit\n",
      "***** Running Evaluation *****\n",
      "  Num examples = 1237\n",
      "  Batch size = 2\n"
     ]
    },
    {
     "name": "stdout",
     "output_type": "stream",
     "text": [
      "{'loss': 0.1896, 'learning_rate': 2.280701754385965e-05, 'epoch': 17.0}\n"
     ]
    },
    {
     "name": "stderr",
     "output_type": "stream",
     "text": [
      "loading file vocab.json from cache at C:\\Users\\Dharneeshkar J/.cache\\huggingface\\hub\\models--neulab--codebert-python\\snapshots\\0375ce6e7f53d21a181fa3d7485b1cd9a9e8c13f\\vocab.json\n",
      "loading file merges.txt from cache at C:\\Users\\Dharneeshkar J/.cache\\huggingface\\hub\\models--neulab--codebert-python\\snapshots\\0375ce6e7f53d21a181fa3d7485b1cd9a9e8c13f\\merges.txt\n",
      "loading file tokenizer.json from cache at C:\\Users\\Dharneeshkar J/.cache\\huggingface\\hub\\models--neulab--codebert-python\\snapshots\\0375ce6e7f53d21a181fa3d7485b1cd9a9e8c13f\\tokenizer.json\n",
      "loading file added_tokens.json from cache at None\n",
      "loading file special_tokens_map.json from cache at C:\\Users\\Dharneeshkar J/.cache\\huggingface\\hub\\models--neulab--codebert-python\\snapshots\\0375ce6e7f53d21a181fa3d7485b1cd9a9e8c13f\\special_tokens_map.json\n",
      "loading file tokenizer_config.json from cache at C:\\Users\\Dharneeshkar J/.cache\\huggingface\\hub\\models--neulab--codebert-python\\snapshots\\0375ce6e7f53d21a181fa3d7485b1cd9a9e8c13f\\tokenizer_config.json\n",
      "loading configuration file config.json from cache at C:\\Users\\Dharneeshkar J/.cache\\huggingface\\hub\\models--neulab--codebert-python\\snapshots\\0375ce6e7f53d21a181fa3d7485b1cd9a9e8c13f\\config.json\n",
      "Model config RobertaConfig {\n",
      "  \"_name_or_path\": \"neulab/codebert-python\",\n",
      "  \"architectures\": [\n",
      "    \"RobertaForMaskedLM\"\n",
      "  ],\n",
      "  \"attention_probs_dropout_prob\": 0.1,\n",
      "  \"bos_token_id\": 0,\n",
      "  \"classifier_dropout\": null,\n",
      "  \"eos_token_id\": 2,\n",
      "  \"hidden_act\": \"gelu\",\n",
      "  \"hidden_dropout_prob\": 0.1,\n",
      "  \"hidden_size\": 768,\n",
      "  \"initializer_range\": 0.02,\n",
      "  \"intermediate_size\": 3072,\n",
      "  \"layer_norm_eps\": 1e-05,\n",
      "  \"max_position_embeddings\": 514,\n",
      "  \"model_type\": \"roberta\",\n",
      "  \"num_attention_heads\": 12,\n",
      "  \"num_hidden_layers\": 12,\n",
      "  \"output_past\": true,\n",
      "  \"pad_token_id\": 1,\n",
      "  \"position_embedding_type\": \"absolute\",\n",
      "  \"torch_dtype\": \"float32\",\n",
      "  \"transformers_version\": \"4.24.0\",\n",
      "  \"type_vocab_size\": 1,\n",
      "  \"use_cache\": true,\n",
      "  \"vocab_size\": 50265\n",
      "}\n",
      "\n",
      "loading weights file pytorch_model.bin from cache at C:\\Users\\Dharneeshkar J/.cache\\huggingface\\hub\\models--neulab--codebert-python\\snapshots\\0375ce6e7f53d21a181fa3d7485b1cd9a9e8c13f\\pytorch_model.bin\n",
      "Some weights of the model checkpoint at neulab/codebert-python were not used when initializing RobertaModel: ['lm_head.layer_norm.bias', 'lm_head.bias', 'lm_head.dense.weight', 'lm_head.dense.bias', 'lm_head.layer_norm.weight']\n",
      "- This IS expected if you are initializing RobertaModel from the checkpoint of a model trained on another task or with another architecture (e.g. initializing a BertForSequenceClassification model from a BertForPreTraining model).\n",
      "- This IS NOT expected if you are initializing RobertaModel from the checkpoint of a model that you expect to be exactly identical (initializing a BertForSequenceClassification model from a BertForSequenceClassification model).\n",
      "Some weights of RobertaModel were not initialized from the model checkpoint at neulab/codebert-python and are newly initialized: ['roberta.pooler.dense.weight', 'roberta.pooler.dense.bias']\n",
      "You should probably TRAIN this model on a down-stream task to be able to use it for predictions and inference.\n",
      "Saving model checkpoint to ./Exp_final10_CodeT5-small+config/checkpoint-209848\n",
      "Configuration saved in ./Exp_final10_CodeT5-small+config/checkpoint-209848\\config.json\n"
     ]
    },
    {
     "name": "stdout",
     "output_type": "stream",
     "text": [
      "{'eval_loss': 0.5709380507469177, 'eval_BLEU': 51.994764442986266, 'eval_BLEU-Unigram-Precision': 75.64900740044638, 'eval_BLEU-Bigram-Precision': 63.30356577363988, 'eval_Python-BLEU': 0.5240127119230495, 'eval_Code-BERT-SCORE-Precision': 0.8888981342315674, 'eval_Code-BERT-SCORE-Recall': 0.8758431673049927, 'eval_Code-BERT-SCORE-F1': 0.8816525936126709, 'eval_runtime': 123.74, 'eval_samples_per_second': 9.997, 'eval_steps_per_second': 5.002, 'epoch': 17.0}\n"
     ]
    },
    {
     "name": "stderr",
     "output_type": "stream",
     "text": [
      "Model weights saved in ./Exp_final10_CodeT5-small+config/checkpoint-209848\\pytorch_model.bin\n",
      "tokenizer config file saved in ./Exp_final10_CodeT5-small+config/checkpoint-209848\\tokenizer_config.json\n",
      "Special tokens file saved in ./Exp_final10_CodeT5-small+config/checkpoint-209848\\special_tokens_map.json\n",
      "Deleting older checkpoint [Exp_final10_CodeT5-small+config\\checkpoint-185160] due to args.save_total_limit\n",
      "***** Running Evaluation *****\n",
      "  Num examples = 1237\n",
      "  Batch size = 2\n"
     ]
    },
    {
     "name": "stdout",
     "output_type": "stream",
     "text": [
      "{'loss': 0.1754, 'learning_rate': 2.105263157894737e-05, 'epoch': 18.0}\n"
     ]
    },
    {
     "name": "stderr",
     "output_type": "stream",
     "text": [
      "loading file vocab.json from cache at C:\\Users\\Dharneeshkar J/.cache\\huggingface\\hub\\models--neulab--codebert-python\\snapshots\\0375ce6e7f53d21a181fa3d7485b1cd9a9e8c13f\\vocab.json\n",
      "loading file merges.txt from cache at C:\\Users\\Dharneeshkar J/.cache\\huggingface\\hub\\models--neulab--codebert-python\\snapshots\\0375ce6e7f53d21a181fa3d7485b1cd9a9e8c13f\\merges.txt\n",
      "loading file tokenizer.json from cache at C:\\Users\\Dharneeshkar J/.cache\\huggingface\\hub\\models--neulab--codebert-python\\snapshots\\0375ce6e7f53d21a181fa3d7485b1cd9a9e8c13f\\tokenizer.json\n",
      "loading file added_tokens.json from cache at None\n",
      "loading file special_tokens_map.json from cache at C:\\Users\\Dharneeshkar J/.cache\\huggingface\\hub\\models--neulab--codebert-python\\snapshots\\0375ce6e7f53d21a181fa3d7485b1cd9a9e8c13f\\special_tokens_map.json\n",
      "loading file tokenizer_config.json from cache at C:\\Users\\Dharneeshkar J/.cache\\huggingface\\hub\\models--neulab--codebert-python\\snapshots\\0375ce6e7f53d21a181fa3d7485b1cd9a9e8c13f\\tokenizer_config.json\n",
      "loading configuration file config.json from cache at C:\\Users\\Dharneeshkar J/.cache\\huggingface\\hub\\models--neulab--codebert-python\\snapshots\\0375ce6e7f53d21a181fa3d7485b1cd9a9e8c13f\\config.json\n",
      "Model config RobertaConfig {\n",
      "  \"_name_or_path\": \"neulab/codebert-python\",\n",
      "  \"architectures\": [\n",
      "    \"RobertaForMaskedLM\"\n",
      "  ],\n",
      "  \"attention_probs_dropout_prob\": 0.1,\n",
      "  \"bos_token_id\": 0,\n",
      "  \"classifier_dropout\": null,\n",
      "  \"eos_token_id\": 2,\n",
      "  \"hidden_act\": \"gelu\",\n",
      "  \"hidden_dropout_prob\": 0.1,\n",
      "  \"hidden_size\": 768,\n",
      "  \"initializer_range\": 0.02,\n",
      "  \"intermediate_size\": 3072,\n",
      "  \"layer_norm_eps\": 1e-05,\n",
      "  \"max_position_embeddings\": 514,\n",
      "  \"model_type\": \"roberta\",\n",
      "  \"num_attention_heads\": 12,\n",
      "  \"num_hidden_layers\": 12,\n",
      "  \"output_past\": true,\n",
      "  \"pad_token_id\": 1,\n",
      "  \"position_embedding_type\": \"absolute\",\n",
      "  \"torch_dtype\": \"float32\",\n",
      "  \"transformers_version\": \"4.24.0\",\n",
      "  \"type_vocab_size\": 1,\n",
      "  \"use_cache\": true,\n",
      "  \"vocab_size\": 50265\n",
      "}\n",
      "\n",
      "loading weights file pytorch_model.bin from cache at C:\\Users\\Dharneeshkar J/.cache\\huggingface\\hub\\models--neulab--codebert-python\\snapshots\\0375ce6e7f53d21a181fa3d7485b1cd9a9e8c13f\\pytorch_model.bin\n",
      "Some weights of the model checkpoint at neulab/codebert-python were not used when initializing RobertaModel: ['lm_head.layer_norm.bias', 'lm_head.bias', 'lm_head.dense.weight', 'lm_head.dense.bias', 'lm_head.layer_norm.weight']\n",
      "- This IS expected if you are initializing RobertaModel from the checkpoint of a model trained on another task or with another architecture (e.g. initializing a BertForSequenceClassification model from a BertForPreTraining model).\n",
      "- This IS NOT expected if you are initializing RobertaModel from the checkpoint of a model that you expect to be exactly identical (initializing a BertForSequenceClassification model from a BertForSequenceClassification model).\n",
      "Some weights of RobertaModel were not initialized from the model checkpoint at neulab/codebert-python and are newly initialized: ['roberta.pooler.dense.weight', 'roberta.pooler.dense.bias']\n",
      "You should probably TRAIN this model on a down-stream task to be able to use it for predictions and inference.\n",
      "Saving model checkpoint to ./Exp_final10_CodeT5-small+config/checkpoint-222192\n",
      "Configuration saved in ./Exp_final10_CodeT5-small+config/checkpoint-222192\\config.json\n"
     ]
    },
    {
     "name": "stdout",
     "output_type": "stream",
     "text": [
      "{'eval_loss': 0.5566234588623047, 'eval_BLEU': 52.36792199397375, 'eval_BLEU-Unigram-Precision': 76.69897140139128, 'eval_BLEU-Bigram-Precision': 64.63868566294443, 'eval_Python-BLEU': 0.529659764644584, 'eval_Code-BERT-SCORE-Precision': 0.8923763036727905, 'eval_Code-BERT-SCORE-Recall': 0.8781324028968811, 'eval_Code-BERT-SCORE-F1': 0.8845726251602173, 'eval_runtime': 135.2664, 'eval_samples_per_second': 9.145, 'eval_steps_per_second': 4.576, 'epoch': 18.0}\n"
     ]
    },
    {
     "name": "stderr",
     "output_type": "stream",
     "text": [
      "Model weights saved in ./Exp_final10_CodeT5-small+config/checkpoint-222192\\pytorch_model.bin\n",
      "tokenizer config file saved in ./Exp_final10_CodeT5-small+config/checkpoint-222192\\tokenizer_config.json\n",
      "Special tokens file saved in ./Exp_final10_CodeT5-small+config/checkpoint-222192\\special_tokens_map.json\n",
      "Deleting older checkpoint [Exp_final10_CodeT5-small+config\\checkpoint-197504] due to args.save_total_limit\n",
      "***** Running Evaluation *****\n",
      "  Num examples = 1237\n",
      "  Batch size = 2\n"
     ]
    },
    {
     "name": "stdout",
     "output_type": "stream",
     "text": [
      "{'loss': 0.1634, 'learning_rate': 1.929824561403509e-05, 'epoch': 19.0}\n"
     ]
    },
    {
     "name": "stderr",
     "output_type": "stream",
     "text": [
      "loading file vocab.json from cache at C:\\Users\\Dharneeshkar J/.cache\\huggingface\\hub\\models--neulab--codebert-python\\snapshots\\0375ce6e7f53d21a181fa3d7485b1cd9a9e8c13f\\vocab.json\n",
      "loading file merges.txt from cache at C:\\Users\\Dharneeshkar J/.cache\\huggingface\\hub\\models--neulab--codebert-python\\snapshots\\0375ce6e7f53d21a181fa3d7485b1cd9a9e8c13f\\merges.txt\n",
      "loading file tokenizer.json from cache at C:\\Users\\Dharneeshkar J/.cache\\huggingface\\hub\\models--neulab--codebert-python\\snapshots\\0375ce6e7f53d21a181fa3d7485b1cd9a9e8c13f\\tokenizer.json\n",
      "loading file added_tokens.json from cache at None\n",
      "loading file special_tokens_map.json from cache at C:\\Users\\Dharneeshkar J/.cache\\huggingface\\hub\\models--neulab--codebert-python\\snapshots\\0375ce6e7f53d21a181fa3d7485b1cd9a9e8c13f\\special_tokens_map.json\n",
      "loading file tokenizer_config.json from cache at C:\\Users\\Dharneeshkar J/.cache\\huggingface\\hub\\models--neulab--codebert-python\\snapshots\\0375ce6e7f53d21a181fa3d7485b1cd9a9e8c13f\\tokenizer_config.json\n",
      "loading configuration file config.json from cache at C:\\Users\\Dharneeshkar J/.cache\\huggingface\\hub\\models--neulab--codebert-python\\snapshots\\0375ce6e7f53d21a181fa3d7485b1cd9a9e8c13f\\config.json\n",
      "Model config RobertaConfig {\n",
      "  \"_name_or_path\": \"neulab/codebert-python\",\n",
      "  \"architectures\": [\n",
      "    \"RobertaForMaskedLM\"\n",
      "  ],\n",
      "  \"attention_probs_dropout_prob\": 0.1,\n",
      "  \"bos_token_id\": 0,\n",
      "  \"classifier_dropout\": null,\n",
      "  \"eos_token_id\": 2,\n",
      "  \"hidden_act\": \"gelu\",\n",
      "  \"hidden_dropout_prob\": 0.1,\n",
      "  \"hidden_size\": 768,\n",
      "  \"initializer_range\": 0.02,\n",
      "  \"intermediate_size\": 3072,\n",
      "  \"layer_norm_eps\": 1e-05,\n",
      "  \"max_position_embeddings\": 514,\n",
      "  \"model_type\": \"roberta\",\n",
      "  \"num_attention_heads\": 12,\n",
      "  \"num_hidden_layers\": 12,\n",
      "  \"output_past\": true,\n",
      "  \"pad_token_id\": 1,\n",
      "  \"position_embedding_type\": \"absolute\",\n",
      "  \"torch_dtype\": \"float32\",\n",
      "  \"transformers_version\": \"4.24.0\",\n",
      "  \"type_vocab_size\": 1,\n",
      "  \"use_cache\": true,\n",
      "  \"vocab_size\": 50265\n",
      "}\n",
      "\n",
      "loading weights file pytorch_model.bin from cache at C:\\Users\\Dharneeshkar J/.cache\\huggingface\\hub\\models--neulab--codebert-python\\snapshots\\0375ce6e7f53d21a181fa3d7485b1cd9a9e8c13f\\pytorch_model.bin\n",
      "Some weights of the model checkpoint at neulab/codebert-python were not used when initializing RobertaModel: ['lm_head.layer_norm.bias', 'lm_head.bias', 'lm_head.dense.weight', 'lm_head.dense.bias', 'lm_head.layer_norm.weight']\n",
      "- This IS expected if you are initializing RobertaModel from the checkpoint of a model trained on another task or with another architecture (e.g. initializing a BertForSequenceClassification model from a BertForPreTraining model).\n",
      "- This IS NOT expected if you are initializing RobertaModel from the checkpoint of a model that you expect to be exactly identical (initializing a BertForSequenceClassification model from a BertForSequenceClassification model).\n",
      "Some weights of RobertaModel were not initialized from the model checkpoint at neulab/codebert-python and are newly initialized: ['roberta.pooler.dense.weight', 'roberta.pooler.dense.bias']\n",
      "You should probably TRAIN this model on a down-stream task to be able to use it for predictions and inference.\n",
      "Saving model checkpoint to ./Exp_final10_CodeT5-small+config/checkpoint-234536\n",
      "Configuration saved in ./Exp_final10_CodeT5-small+config/checkpoint-234536\\config.json\n"
     ]
    },
    {
     "name": "stdout",
     "output_type": "stream",
     "text": [
      "{'eval_loss': 0.5412541627883911, 'eval_BLEU': 54.10969871580637, 'eval_BLEU-Unigram-Precision': 77.18637887431629, 'eval_BLEU-Bigram-Precision': 65.87593555752886, 'eval_Python-BLEU': 0.5457140067906479, 'eval_Code-BERT-SCORE-Precision': 0.8940513730049133, 'eval_Code-BERT-SCORE-Recall': 0.8813778758049011, 'eval_Code-BERT-SCORE-F1': 0.8870035409927368, 'eval_runtime': 133.955, 'eval_samples_per_second': 9.234, 'eval_steps_per_second': 4.621, 'epoch': 19.0}\n"
     ]
    },
    {
     "name": "stderr",
     "output_type": "stream",
     "text": [
      "Model weights saved in ./Exp_final10_CodeT5-small+config/checkpoint-234536\\pytorch_model.bin\n",
      "tokenizer config file saved in ./Exp_final10_CodeT5-small+config/checkpoint-234536\\tokenizer_config.json\n",
      "Special tokens file saved in ./Exp_final10_CodeT5-small+config/checkpoint-234536\\special_tokens_map.json\n",
      "Deleting older checkpoint [Exp_final10_CodeT5-small+config\\checkpoint-209848] due to args.save_total_limit\n",
      "***** Running Evaluation *****\n",
      "  Num examples = 1237\n",
      "  Batch size = 2\n"
     ]
    },
    {
     "name": "stdout",
     "output_type": "stream",
     "text": [
      "{'loss': 0.1518, 'learning_rate': 1.7543859649122806e-05, 'epoch': 20.0}\n"
     ]
    },
    {
     "name": "stderr",
     "output_type": "stream",
     "text": [
      "loading file vocab.json from cache at C:\\Users\\Dharneeshkar J/.cache\\huggingface\\hub\\models--neulab--codebert-python\\snapshots\\0375ce6e7f53d21a181fa3d7485b1cd9a9e8c13f\\vocab.json\n",
      "loading file merges.txt from cache at C:\\Users\\Dharneeshkar J/.cache\\huggingface\\hub\\models--neulab--codebert-python\\snapshots\\0375ce6e7f53d21a181fa3d7485b1cd9a9e8c13f\\merges.txt\n",
      "loading file tokenizer.json from cache at C:\\Users\\Dharneeshkar J/.cache\\huggingface\\hub\\models--neulab--codebert-python\\snapshots\\0375ce6e7f53d21a181fa3d7485b1cd9a9e8c13f\\tokenizer.json\n",
      "loading file added_tokens.json from cache at None\n",
      "loading file special_tokens_map.json from cache at C:\\Users\\Dharneeshkar J/.cache\\huggingface\\hub\\models--neulab--codebert-python\\snapshots\\0375ce6e7f53d21a181fa3d7485b1cd9a9e8c13f\\special_tokens_map.json\n",
      "loading file tokenizer_config.json from cache at C:\\Users\\Dharneeshkar J/.cache\\huggingface\\hub\\models--neulab--codebert-python\\snapshots\\0375ce6e7f53d21a181fa3d7485b1cd9a9e8c13f\\tokenizer_config.json\n",
      "loading configuration file config.json from cache at C:\\Users\\Dharneeshkar J/.cache\\huggingface\\hub\\models--neulab--codebert-python\\snapshots\\0375ce6e7f53d21a181fa3d7485b1cd9a9e8c13f\\config.json\n",
      "Model config RobertaConfig {\n",
      "  \"_name_or_path\": \"neulab/codebert-python\",\n",
      "  \"architectures\": [\n",
      "    \"RobertaForMaskedLM\"\n",
      "  ],\n",
      "  \"attention_probs_dropout_prob\": 0.1,\n",
      "  \"bos_token_id\": 0,\n",
      "  \"classifier_dropout\": null,\n",
      "  \"eos_token_id\": 2,\n",
      "  \"hidden_act\": \"gelu\",\n",
      "  \"hidden_dropout_prob\": 0.1,\n",
      "  \"hidden_size\": 768,\n",
      "  \"initializer_range\": 0.02,\n",
      "  \"intermediate_size\": 3072,\n",
      "  \"layer_norm_eps\": 1e-05,\n",
      "  \"max_position_embeddings\": 514,\n",
      "  \"model_type\": \"roberta\",\n",
      "  \"num_attention_heads\": 12,\n",
      "  \"num_hidden_layers\": 12,\n",
      "  \"output_past\": true,\n",
      "  \"pad_token_id\": 1,\n",
      "  \"position_embedding_type\": \"absolute\",\n",
      "  \"torch_dtype\": \"float32\",\n",
      "  \"transformers_version\": \"4.24.0\",\n",
      "  \"type_vocab_size\": 1,\n",
      "  \"use_cache\": true,\n",
      "  \"vocab_size\": 50265\n",
      "}\n",
      "\n",
      "loading weights file pytorch_model.bin from cache at C:\\Users\\Dharneeshkar J/.cache\\huggingface\\hub\\models--neulab--codebert-python\\snapshots\\0375ce6e7f53d21a181fa3d7485b1cd9a9e8c13f\\pytorch_model.bin\n",
      "Some weights of the model checkpoint at neulab/codebert-python were not used when initializing RobertaModel: ['lm_head.layer_norm.bias', 'lm_head.bias', 'lm_head.dense.weight', 'lm_head.dense.bias', 'lm_head.layer_norm.weight']\n",
      "- This IS expected if you are initializing RobertaModel from the checkpoint of a model trained on another task or with another architecture (e.g. initializing a BertForSequenceClassification model from a BertForPreTraining model).\n",
      "- This IS NOT expected if you are initializing RobertaModel from the checkpoint of a model that you expect to be exactly identical (initializing a BertForSequenceClassification model from a BertForSequenceClassification model).\n",
      "Some weights of RobertaModel were not initialized from the model checkpoint at neulab/codebert-python and are newly initialized: ['roberta.pooler.dense.weight', 'roberta.pooler.dense.bias']\n",
      "You should probably TRAIN this model on a down-stream task to be able to use it for predictions and inference.\n",
      "Saving model checkpoint to ./Exp_final10_CodeT5-small+config/checkpoint-246880\n",
      "Configuration saved in ./Exp_final10_CodeT5-small+config/checkpoint-246880\\config.json\n"
     ]
    },
    {
     "name": "stdout",
     "output_type": "stream",
     "text": [
      "{'eval_loss': 0.5429818630218506, 'eval_BLEU': 54.3109540988482, 'eval_BLEU-Unigram-Precision': 77.83483855734609, 'eval_BLEU-Bigram-Precision': 66.3270504330107, 'eval_Python-BLEU': 0.5453527022207638, 'eval_Code-BERT-SCORE-Precision': 0.8968155384063721, 'eval_Code-BERT-SCORE-Recall': 0.8827321529388428, 'eval_Code-BERT-SCORE-F1': 0.8890520930290222, 'eval_runtime': 138.6902, 'eval_samples_per_second': 8.919, 'eval_steps_per_second': 4.463, 'epoch': 20.0}\n"
     ]
    },
    {
     "name": "stderr",
     "output_type": "stream",
     "text": [
      "Model weights saved in ./Exp_final10_CodeT5-small+config/checkpoint-246880\\pytorch_model.bin\n",
      "tokenizer config file saved in ./Exp_final10_CodeT5-small+config/checkpoint-246880\\tokenizer_config.json\n",
      "Special tokens file saved in ./Exp_final10_CodeT5-small+config/checkpoint-246880\\special_tokens_map.json\n",
      "Deleting older checkpoint [Exp_final10_CodeT5-small+config\\checkpoint-222192] due to args.save_total_limit\n",
      "***** Running Evaluation *****\n",
      "  Num examples = 1237\n",
      "  Batch size = 2\n"
     ]
    },
    {
     "name": "stdout",
     "output_type": "stream",
     "text": [
      "{'loss': 0.1428, 'learning_rate': 1.5789473684210526e-05, 'epoch': 21.0}\n"
     ]
    },
    {
     "name": "stderr",
     "output_type": "stream",
     "text": [
      "loading file vocab.json from cache at C:\\Users\\Dharneeshkar J/.cache\\huggingface\\hub\\models--neulab--codebert-python\\snapshots\\0375ce6e7f53d21a181fa3d7485b1cd9a9e8c13f\\vocab.json\n",
      "loading file merges.txt from cache at C:\\Users\\Dharneeshkar J/.cache\\huggingface\\hub\\models--neulab--codebert-python\\snapshots\\0375ce6e7f53d21a181fa3d7485b1cd9a9e8c13f\\merges.txt\n",
      "loading file tokenizer.json from cache at C:\\Users\\Dharneeshkar J/.cache\\huggingface\\hub\\models--neulab--codebert-python\\snapshots\\0375ce6e7f53d21a181fa3d7485b1cd9a9e8c13f\\tokenizer.json\n",
      "loading file added_tokens.json from cache at None\n",
      "loading file special_tokens_map.json from cache at C:\\Users\\Dharneeshkar J/.cache\\huggingface\\hub\\models--neulab--codebert-python\\snapshots\\0375ce6e7f53d21a181fa3d7485b1cd9a9e8c13f\\special_tokens_map.json\n",
      "loading file tokenizer_config.json from cache at C:\\Users\\Dharneeshkar J/.cache\\huggingface\\hub\\models--neulab--codebert-python\\snapshots\\0375ce6e7f53d21a181fa3d7485b1cd9a9e8c13f\\tokenizer_config.json\n",
      "loading configuration file config.json from cache at C:\\Users\\Dharneeshkar J/.cache\\huggingface\\hub\\models--neulab--codebert-python\\snapshots\\0375ce6e7f53d21a181fa3d7485b1cd9a9e8c13f\\config.json\n",
      "Model config RobertaConfig {\n",
      "  \"_name_or_path\": \"neulab/codebert-python\",\n",
      "  \"architectures\": [\n",
      "    \"RobertaForMaskedLM\"\n",
      "  ],\n",
      "  \"attention_probs_dropout_prob\": 0.1,\n",
      "  \"bos_token_id\": 0,\n",
      "  \"classifier_dropout\": null,\n",
      "  \"eos_token_id\": 2,\n",
      "  \"hidden_act\": \"gelu\",\n",
      "  \"hidden_dropout_prob\": 0.1,\n",
      "  \"hidden_size\": 768,\n",
      "  \"initializer_range\": 0.02,\n",
      "  \"intermediate_size\": 3072,\n",
      "  \"layer_norm_eps\": 1e-05,\n",
      "  \"max_position_embeddings\": 514,\n",
      "  \"model_type\": \"roberta\",\n",
      "  \"num_attention_heads\": 12,\n",
      "  \"num_hidden_layers\": 12,\n",
      "  \"output_past\": true,\n",
      "  \"pad_token_id\": 1,\n",
      "  \"position_embedding_type\": \"absolute\",\n",
      "  \"torch_dtype\": \"float32\",\n",
      "  \"transformers_version\": \"4.24.0\",\n",
      "  \"type_vocab_size\": 1,\n",
      "  \"use_cache\": true,\n",
      "  \"vocab_size\": 50265\n",
      "}\n",
      "\n",
      "loading weights file pytorch_model.bin from cache at C:\\Users\\Dharneeshkar J/.cache\\huggingface\\hub\\models--neulab--codebert-python\\snapshots\\0375ce6e7f53d21a181fa3d7485b1cd9a9e8c13f\\pytorch_model.bin\n",
      "Some weights of the model checkpoint at neulab/codebert-python were not used when initializing RobertaModel: ['lm_head.layer_norm.bias', 'lm_head.bias', 'lm_head.dense.weight', 'lm_head.dense.bias', 'lm_head.layer_norm.weight']\n",
      "- This IS expected if you are initializing RobertaModel from the checkpoint of a model trained on another task or with another architecture (e.g. initializing a BertForSequenceClassification model from a BertForPreTraining model).\n",
      "- This IS NOT expected if you are initializing RobertaModel from the checkpoint of a model that you expect to be exactly identical (initializing a BertForSequenceClassification model from a BertForSequenceClassification model).\n",
      "Some weights of RobertaModel were not initialized from the model checkpoint at neulab/codebert-python and are newly initialized: ['roberta.pooler.dense.weight', 'roberta.pooler.dense.bias']\n",
      "You should probably TRAIN this model on a down-stream task to be able to use it for predictions and inference.\n",
      "Saving model checkpoint to ./Exp_final10_CodeT5-small+config/checkpoint-259224\n",
      "Configuration saved in ./Exp_final10_CodeT5-small+config/checkpoint-259224\\config.json\n"
     ]
    },
    {
     "name": "stdout",
     "output_type": "stream",
     "text": [
      "{'eval_loss': 0.5390677452087402, 'eval_BLEU': 54.67153785622407, 'eval_BLEU-Unigram-Precision': 78.2072465478579, 'eval_BLEU-Bigram-Precision': 66.75790947864282, 'eval_Python-BLEU': 0.548253664593407, 'eval_Code-BERT-SCORE-Precision': 0.89678555727005, 'eval_Code-BERT-SCORE-Recall': 0.8833369016647339, 'eval_Code-BERT-SCORE-F1': 0.8893560171127319, 'eval_runtime': 136.7233, 'eval_samples_per_second': 9.047, 'eval_steps_per_second': 4.527, 'epoch': 21.0}\n"
     ]
    },
    {
     "name": "stderr",
     "output_type": "stream",
     "text": [
      "Model weights saved in ./Exp_final10_CodeT5-small+config/checkpoint-259224\\pytorch_model.bin\n",
      "tokenizer config file saved in ./Exp_final10_CodeT5-small+config/checkpoint-259224\\tokenizer_config.json\n",
      "Special tokens file saved in ./Exp_final10_CodeT5-small+config/checkpoint-259224\\special_tokens_map.json\n",
      "Deleting older checkpoint [Exp_final10_CodeT5-small+config\\checkpoint-234536] due to args.save_total_limit\n",
      "***** Running Evaluation *****\n",
      "  Num examples = 1237\n",
      "  Batch size = 2\n"
     ]
    },
    {
     "name": "stdout",
     "output_type": "stream",
     "text": [
      "{'loss': 0.133, 'learning_rate': 1.4035087719298246e-05, 'epoch': 22.0}\n"
     ]
    },
    {
     "name": "stderr",
     "output_type": "stream",
     "text": [
      "loading file vocab.json from cache at C:\\Users\\Dharneeshkar J/.cache\\huggingface\\hub\\models--neulab--codebert-python\\snapshots\\0375ce6e7f53d21a181fa3d7485b1cd9a9e8c13f\\vocab.json\n",
      "loading file merges.txt from cache at C:\\Users\\Dharneeshkar J/.cache\\huggingface\\hub\\models--neulab--codebert-python\\snapshots\\0375ce6e7f53d21a181fa3d7485b1cd9a9e8c13f\\merges.txt\n",
      "loading file tokenizer.json from cache at C:\\Users\\Dharneeshkar J/.cache\\huggingface\\hub\\models--neulab--codebert-python\\snapshots\\0375ce6e7f53d21a181fa3d7485b1cd9a9e8c13f\\tokenizer.json\n",
      "loading file added_tokens.json from cache at None\n",
      "loading file special_tokens_map.json from cache at C:\\Users\\Dharneeshkar J/.cache\\huggingface\\hub\\models--neulab--codebert-python\\snapshots\\0375ce6e7f53d21a181fa3d7485b1cd9a9e8c13f\\special_tokens_map.json\n",
      "loading file tokenizer_config.json from cache at C:\\Users\\Dharneeshkar J/.cache\\huggingface\\hub\\models--neulab--codebert-python\\snapshots\\0375ce6e7f53d21a181fa3d7485b1cd9a9e8c13f\\tokenizer_config.json\n",
      "loading configuration file config.json from cache at C:\\Users\\Dharneeshkar J/.cache\\huggingface\\hub\\models--neulab--codebert-python\\snapshots\\0375ce6e7f53d21a181fa3d7485b1cd9a9e8c13f\\config.json\n",
      "Model config RobertaConfig {\n",
      "  \"_name_or_path\": \"neulab/codebert-python\",\n",
      "  \"architectures\": [\n",
      "    \"RobertaForMaskedLM\"\n",
      "  ],\n",
      "  \"attention_probs_dropout_prob\": 0.1,\n",
      "  \"bos_token_id\": 0,\n",
      "  \"classifier_dropout\": null,\n",
      "  \"eos_token_id\": 2,\n",
      "  \"hidden_act\": \"gelu\",\n",
      "  \"hidden_dropout_prob\": 0.1,\n",
      "  \"hidden_size\": 768,\n",
      "  \"initializer_range\": 0.02,\n",
      "  \"intermediate_size\": 3072,\n",
      "  \"layer_norm_eps\": 1e-05,\n",
      "  \"max_position_embeddings\": 514,\n",
      "  \"model_type\": \"roberta\",\n",
      "  \"num_attention_heads\": 12,\n",
      "  \"num_hidden_layers\": 12,\n",
      "  \"output_past\": true,\n",
      "  \"pad_token_id\": 1,\n",
      "  \"position_embedding_type\": \"absolute\",\n",
      "  \"torch_dtype\": \"float32\",\n",
      "  \"transformers_version\": \"4.24.0\",\n",
      "  \"type_vocab_size\": 1,\n",
      "  \"use_cache\": true,\n",
      "  \"vocab_size\": 50265\n",
      "}\n",
      "\n",
      "loading weights file pytorch_model.bin from cache at C:\\Users\\Dharneeshkar J/.cache\\huggingface\\hub\\models--neulab--codebert-python\\snapshots\\0375ce6e7f53d21a181fa3d7485b1cd9a9e8c13f\\pytorch_model.bin\n",
      "Some weights of the model checkpoint at neulab/codebert-python were not used when initializing RobertaModel: ['lm_head.layer_norm.bias', 'lm_head.bias', 'lm_head.dense.weight', 'lm_head.dense.bias', 'lm_head.layer_norm.weight']\n",
      "- This IS expected if you are initializing RobertaModel from the checkpoint of a model trained on another task or with another architecture (e.g. initializing a BertForSequenceClassification model from a BertForPreTraining model).\n",
      "- This IS NOT expected if you are initializing RobertaModel from the checkpoint of a model that you expect to be exactly identical (initializing a BertForSequenceClassification model from a BertForSequenceClassification model).\n",
      "Some weights of RobertaModel were not initialized from the model checkpoint at neulab/codebert-python and are newly initialized: ['roberta.pooler.dense.weight', 'roberta.pooler.dense.bias']\n",
      "You should probably TRAIN this model on a down-stream task to be able to use it for predictions and inference.\n",
      "Saving model checkpoint to ./Exp_final10_CodeT5-small+config/checkpoint-271568\n",
      "Configuration saved in ./Exp_final10_CodeT5-small+config/checkpoint-271568\\config.json\n"
     ]
    },
    {
     "name": "stdout",
     "output_type": "stream",
     "text": [
      "{'eval_loss': 0.5377703905105591, 'eval_BLEU': 55.27592964379862, 'eval_BLEU-Unigram-Precision': 78.57142857142857, 'eval_BLEU-Bigram-Precision': 67.56618819776715, 'eval_Python-BLEU': 0.5567416983325769, 'eval_Code-BERT-SCORE-Precision': 0.8983235359191895, 'eval_Code-BERT-SCORE-Recall': 0.8845929503440857, 'eval_Code-BERT-SCORE-F1': 0.8907619714736938, 'eval_runtime': 129.6537, 'eval_samples_per_second': 9.541, 'eval_steps_per_second': 4.774, 'epoch': 22.0}\n"
     ]
    },
    {
     "name": "stderr",
     "output_type": "stream",
     "text": [
      "Model weights saved in ./Exp_final10_CodeT5-small+config/checkpoint-271568\\pytorch_model.bin\n",
      "tokenizer config file saved in ./Exp_final10_CodeT5-small+config/checkpoint-271568\\tokenizer_config.json\n",
      "Special tokens file saved in ./Exp_final10_CodeT5-small+config/checkpoint-271568\\special_tokens_map.json\n",
      "Deleting older checkpoint [Exp_final10_CodeT5-small+config\\checkpoint-246880] due to args.save_total_limit\n",
      "***** Running Evaluation *****\n",
      "  Num examples = 1237\n",
      "  Batch size = 2\n"
     ]
    },
    {
     "name": "stdout",
     "output_type": "stream",
     "text": [
      "{'loss': 0.1232, 'learning_rate': 1.2280701754385964e-05, 'epoch': 23.0}\n"
     ]
    },
    {
     "name": "stderr",
     "output_type": "stream",
     "text": [
      "loading file vocab.json from cache at C:\\Users\\Dharneeshkar J/.cache\\huggingface\\hub\\models--neulab--codebert-python\\snapshots\\0375ce6e7f53d21a181fa3d7485b1cd9a9e8c13f\\vocab.json\n",
      "loading file merges.txt from cache at C:\\Users\\Dharneeshkar J/.cache\\huggingface\\hub\\models--neulab--codebert-python\\snapshots\\0375ce6e7f53d21a181fa3d7485b1cd9a9e8c13f\\merges.txt\n",
      "loading file tokenizer.json from cache at C:\\Users\\Dharneeshkar J/.cache\\huggingface\\hub\\models--neulab--codebert-python\\snapshots\\0375ce6e7f53d21a181fa3d7485b1cd9a9e8c13f\\tokenizer.json\n",
      "loading file added_tokens.json from cache at None\n",
      "loading file special_tokens_map.json from cache at C:\\Users\\Dharneeshkar J/.cache\\huggingface\\hub\\models--neulab--codebert-python\\snapshots\\0375ce6e7f53d21a181fa3d7485b1cd9a9e8c13f\\special_tokens_map.json\n",
      "loading file tokenizer_config.json from cache at C:\\Users\\Dharneeshkar J/.cache\\huggingface\\hub\\models--neulab--codebert-python\\snapshots\\0375ce6e7f53d21a181fa3d7485b1cd9a9e8c13f\\tokenizer_config.json\n",
      "loading configuration file config.json from cache at C:\\Users\\Dharneeshkar J/.cache\\huggingface\\hub\\models--neulab--codebert-python\\snapshots\\0375ce6e7f53d21a181fa3d7485b1cd9a9e8c13f\\config.json\n",
      "Model config RobertaConfig {\n",
      "  \"_name_or_path\": \"neulab/codebert-python\",\n",
      "  \"architectures\": [\n",
      "    \"RobertaForMaskedLM\"\n",
      "  ],\n",
      "  \"attention_probs_dropout_prob\": 0.1,\n",
      "  \"bos_token_id\": 0,\n",
      "  \"classifier_dropout\": null,\n",
      "  \"eos_token_id\": 2,\n",
      "  \"hidden_act\": \"gelu\",\n",
      "  \"hidden_dropout_prob\": 0.1,\n",
      "  \"hidden_size\": 768,\n",
      "  \"initializer_range\": 0.02,\n",
      "  \"intermediate_size\": 3072,\n",
      "  \"layer_norm_eps\": 1e-05,\n",
      "  \"max_position_embeddings\": 514,\n",
      "  \"model_type\": \"roberta\",\n",
      "  \"num_attention_heads\": 12,\n",
      "  \"num_hidden_layers\": 12,\n",
      "  \"output_past\": true,\n",
      "  \"pad_token_id\": 1,\n",
      "  \"position_embedding_type\": \"absolute\",\n",
      "  \"torch_dtype\": \"float32\",\n",
      "  \"transformers_version\": \"4.24.0\",\n",
      "  \"type_vocab_size\": 1,\n",
      "  \"use_cache\": true,\n",
      "  \"vocab_size\": 50265\n",
      "}\n",
      "\n",
      "loading weights file pytorch_model.bin from cache at C:\\Users\\Dharneeshkar J/.cache\\huggingface\\hub\\models--neulab--codebert-python\\snapshots\\0375ce6e7f53d21a181fa3d7485b1cd9a9e8c13f\\pytorch_model.bin\n",
      "Some weights of the model checkpoint at neulab/codebert-python were not used when initializing RobertaModel: ['lm_head.layer_norm.bias', 'lm_head.bias', 'lm_head.dense.weight', 'lm_head.dense.bias', 'lm_head.layer_norm.weight']\n",
      "- This IS expected if you are initializing RobertaModel from the checkpoint of a model trained on another task or with another architecture (e.g. initializing a BertForSequenceClassification model from a BertForPreTraining model).\n",
      "- This IS NOT expected if you are initializing RobertaModel from the checkpoint of a model that you expect to be exactly identical (initializing a BertForSequenceClassification model from a BertForSequenceClassification model).\n",
      "Some weights of RobertaModel were not initialized from the model checkpoint at neulab/codebert-python and are newly initialized: ['roberta.pooler.dense.weight', 'roberta.pooler.dense.bias']\n",
      "You should probably TRAIN this model on a down-stream task to be able to use it for predictions and inference.\n",
      "Saving model checkpoint to ./Exp_final10_CodeT5-small+config/checkpoint-283912\n",
      "Configuration saved in ./Exp_final10_CodeT5-small+config/checkpoint-283912\\config.json\n"
     ]
    },
    {
     "name": "stdout",
     "output_type": "stream",
     "text": [
      "{'eval_loss': 0.5387786626815796, 'eval_BLEU': 55.59975029426313, 'eval_BLEU-Unigram-Precision': 78.36741889985895, 'eval_BLEU-Bigram-Precision': 67.47575892008365, 'eval_Python-BLEU': 0.5601706018875283, 'eval_Code-BERT-SCORE-Precision': 0.8991095423698425, 'eval_Code-BERT-SCORE-Recall': 0.885611355304718, 'eval_Code-BERT-SCORE-F1': 0.8916820883750916, 'eval_runtime': 127.4659, 'eval_samples_per_second': 9.705, 'eval_steps_per_second': 4.856, 'epoch': 23.0}\n"
     ]
    },
    {
     "name": "stderr",
     "output_type": "stream",
     "text": [
      "Model weights saved in ./Exp_final10_CodeT5-small+config/checkpoint-283912\\pytorch_model.bin\n",
      "tokenizer config file saved in ./Exp_final10_CodeT5-small+config/checkpoint-283912\\tokenizer_config.json\n",
      "Special tokens file saved in ./Exp_final10_CodeT5-small+config/checkpoint-283912\\special_tokens_map.json\n",
      "Deleting older checkpoint [Exp_final10_CodeT5-small+config\\checkpoint-259224] due to args.save_total_limit\n",
      "***** Running Evaluation *****\n",
      "  Num examples = 1237\n",
      "  Batch size = 2\n"
     ]
    },
    {
     "name": "stdout",
     "output_type": "stream",
     "text": [
      "{'loss': 0.1162, 'learning_rate': 1.0526315789473684e-05, 'epoch': 24.0}\n"
     ]
    },
    {
     "name": "stderr",
     "output_type": "stream",
     "text": [
      "loading file vocab.json from cache at C:\\Users\\Dharneeshkar J/.cache\\huggingface\\hub\\models--neulab--codebert-python\\snapshots\\0375ce6e7f53d21a181fa3d7485b1cd9a9e8c13f\\vocab.json\n",
      "loading file merges.txt from cache at C:\\Users\\Dharneeshkar J/.cache\\huggingface\\hub\\models--neulab--codebert-python\\snapshots\\0375ce6e7f53d21a181fa3d7485b1cd9a9e8c13f\\merges.txt\n",
      "loading file tokenizer.json from cache at C:\\Users\\Dharneeshkar J/.cache\\huggingface\\hub\\models--neulab--codebert-python\\snapshots\\0375ce6e7f53d21a181fa3d7485b1cd9a9e8c13f\\tokenizer.json\n",
      "loading file added_tokens.json from cache at None\n",
      "loading file special_tokens_map.json from cache at C:\\Users\\Dharneeshkar J/.cache\\huggingface\\hub\\models--neulab--codebert-python\\snapshots\\0375ce6e7f53d21a181fa3d7485b1cd9a9e8c13f\\special_tokens_map.json\n",
      "loading file tokenizer_config.json from cache at C:\\Users\\Dharneeshkar J/.cache\\huggingface\\hub\\models--neulab--codebert-python\\snapshots\\0375ce6e7f53d21a181fa3d7485b1cd9a9e8c13f\\tokenizer_config.json\n",
      "loading configuration file config.json from cache at C:\\Users\\Dharneeshkar J/.cache\\huggingface\\hub\\models--neulab--codebert-python\\snapshots\\0375ce6e7f53d21a181fa3d7485b1cd9a9e8c13f\\config.json\n",
      "Model config RobertaConfig {\n",
      "  \"_name_or_path\": \"neulab/codebert-python\",\n",
      "  \"architectures\": [\n",
      "    \"RobertaForMaskedLM\"\n",
      "  ],\n",
      "  \"attention_probs_dropout_prob\": 0.1,\n",
      "  \"bos_token_id\": 0,\n",
      "  \"classifier_dropout\": null,\n",
      "  \"eos_token_id\": 2,\n",
      "  \"hidden_act\": \"gelu\",\n",
      "  \"hidden_dropout_prob\": 0.1,\n",
      "  \"hidden_size\": 768,\n",
      "  \"initializer_range\": 0.02,\n",
      "  \"intermediate_size\": 3072,\n",
      "  \"layer_norm_eps\": 1e-05,\n",
      "  \"max_position_embeddings\": 514,\n",
      "  \"model_type\": \"roberta\",\n",
      "  \"num_attention_heads\": 12,\n",
      "  \"num_hidden_layers\": 12,\n",
      "  \"output_past\": true,\n",
      "  \"pad_token_id\": 1,\n",
      "  \"position_embedding_type\": \"absolute\",\n",
      "  \"torch_dtype\": \"float32\",\n",
      "  \"transformers_version\": \"4.24.0\",\n",
      "  \"type_vocab_size\": 1,\n",
      "  \"use_cache\": true,\n",
      "  \"vocab_size\": 50265\n",
      "}\n",
      "\n",
      "loading weights file pytorch_model.bin from cache at C:\\Users\\Dharneeshkar J/.cache\\huggingface\\hub\\models--neulab--codebert-python\\snapshots\\0375ce6e7f53d21a181fa3d7485b1cd9a9e8c13f\\pytorch_model.bin\n",
      "Some weights of the model checkpoint at neulab/codebert-python were not used when initializing RobertaModel: ['lm_head.layer_norm.bias', 'lm_head.bias', 'lm_head.dense.weight', 'lm_head.dense.bias', 'lm_head.layer_norm.weight']\n",
      "- This IS expected if you are initializing RobertaModel from the checkpoint of a model trained on another task or with another architecture (e.g. initializing a BertForSequenceClassification model from a BertForPreTraining model).\n",
      "- This IS NOT expected if you are initializing RobertaModel from the checkpoint of a model that you expect to be exactly identical (initializing a BertForSequenceClassification model from a BertForSequenceClassification model).\n",
      "Some weights of RobertaModel were not initialized from the model checkpoint at neulab/codebert-python and are newly initialized: ['roberta.pooler.dense.weight', 'roberta.pooler.dense.bias']\n",
      "You should probably TRAIN this model on a down-stream task to be able to use it for predictions and inference.\n",
      "Saving model checkpoint to ./Exp_final10_CodeT5-small+config/checkpoint-296256\n",
      "Configuration saved in ./Exp_final10_CodeT5-small+config/checkpoint-296256\\config.json\n"
     ]
    },
    {
     "name": "stdout",
     "output_type": "stream",
     "text": [
      "{'eval_loss': 0.5346947312355042, 'eval_BLEU': 55.6664852838193, 'eval_BLEU-Unigram-Precision': 78.77857185045183, 'eval_BLEU-Bigram-Precision': 68.00050974894864, 'eval_Python-BLEU': 0.5624691300812178, 'eval_Code-BERT-SCORE-Precision': 0.8997012376785278, 'eval_Code-BERT-SCORE-Recall': 0.8857036828994751, 'eval_Code-BERT-SCORE-F1': 0.8919739127159119, 'eval_runtime': 131.0486, 'eval_samples_per_second': 9.439, 'eval_steps_per_second': 4.723, 'epoch': 24.0}\n"
     ]
    },
    {
     "name": "stderr",
     "output_type": "stream",
     "text": [
      "Model weights saved in ./Exp_final10_CodeT5-small+config/checkpoint-296256\\pytorch_model.bin\n",
      "tokenizer config file saved in ./Exp_final10_CodeT5-small+config/checkpoint-296256\\tokenizer_config.json\n",
      "Special tokens file saved in ./Exp_final10_CodeT5-small+config/checkpoint-296256\\special_tokens_map.json\n",
      "Deleting older checkpoint [Exp_final10_CodeT5-small+config\\checkpoint-271568] due to args.save_total_limit\n",
      "***** Running Evaluation *****\n",
      "  Num examples = 1237\n",
      "  Batch size = 2\n"
     ]
    },
    {
     "name": "stdout",
     "output_type": "stream",
     "text": [
      "{'loss': 0.1094, 'learning_rate': 8.771929824561403e-06, 'epoch': 25.0}\n"
     ]
    },
    {
     "name": "stderr",
     "output_type": "stream",
     "text": [
      "loading file vocab.json from cache at C:\\Users\\Dharneeshkar J/.cache\\huggingface\\hub\\models--neulab--codebert-python\\snapshots\\0375ce6e7f53d21a181fa3d7485b1cd9a9e8c13f\\vocab.json\n",
      "loading file merges.txt from cache at C:\\Users\\Dharneeshkar J/.cache\\huggingface\\hub\\models--neulab--codebert-python\\snapshots\\0375ce6e7f53d21a181fa3d7485b1cd9a9e8c13f\\merges.txt\n",
      "loading file tokenizer.json from cache at C:\\Users\\Dharneeshkar J/.cache\\huggingface\\hub\\models--neulab--codebert-python\\snapshots\\0375ce6e7f53d21a181fa3d7485b1cd9a9e8c13f\\tokenizer.json\n",
      "loading file added_tokens.json from cache at None\n",
      "loading file special_tokens_map.json from cache at C:\\Users\\Dharneeshkar J/.cache\\huggingface\\hub\\models--neulab--codebert-python\\snapshots\\0375ce6e7f53d21a181fa3d7485b1cd9a9e8c13f\\special_tokens_map.json\n",
      "loading file tokenizer_config.json from cache at C:\\Users\\Dharneeshkar J/.cache\\huggingface\\hub\\models--neulab--codebert-python\\snapshots\\0375ce6e7f53d21a181fa3d7485b1cd9a9e8c13f\\tokenizer_config.json\n",
      "loading configuration file config.json from cache at C:\\Users\\Dharneeshkar J/.cache\\huggingface\\hub\\models--neulab--codebert-python\\snapshots\\0375ce6e7f53d21a181fa3d7485b1cd9a9e8c13f\\config.json\n",
      "Model config RobertaConfig {\n",
      "  \"_name_or_path\": \"neulab/codebert-python\",\n",
      "  \"architectures\": [\n",
      "    \"RobertaForMaskedLM\"\n",
      "  ],\n",
      "  \"attention_probs_dropout_prob\": 0.1,\n",
      "  \"bos_token_id\": 0,\n",
      "  \"classifier_dropout\": null,\n",
      "  \"eos_token_id\": 2,\n",
      "  \"hidden_act\": \"gelu\",\n",
      "  \"hidden_dropout_prob\": 0.1,\n",
      "  \"hidden_size\": 768,\n",
      "  \"initializer_range\": 0.02,\n",
      "  \"intermediate_size\": 3072,\n",
      "  \"layer_norm_eps\": 1e-05,\n",
      "  \"max_position_embeddings\": 514,\n",
      "  \"model_type\": \"roberta\",\n",
      "  \"num_attention_heads\": 12,\n",
      "  \"num_hidden_layers\": 12,\n",
      "  \"output_past\": true,\n",
      "  \"pad_token_id\": 1,\n",
      "  \"position_embedding_type\": \"absolute\",\n",
      "  \"torch_dtype\": \"float32\",\n",
      "  \"transformers_version\": \"4.24.0\",\n",
      "  \"type_vocab_size\": 1,\n",
      "  \"use_cache\": true,\n",
      "  \"vocab_size\": 50265\n",
      "}\n",
      "\n",
      "loading weights file pytorch_model.bin from cache at C:\\Users\\Dharneeshkar J/.cache\\huggingface\\hub\\models--neulab--codebert-python\\snapshots\\0375ce6e7f53d21a181fa3d7485b1cd9a9e8c13f\\pytorch_model.bin\n",
      "Some weights of the model checkpoint at neulab/codebert-python were not used when initializing RobertaModel: ['lm_head.layer_norm.bias', 'lm_head.bias', 'lm_head.dense.weight', 'lm_head.dense.bias', 'lm_head.layer_norm.weight']\n",
      "- This IS expected if you are initializing RobertaModel from the checkpoint of a model trained on another task or with another architecture (e.g. initializing a BertForSequenceClassification model from a BertForPreTraining model).\n",
      "- This IS NOT expected if you are initializing RobertaModel from the checkpoint of a model that you expect to be exactly identical (initializing a BertForSequenceClassification model from a BertForSequenceClassification model).\n",
      "Some weights of RobertaModel were not initialized from the model checkpoint at neulab/codebert-python and are newly initialized: ['roberta.pooler.dense.weight', 'roberta.pooler.dense.bias']\n",
      "You should probably TRAIN this model on a down-stream task to be able to use it for predictions and inference.\n",
      "Saving model checkpoint to ./Exp_final10_CodeT5-small+config/checkpoint-308600\n",
      "Configuration saved in ./Exp_final10_CodeT5-small+config/checkpoint-308600\\config.json\n"
     ]
    },
    {
     "name": "stdout",
     "output_type": "stream",
     "text": [
      "{'eval_loss': 0.5361608862876892, 'eval_BLEU': 55.879147501611584, 'eval_BLEU-Unigram-Precision': 78.51443323163576, 'eval_BLEU-Bigram-Precision': 67.78009742519137, 'eval_Python-BLEU': 0.5640165415812772, 'eval_Code-BERT-SCORE-Precision': 0.8994770050048828, 'eval_Code-BERT-SCORE-Recall': 0.8862794041633606, 'eval_Code-BERT-SCORE-F1': 0.8921777009963989, 'eval_runtime': 141.7221, 'eval_samples_per_second': 8.728, 'eval_steps_per_second': 4.368, 'epoch': 25.0}\n"
     ]
    },
    {
     "name": "stderr",
     "output_type": "stream",
     "text": [
      "Model weights saved in ./Exp_final10_CodeT5-small+config/checkpoint-308600\\pytorch_model.bin\n",
      "tokenizer config file saved in ./Exp_final10_CodeT5-small+config/checkpoint-308600\\tokenizer_config.json\n",
      "Special tokens file saved in ./Exp_final10_CodeT5-small+config/checkpoint-308600\\special_tokens_map.json\n",
      "Deleting older checkpoint [Exp_final10_CodeT5-small+config\\checkpoint-283912] due to args.save_total_limit\n",
      "***** Running Evaluation *****\n",
      "  Num examples = 1237\n",
      "  Batch size = 2\n"
     ]
    },
    {
     "name": "stdout",
     "output_type": "stream",
     "text": [
      "{'loss': 0.1037, 'learning_rate': 7.017543859649123e-06, 'epoch': 26.0}\n"
     ]
    },
    {
     "name": "stderr",
     "output_type": "stream",
     "text": [
      "loading file vocab.json from cache at C:\\Users\\Dharneeshkar J/.cache\\huggingface\\hub\\models--neulab--codebert-python\\snapshots\\0375ce6e7f53d21a181fa3d7485b1cd9a9e8c13f\\vocab.json\n",
      "loading file merges.txt from cache at C:\\Users\\Dharneeshkar J/.cache\\huggingface\\hub\\models--neulab--codebert-python\\snapshots\\0375ce6e7f53d21a181fa3d7485b1cd9a9e8c13f\\merges.txt\n",
      "loading file tokenizer.json from cache at C:\\Users\\Dharneeshkar J/.cache\\huggingface\\hub\\models--neulab--codebert-python\\snapshots\\0375ce6e7f53d21a181fa3d7485b1cd9a9e8c13f\\tokenizer.json\n",
      "loading file added_tokens.json from cache at None\n",
      "loading file special_tokens_map.json from cache at C:\\Users\\Dharneeshkar J/.cache\\huggingface\\hub\\models--neulab--codebert-python\\snapshots\\0375ce6e7f53d21a181fa3d7485b1cd9a9e8c13f\\special_tokens_map.json\n",
      "loading file tokenizer_config.json from cache at C:\\Users\\Dharneeshkar J/.cache\\huggingface\\hub\\models--neulab--codebert-python\\snapshots\\0375ce6e7f53d21a181fa3d7485b1cd9a9e8c13f\\tokenizer_config.json\n",
      "loading configuration file config.json from cache at C:\\Users\\Dharneeshkar J/.cache\\huggingface\\hub\\models--neulab--codebert-python\\snapshots\\0375ce6e7f53d21a181fa3d7485b1cd9a9e8c13f\\config.json\n",
      "Model config RobertaConfig {\n",
      "  \"_name_or_path\": \"neulab/codebert-python\",\n",
      "  \"architectures\": [\n",
      "    \"RobertaForMaskedLM\"\n",
      "  ],\n",
      "  \"attention_probs_dropout_prob\": 0.1,\n",
      "  \"bos_token_id\": 0,\n",
      "  \"classifier_dropout\": null,\n",
      "  \"eos_token_id\": 2,\n",
      "  \"hidden_act\": \"gelu\",\n",
      "  \"hidden_dropout_prob\": 0.1,\n",
      "  \"hidden_size\": 768,\n",
      "  \"initializer_range\": 0.02,\n",
      "  \"intermediate_size\": 3072,\n",
      "  \"layer_norm_eps\": 1e-05,\n",
      "  \"max_position_embeddings\": 514,\n",
      "  \"model_type\": \"roberta\",\n",
      "  \"num_attention_heads\": 12,\n",
      "  \"num_hidden_layers\": 12,\n",
      "  \"output_past\": true,\n",
      "  \"pad_token_id\": 1,\n",
      "  \"position_embedding_type\": \"absolute\",\n",
      "  \"torch_dtype\": \"float32\",\n",
      "  \"transformers_version\": \"4.24.0\",\n",
      "  \"type_vocab_size\": 1,\n",
      "  \"use_cache\": true,\n",
      "  \"vocab_size\": 50265\n",
      "}\n",
      "\n",
      "loading weights file pytorch_model.bin from cache at C:\\Users\\Dharneeshkar J/.cache\\huggingface\\hub\\models--neulab--codebert-python\\snapshots\\0375ce6e7f53d21a181fa3d7485b1cd9a9e8c13f\\pytorch_model.bin\n",
      "Some weights of the model checkpoint at neulab/codebert-python were not used when initializing RobertaModel: ['lm_head.layer_norm.bias', 'lm_head.bias', 'lm_head.dense.weight', 'lm_head.dense.bias', 'lm_head.layer_norm.weight']\n",
      "- This IS expected if you are initializing RobertaModel from the checkpoint of a model trained on another task or with another architecture (e.g. initializing a BertForSequenceClassification model from a BertForPreTraining model).\n",
      "- This IS NOT expected if you are initializing RobertaModel from the checkpoint of a model that you expect to be exactly identical (initializing a BertForSequenceClassification model from a BertForSequenceClassification model).\n",
      "Some weights of RobertaModel were not initialized from the model checkpoint at neulab/codebert-python and are newly initialized: ['roberta.pooler.dense.weight', 'roberta.pooler.dense.bias']\n",
      "You should probably TRAIN this model on a down-stream task to be able to use it for predictions and inference.\n",
      "Saving model checkpoint to ./Exp_final10_CodeT5-small+config/checkpoint-320944\n",
      "Configuration saved in ./Exp_final10_CodeT5-small+config/checkpoint-320944\\config.json\n"
     ]
    },
    {
     "name": "stdout",
     "output_type": "stream",
     "text": [
      "{'eval_loss': 0.5334250330924988, 'eval_BLEU': 55.842604199940304, 'eval_BLEU-Unigram-Precision': 78.63780731678625, 'eval_BLEU-Bigram-Precision': 67.82112274024739, 'eval_Python-BLEU': 0.5644699029040467, 'eval_Code-BERT-SCORE-Precision': 0.8990734219551086, 'eval_Code-BERT-SCORE-Recall': 0.8855463862419128, 'eval_Code-BERT-SCORE-F1': 0.8915963172912598, 'eval_runtime': 129.2777, 'eval_samples_per_second': 9.569, 'eval_steps_per_second': 4.788, 'epoch': 26.0}\n"
     ]
    },
    {
     "name": "stderr",
     "output_type": "stream",
     "text": [
      "Model weights saved in ./Exp_final10_CodeT5-small+config/checkpoint-320944\\pytorch_model.bin\n",
      "tokenizer config file saved in ./Exp_final10_CodeT5-small+config/checkpoint-320944\\tokenizer_config.json\n",
      "Special tokens file saved in ./Exp_final10_CodeT5-small+config/checkpoint-320944\\special_tokens_map.json\n",
      "Deleting older checkpoint [Exp_final10_CodeT5-small+config\\checkpoint-296256] due to args.save_total_limit\n",
      "***** Running Evaluation *****\n",
      "  Num examples = 1237\n",
      "  Batch size = 2\n"
     ]
    },
    {
     "name": "stdout",
     "output_type": "stream",
     "text": [
      "{'loss': 0.0985, 'learning_rate': 5.263157894736842e-06, 'epoch': 27.0}\n"
     ]
    },
    {
     "name": "stderr",
     "output_type": "stream",
     "text": [
      "loading file vocab.json from cache at C:\\Users\\Dharneeshkar J/.cache\\huggingface\\hub\\models--neulab--codebert-python\\snapshots\\0375ce6e7f53d21a181fa3d7485b1cd9a9e8c13f\\vocab.json\n",
      "loading file merges.txt from cache at C:\\Users\\Dharneeshkar J/.cache\\huggingface\\hub\\models--neulab--codebert-python\\snapshots\\0375ce6e7f53d21a181fa3d7485b1cd9a9e8c13f\\merges.txt\n",
      "loading file tokenizer.json from cache at C:\\Users\\Dharneeshkar J/.cache\\huggingface\\hub\\models--neulab--codebert-python\\snapshots\\0375ce6e7f53d21a181fa3d7485b1cd9a9e8c13f\\tokenizer.json\n",
      "loading file added_tokens.json from cache at None\n",
      "loading file special_tokens_map.json from cache at C:\\Users\\Dharneeshkar J/.cache\\huggingface\\hub\\models--neulab--codebert-python\\snapshots\\0375ce6e7f53d21a181fa3d7485b1cd9a9e8c13f\\special_tokens_map.json\n",
      "loading file tokenizer_config.json from cache at C:\\Users\\Dharneeshkar J/.cache\\huggingface\\hub\\models--neulab--codebert-python\\snapshots\\0375ce6e7f53d21a181fa3d7485b1cd9a9e8c13f\\tokenizer_config.json\n",
      "loading configuration file config.json from cache at C:\\Users\\Dharneeshkar J/.cache\\huggingface\\hub\\models--neulab--codebert-python\\snapshots\\0375ce6e7f53d21a181fa3d7485b1cd9a9e8c13f\\config.json\n",
      "Model config RobertaConfig {\n",
      "  \"_name_or_path\": \"neulab/codebert-python\",\n",
      "  \"architectures\": [\n",
      "    \"RobertaForMaskedLM\"\n",
      "  ],\n",
      "  \"attention_probs_dropout_prob\": 0.1,\n",
      "  \"bos_token_id\": 0,\n",
      "  \"classifier_dropout\": null,\n",
      "  \"eos_token_id\": 2,\n",
      "  \"hidden_act\": \"gelu\",\n",
      "  \"hidden_dropout_prob\": 0.1,\n",
      "  \"hidden_size\": 768,\n",
      "  \"initializer_range\": 0.02,\n",
      "  \"intermediate_size\": 3072,\n",
      "  \"layer_norm_eps\": 1e-05,\n",
      "  \"max_position_embeddings\": 514,\n",
      "  \"model_type\": \"roberta\",\n",
      "  \"num_attention_heads\": 12,\n",
      "  \"num_hidden_layers\": 12,\n",
      "  \"output_past\": true,\n",
      "  \"pad_token_id\": 1,\n",
      "  \"position_embedding_type\": \"absolute\",\n",
      "  \"torch_dtype\": \"float32\",\n",
      "  \"transformers_version\": \"4.24.0\",\n",
      "  \"type_vocab_size\": 1,\n",
      "  \"use_cache\": true,\n",
      "  \"vocab_size\": 50265\n",
      "}\n",
      "\n",
      "loading weights file pytorch_model.bin from cache at C:\\Users\\Dharneeshkar J/.cache\\huggingface\\hub\\models--neulab--codebert-python\\snapshots\\0375ce6e7f53d21a181fa3d7485b1cd9a9e8c13f\\pytorch_model.bin\n",
      "Some weights of the model checkpoint at neulab/codebert-python were not used when initializing RobertaModel: ['lm_head.layer_norm.bias', 'lm_head.bias', 'lm_head.dense.weight', 'lm_head.dense.bias', 'lm_head.layer_norm.weight']\n",
      "- This IS expected if you are initializing RobertaModel from the checkpoint of a model trained on another task or with another architecture (e.g. initializing a BertForSequenceClassification model from a BertForPreTraining model).\n",
      "- This IS NOT expected if you are initializing RobertaModel from the checkpoint of a model that you expect to be exactly identical (initializing a BertForSequenceClassification model from a BertForSequenceClassification model).\n",
      "Some weights of RobertaModel were not initialized from the model checkpoint at neulab/codebert-python and are newly initialized: ['roberta.pooler.dense.weight', 'roberta.pooler.dense.bias']\n",
      "You should probably TRAIN this model on a down-stream task to be able to use it for predictions and inference.\n",
      "Saving model checkpoint to ./Exp_final10_CodeT5-small+config/checkpoint-333288\n",
      "Configuration saved in ./Exp_final10_CodeT5-small+config/checkpoint-333288\\config.json\n"
     ]
    },
    {
     "name": "stdout",
     "output_type": "stream",
     "text": [
      "{'eval_loss': 0.5304924845695496, 'eval_BLEU': 56.34810952117265, 'eval_BLEU-Unigram-Precision': 79.47262622679438, 'eval_BLEU-Bigram-Precision': 68.89073164508515, 'eval_Python-BLEU': 0.5689639510250968, 'eval_Code-BERT-SCORE-Precision': 0.9014105796813965, 'eval_Code-BERT-SCORE-Recall': 0.8876975774765015, 'eval_Code-BERT-SCORE-F1': 0.8938495516777039, 'eval_runtime': 129.4888, 'eval_samples_per_second': 9.553, 'eval_steps_per_second': 4.78, 'epoch': 27.0}\n"
     ]
    },
    {
     "name": "stderr",
     "output_type": "stream",
     "text": [
      "Model weights saved in ./Exp_final10_CodeT5-small+config/checkpoint-333288\\pytorch_model.bin\n",
      "tokenizer config file saved in ./Exp_final10_CodeT5-small+config/checkpoint-333288\\tokenizer_config.json\n",
      "Special tokens file saved in ./Exp_final10_CodeT5-small+config/checkpoint-333288\\special_tokens_map.json\n",
      "Deleting older checkpoint [Exp_final10_CodeT5-small+config\\checkpoint-308600] due to args.save_total_limit\n",
      "***** Running Evaluation *****\n",
      "  Num examples = 1237\n",
      "  Batch size = 2\n"
     ]
    },
    {
     "name": "stdout",
     "output_type": "stream",
     "text": [
      "{'loss': 0.0923, 'learning_rate': 3.5087719298245615e-06, 'epoch': 28.0}\n"
     ]
    },
    {
     "name": "stderr",
     "output_type": "stream",
     "text": [
      "loading file vocab.json from cache at C:\\Users\\Dharneeshkar J/.cache\\huggingface\\hub\\models--neulab--codebert-python\\snapshots\\0375ce6e7f53d21a181fa3d7485b1cd9a9e8c13f\\vocab.json\n",
      "loading file merges.txt from cache at C:\\Users\\Dharneeshkar J/.cache\\huggingface\\hub\\models--neulab--codebert-python\\snapshots\\0375ce6e7f53d21a181fa3d7485b1cd9a9e8c13f\\merges.txt\n",
      "loading file tokenizer.json from cache at C:\\Users\\Dharneeshkar J/.cache\\huggingface\\hub\\models--neulab--codebert-python\\snapshots\\0375ce6e7f53d21a181fa3d7485b1cd9a9e8c13f\\tokenizer.json\n",
      "loading file added_tokens.json from cache at None\n",
      "loading file special_tokens_map.json from cache at C:\\Users\\Dharneeshkar J/.cache\\huggingface\\hub\\models--neulab--codebert-python\\snapshots\\0375ce6e7f53d21a181fa3d7485b1cd9a9e8c13f\\special_tokens_map.json\n",
      "loading file tokenizer_config.json from cache at C:\\Users\\Dharneeshkar J/.cache\\huggingface\\hub\\models--neulab--codebert-python\\snapshots\\0375ce6e7f53d21a181fa3d7485b1cd9a9e8c13f\\tokenizer_config.json\n",
      "loading configuration file config.json from cache at C:\\Users\\Dharneeshkar J/.cache\\huggingface\\hub\\models--neulab--codebert-python\\snapshots\\0375ce6e7f53d21a181fa3d7485b1cd9a9e8c13f\\config.json\n",
      "Model config RobertaConfig {\n",
      "  \"_name_or_path\": \"neulab/codebert-python\",\n",
      "  \"architectures\": [\n",
      "    \"RobertaForMaskedLM\"\n",
      "  ],\n",
      "  \"attention_probs_dropout_prob\": 0.1,\n",
      "  \"bos_token_id\": 0,\n",
      "  \"classifier_dropout\": null,\n",
      "  \"eos_token_id\": 2,\n",
      "  \"hidden_act\": \"gelu\",\n",
      "  \"hidden_dropout_prob\": 0.1,\n",
      "  \"hidden_size\": 768,\n",
      "  \"initializer_range\": 0.02,\n",
      "  \"intermediate_size\": 3072,\n",
      "  \"layer_norm_eps\": 1e-05,\n",
      "  \"max_position_embeddings\": 514,\n",
      "  \"model_type\": \"roberta\",\n",
      "  \"num_attention_heads\": 12,\n",
      "  \"num_hidden_layers\": 12,\n",
      "  \"output_past\": true,\n",
      "  \"pad_token_id\": 1,\n",
      "  \"position_embedding_type\": \"absolute\",\n",
      "  \"torch_dtype\": \"float32\",\n",
      "  \"transformers_version\": \"4.24.0\",\n",
      "  \"type_vocab_size\": 1,\n",
      "  \"use_cache\": true,\n",
      "  \"vocab_size\": 50265\n",
      "}\n",
      "\n",
      "loading weights file pytorch_model.bin from cache at C:\\Users\\Dharneeshkar J/.cache\\huggingface\\hub\\models--neulab--codebert-python\\snapshots\\0375ce6e7f53d21a181fa3d7485b1cd9a9e8c13f\\pytorch_model.bin\n",
      "Some weights of the model checkpoint at neulab/codebert-python were not used when initializing RobertaModel: ['lm_head.layer_norm.bias', 'lm_head.bias', 'lm_head.dense.weight', 'lm_head.dense.bias', 'lm_head.layer_norm.weight']\n",
      "- This IS expected if you are initializing RobertaModel from the checkpoint of a model trained on another task or with another architecture (e.g. initializing a BertForSequenceClassification model from a BertForPreTraining model).\n",
      "- This IS NOT expected if you are initializing RobertaModel from the checkpoint of a model that you expect to be exactly identical (initializing a BertForSequenceClassification model from a BertForSequenceClassification model).\n",
      "Some weights of RobertaModel were not initialized from the model checkpoint at neulab/codebert-python and are newly initialized: ['roberta.pooler.dense.weight', 'roberta.pooler.dense.bias']\n",
      "You should probably TRAIN this model on a down-stream task to be able to use it for predictions and inference.\n",
      "Saving model checkpoint to ./Exp_final10_CodeT5-small+config/checkpoint-345632\n",
      "Configuration saved in ./Exp_final10_CodeT5-small+config/checkpoint-345632\\config.json\n"
     ]
    },
    {
     "name": "stdout",
     "output_type": "stream",
     "text": [
      "{'eval_loss': 0.5307067632675171, 'eval_BLEU': 56.688589845043204, 'eval_BLEU-Unigram-Precision': 79.52055601366474, 'eval_BLEU-Bigram-Precision': 68.96639349469538, 'eval_Python-BLEU': 0.5717051234493875, 'eval_Code-BERT-SCORE-Precision': 0.9013490080833435, 'eval_Code-BERT-SCORE-Recall': 0.8876578211784363, 'eval_Code-BERT-SCORE-F1': 0.893814742565155, 'eval_runtime': 133.894, 'eval_samples_per_second': 9.239, 'eval_steps_per_second': 4.623, 'epoch': 28.0}\n"
     ]
    },
    {
     "name": "stderr",
     "output_type": "stream",
     "text": [
      "Model weights saved in ./Exp_final10_CodeT5-small+config/checkpoint-345632\\pytorch_model.bin\n",
      "tokenizer config file saved in ./Exp_final10_CodeT5-small+config/checkpoint-345632\\tokenizer_config.json\n",
      "Special tokens file saved in ./Exp_final10_CodeT5-small+config/checkpoint-345632\\special_tokens_map.json\n",
      "Deleting older checkpoint [Exp_final10_CodeT5-small+config\\checkpoint-320944] due to args.save_total_limit\n",
      "***** Running Evaluation *****\n",
      "  Num examples = 1237\n",
      "  Batch size = 2\n"
     ]
    },
    {
     "name": "stdout",
     "output_type": "stream",
     "text": [
      "{'loss': 0.0891, 'learning_rate': 1.7543859649122807e-06, 'epoch': 29.0}\n"
     ]
    },
    {
     "name": "stderr",
     "output_type": "stream",
     "text": [
      "loading file vocab.json from cache at C:\\Users\\Dharneeshkar J/.cache\\huggingface\\hub\\models--neulab--codebert-python\\snapshots\\0375ce6e7f53d21a181fa3d7485b1cd9a9e8c13f\\vocab.json\n",
      "loading file merges.txt from cache at C:\\Users\\Dharneeshkar J/.cache\\huggingface\\hub\\models--neulab--codebert-python\\snapshots\\0375ce6e7f53d21a181fa3d7485b1cd9a9e8c13f\\merges.txt\n",
      "loading file tokenizer.json from cache at C:\\Users\\Dharneeshkar J/.cache\\huggingface\\hub\\models--neulab--codebert-python\\snapshots\\0375ce6e7f53d21a181fa3d7485b1cd9a9e8c13f\\tokenizer.json\n",
      "loading file added_tokens.json from cache at None\n",
      "loading file special_tokens_map.json from cache at C:\\Users\\Dharneeshkar J/.cache\\huggingface\\hub\\models--neulab--codebert-python\\snapshots\\0375ce6e7f53d21a181fa3d7485b1cd9a9e8c13f\\special_tokens_map.json\n",
      "loading file tokenizer_config.json from cache at C:\\Users\\Dharneeshkar J/.cache\\huggingface\\hub\\models--neulab--codebert-python\\snapshots\\0375ce6e7f53d21a181fa3d7485b1cd9a9e8c13f\\tokenizer_config.json\n",
      "loading configuration file config.json from cache at C:\\Users\\Dharneeshkar J/.cache\\huggingface\\hub\\models--neulab--codebert-python\\snapshots\\0375ce6e7f53d21a181fa3d7485b1cd9a9e8c13f\\config.json\n",
      "Model config RobertaConfig {\n",
      "  \"_name_or_path\": \"neulab/codebert-python\",\n",
      "  \"architectures\": [\n",
      "    \"RobertaForMaskedLM\"\n",
      "  ],\n",
      "  \"attention_probs_dropout_prob\": 0.1,\n",
      "  \"bos_token_id\": 0,\n",
      "  \"classifier_dropout\": null,\n",
      "  \"eos_token_id\": 2,\n",
      "  \"hidden_act\": \"gelu\",\n",
      "  \"hidden_dropout_prob\": 0.1,\n",
      "  \"hidden_size\": 768,\n",
      "  \"initializer_range\": 0.02,\n",
      "  \"intermediate_size\": 3072,\n",
      "  \"layer_norm_eps\": 1e-05,\n",
      "  \"max_position_embeddings\": 514,\n",
      "  \"model_type\": \"roberta\",\n",
      "  \"num_attention_heads\": 12,\n",
      "  \"num_hidden_layers\": 12,\n",
      "  \"output_past\": true,\n",
      "  \"pad_token_id\": 1,\n",
      "  \"position_embedding_type\": \"absolute\",\n",
      "  \"torch_dtype\": \"float32\",\n",
      "  \"transformers_version\": \"4.24.0\",\n",
      "  \"type_vocab_size\": 1,\n",
      "  \"use_cache\": true,\n",
      "  \"vocab_size\": 50265\n",
      "}\n",
      "\n",
      "loading weights file pytorch_model.bin from cache at C:\\Users\\Dharneeshkar J/.cache\\huggingface\\hub\\models--neulab--codebert-python\\snapshots\\0375ce6e7f53d21a181fa3d7485b1cd9a9e8c13f\\pytorch_model.bin\n",
      "Some weights of the model checkpoint at neulab/codebert-python were not used when initializing RobertaModel: ['lm_head.layer_norm.bias', 'lm_head.bias', 'lm_head.dense.weight', 'lm_head.dense.bias', 'lm_head.layer_norm.weight']\n",
      "- This IS expected if you are initializing RobertaModel from the checkpoint of a model trained on another task or with another architecture (e.g. initializing a BertForSequenceClassification model from a BertForPreTraining model).\n",
      "- This IS NOT expected if you are initializing RobertaModel from the checkpoint of a model that you expect to be exactly identical (initializing a BertForSequenceClassification model from a BertForSequenceClassification model).\n",
      "Some weights of RobertaModel were not initialized from the model checkpoint at neulab/codebert-python and are newly initialized: ['roberta.pooler.dense.weight', 'roberta.pooler.dense.bias']\n",
      "You should probably TRAIN this model on a down-stream task to be able to use it for predictions and inference.\n",
      "Saving model checkpoint to ./Exp_final10_CodeT5-small+config/checkpoint-357976\n",
      "Configuration saved in ./Exp_final10_CodeT5-small+config/checkpoint-357976\\config.json\n"
     ]
    },
    {
     "name": "stdout",
     "output_type": "stream",
     "text": [
      "{'eval_loss': 0.5304309129714966, 'eval_BLEU': 56.81276006114455, 'eval_BLEU-Unigram-Precision': 79.15128069866948, 'eval_BLEU-Bigram-Precision': 68.68680485338726, 'eval_Python-BLEU': 0.574096526312183, 'eval_Code-BERT-SCORE-Precision': 0.9013581871986389, 'eval_Code-BERT-SCORE-Recall': 0.8881474733352661, 'eval_Code-BERT-SCORE-F1': 0.8940501809120178, 'eval_runtime': 126.238, 'eval_samples_per_second': 9.799, 'eval_steps_per_second': 4.903, 'epoch': 29.0}\n"
     ]
    },
    {
     "name": "stderr",
     "output_type": "stream",
     "text": [
      "Model weights saved in ./Exp_final10_CodeT5-small+config/checkpoint-357976\\pytorch_model.bin\n",
      "tokenizer config file saved in ./Exp_final10_CodeT5-small+config/checkpoint-357976\\tokenizer_config.json\n",
      "Special tokens file saved in ./Exp_final10_CodeT5-small+config/checkpoint-357976\\special_tokens_map.json\n",
      "Deleting older checkpoint [Exp_final10_CodeT5-small+config\\checkpoint-333288] due to args.save_total_limit\n",
      "***** Running Evaluation *****\n",
      "  Num examples = 1237\n",
      "  Batch size = 2\n"
     ]
    },
    {
     "name": "stdout",
     "output_type": "stream",
     "text": [
      "{'loss': 0.0853, 'learning_rate': 0.0, 'epoch': 30.0}\n"
     ]
    },
    {
     "name": "stderr",
     "output_type": "stream",
     "text": [
      "loading file vocab.json from cache at C:\\Users\\Dharneeshkar J/.cache\\huggingface\\hub\\models--neulab--codebert-python\\snapshots\\0375ce6e7f53d21a181fa3d7485b1cd9a9e8c13f\\vocab.json\n",
      "loading file merges.txt from cache at C:\\Users\\Dharneeshkar J/.cache\\huggingface\\hub\\models--neulab--codebert-python\\snapshots\\0375ce6e7f53d21a181fa3d7485b1cd9a9e8c13f\\merges.txt\n",
      "loading file tokenizer.json from cache at C:\\Users\\Dharneeshkar J/.cache\\huggingface\\hub\\models--neulab--codebert-python\\snapshots\\0375ce6e7f53d21a181fa3d7485b1cd9a9e8c13f\\tokenizer.json\n",
      "loading file added_tokens.json from cache at None\n",
      "loading file special_tokens_map.json from cache at C:\\Users\\Dharneeshkar J/.cache\\huggingface\\hub\\models--neulab--codebert-python\\snapshots\\0375ce6e7f53d21a181fa3d7485b1cd9a9e8c13f\\special_tokens_map.json\n",
      "loading file tokenizer_config.json from cache at C:\\Users\\Dharneeshkar J/.cache\\huggingface\\hub\\models--neulab--codebert-python\\snapshots\\0375ce6e7f53d21a181fa3d7485b1cd9a9e8c13f\\tokenizer_config.json\n",
      "loading configuration file config.json from cache at C:\\Users\\Dharneeshkar J/.cache\\huggingface\\hub\\models--neulab--codebert-python\\snapshots\\0375ce6e7f53d21a181fa3d7485b1cd9a9e8c13f\\config.json\n",
      "Model config RobertaConfig {\n",
      "  \"_name_or_path\": \"neulab/codebert-python\",\n",
      "  \"architectures\": [\n",
      "    \"RobertaForMaskedLM\"\n",
      "  ],\n",
      "  \"attention_probs_dropout_prob\": 0.1,\n",
      "  \"bos_token_id\": 0,\n",
      "  \"classifier_dropout\": null,\n",
      "  \"eos_token_id\": 2,\n",
      "  \"hidden_act\": \"gelu\",\n",
      "  \"hidden_dropout_prob\": 0.1,\n",
      "  \"hidden_size\": 768,\n",
      "  \"initializer_range\": 0.02,\n",
      "  \"intermediate_size\": 3072,\n",
      "  \"layer_norm_eps\": 1e-05,\n",
      "  \"max_position_embeddings\": 514,\n",
      "  \"model_type\": \"roberta\",\n",
      "  \"num_attention_heads\": 12,\n",
      "  \"num_hidden_layers\": 12,\n",
      "  \"output_past\": true,\n",
      "  \"pad_token_id\": 1,\n",
      "  \"position_embedding_type\": \"absolute\",\n",
      "  \"torch_dtype\": \"float32\",\n",
      "  \"transformers_version\": \"4.24.0\",\n",
      "  \"type_vocab_size\": 1,\n",
      "  \"use_cache\": true,\n",
      "  \"vocab_size\": 50265\n",
      "}\n",
      "\n",
      "loading weights file pytorch_model.bin from cache at C:\\Users\\Dharneeshkar J/.cache\\huggingface\\hub\\models--neulab--codebert-python\\snapshots\\0375ce6e7f53d21a181fa3d7485b1cd9a9e8c13f\\pytorch_model.bin\n",
      "Some weights of the model checkpoint at neulab/codebert-python were not used when initializing RobertaModel: ['lm_head.layer_norm.bias', 'lm_head.bias', 'lm_head.dense.weight', 'lm_head.dense.bias', 'lm_head.layer_norm.weight']\n",
      "- This IS expected if you are initializing RobertaModel from the checkpoint of a model trained on another task or with another architecture (e.g. initializing a BertForSequenceClassification model from a BertForPreTraining model).\n",
      "- This IS NOT expected if you are initializing RobertaModel from the checkpoint of a model that you expect to be exactly identical (initializing a BertForSequenceClassification model from a BertForSequenceClassification model).\n",
      "Some weights of RobertaModel were not initialized from the model checkpoint at neulab/codebert-python and are newly initialized: ['roberta.pooler.dense.weight', 'roberta.pooler.dense.bias']\n",
      "You should probably TRAIN this model on a down-stream task to be able to use it for predictions and inference.\n",
      "Saving model checkpoint to ./Exp_final10_CodeT5-small+config/checkpoint-370320\n",
      "Configuration saved in ./Exp_final10_CodeT5-small+config/checkpoint-370320\\config.json\n"
     ]
    },
    {
     "name": "stdout",
     "output_type": "stream",
     "text": [
      "{'eval_loss': 0.5305931568145752, 'eval_BLEU': 56.83375637789568, 'eval_BLEU-Unigram-Precision': 79.27430718647253, 'eval_BLEU-Bigram-Precision': 68.85723330167775, 'eval_Python-BLEU': 0.5741858665473539, 'eval_Code-BERT-SCORE-Precision': 0.9014031887054443, 'eval_Code-BERT-SCORE-Recall': 0.8878775835037231, 'eval_Code-BERT-SCORE-F1': 0.8939470648765564, 'eval_runtime': 135.5365, 'eval_samples_per_second': 9.127, 'eval_steps_per_second': 4.567, 'epoch': 30.0}\n"
     ]
    },
    {
     "name": "stderr",
     "output_type": "stream",
     "text": [
      "Model weights saved in ./Exp_final10_CodeT5-small+config/checkpoint-370320\\pytorch_model.bin\n",
      "tokenizer config file saved in ./Exp_final10_CodeT5-small+config/checkpoint-370320\\tokenizer_config.json\n",
      "Special tokens file saved in ./Exp_final10_CodeT5-small+config/checkpoint-370320\\special_tokens_map.json\n",
      "Deleting older checkpoint [Exp_final10_CodeT5-small+config\\checkpoint-345632] due to args.save_total_limit\n",
      "\n",
      "\n",
      "Training completed. Do not forget to share your model on huggingface.co/models =)\n",
      "\n",
      "\n",
      "Loading best model from ./Exp_final10_CodeT5-small+config/checkpoint-357976 (score: 0.5304309129714966).\n",
      "Saving model checkpoint to C:\\Users\\DHARNE~1\\AppData\\Local\\Temp\\tmpi_hae8dg\n",
      "Configuration saved in C:\\Users\\DHARNE~1\\AppData\\Local\\Temp\\tmpi_hae8dg\\config.json\n"
     ]
    },
    {
     "name": "stdout",
     "output_type": "stream",
     "text": [
      "{'train_runtime': 30814.9849, 'train_samples_per_second': 24.034, 'train_steps_per_second': 12.018, 'train_loss': 0.44341127861650903, 'epoch': 30.0}\n"
     ]
    },
    {
     "name": "stderr",
     "output_type": "stream",
     "text": [
      "Model weights saved in C:\\Users\\DHARNE~1\\AppData\\Local\\Temp\\tmpi_hae8dg\\pytorch_model.bin\n",
      "tokenizer config file saved in C:\\Users\\DHARNE~1\\AppData\\Local\\Temp\\tmpi_hae8dg\\tokenizer_config.json\n",
      "Special tokens file saved in C:\\Users\\DHARNE~1\\AppData\\Local\\Temp\\tmpi_hae8dg\\special_tokens_map.json\n"
     ]
    },
    {
     "data": {
      "text/plain": [
       "TrainOutput(global_step=370320, training_loss=0.44341127861650903, metrics={'train_runtime': 30814.9849, 'train_samples_per_second': 24.034, 'train_steps_per_second': 12.018, 'train_loss': 0.44341127861650903, 'epoch': 30.0})"
      ]
     },
     "execution_count": 17,
     "metadata": {},
     "output_type": "execute_result"
    }
   ],
   "source": [
    "trainer.train()"
   ]
  },
  {
   "cell_type": "code",
   "execution_count": 20,
   "id": "e1f5390c",
   "metadata": {},
   "outputs": [
    {
     "name": "stderr",
     "output_type": "stream",
     "text": [
      "Saving model checkpoint to ./Exp_final10_CodeT5-small+config/\n",
      "Configuration saved in ./Exp_final10_CodeT5-small+config/config.json\n",
      "Model weights saved in ./Exp_final10_CodeT5-small+config/pytorch_model.bin\n",
      "tokenizer config file saved in ./Exp_final10_CodeT5-small+config/tokenizer_config.json\n",
      "Special tokens file saved in ./Exp_final10_CodeT5-small+config/special_tokens_map.json\n"
     ]
    }
   ],
   "source": [
    "trainer.save_model()\n",
    "trainer.save_state()"
   ]
  },
  {
   "cell_type": "code",
   "execution_count": 21,
   "id": "481eca92",
   "metadata": {},
   "outputs": [
    {
     "data": {
      "text/html": [
       "Waiting for W&B process to finish... <strong style=\"color:green\">(success).</strong>"
      ],
      "text/plain": [
       "<IPython.core.display.HTML object>"
      ]
     },
     "metadata": {},
     "output_type": "display_data"
    },
    {
     "data": {
      "text/html": [
       "<style>\n",
       "    table.wandb td:nth-child(1) { padding: 0 10px; text-align: left ; width: auto;} td:nth-child(2) {text-align: left ; width: 100%}\n",
       "    .wandb-row { display: flex; flex-direction: row; flex-wrap: wrap; justify-content: flex-start; width: 100% }\n",
       "    .wandb-col { display: flex; flex-direction: column; flex-basis: 100%; flex: 1; padding: 10px; }\n",
       "    </style>\n",
       "<div class=\"wandb-row\"><div class=\"wandb-col\"><h3>Run history:</h3><br/><table class=\"wandb\"><tr><td>eval/BLEU</td><td>▁▂▂▃▄▅▅▆▆▆▆▆▇▇▇▇▇▇████████████</td></tr><tr><td>eval/BLEU-Bigram-Precision</td><td>▁▂▃▃▄▅▅▆▆▆▆▆▇▇▇▇▇▇████████████</td></tr><tr><td>eval/BLEU-Unigram-Precision</td><td>▁▂▃▄▄▅▅▆▆▆▇▇▇▇▇▇▇▇▇███████████</td></tr><tr><td>eval/Code-BERT-SCORE-F1</td><td>▁▂▃▃▄▅▅▆▆▆▆▇▇▇▇▇▇▇████████████</td></tr><tr><td>eval/Code-BERT-SCORE-Precision</td><td>▁▂▃▄▄▅▅▆▆▆▆▇▇▇▇▇▇▇████████████</td></tr><tr><td>eval/Code-BERT-SCORE-Recall</td><td>▁▂▃▃▄▅▅▆▆▆▆▇▇▇▇▇▇▇████████████</td></tr><tr><td>eval/Python-BLEU</td><td>▁▂▂▃▄▅▅▅▆▆▆▆▇▇▇▇▇▇████████████</td></tr><tr><td>eval/loss</td><td>█▆▅▄▃▃▃▂▂▂▂▂▂▁▁▁▁▁▁▁▁▁▁▁▁▁▁▁▁▁</td></tr><tr><td>eval/runtime</td><td>▂▂█▂▃▂▂▂▂▁▁▁▁▁▁▁▁▃▃▄▃▂▂▂▄▂▂▃▂▃</td></tr><tr><td>eval/samples_per_second</td><td>▇▇▁▇▆▇▆▆▆████████▅▆▅▅▇▇▆▄▇▇▆▇▅</td></tr><tr><td>eval/steps_per_second</td><td>▇▇▁▇▆▇▆▆▆████████▅▆▅▅▇▇▆▄▇▇▆▇▅</td></tr><tr><td>train/epoch</td><td>▁▁▁▁▂▂▂▂▂▂▃▃▃▃▃▄▄▄▄▄▅▅▅▅▅▆▆▆▆▆▇▇▇▇▇▇████</td></tr><tr><td>train/global_step</td><td>▁▁▁▁▂▂▂▂▂▂▃▃▃▃▃▄▄▄▄▄▅▅▅▅▅▆▆▆▆▆▇▇▇▇▇▇████</td></tr><tr><td>train/learning_rate</td><td>▆██▇▇▇▇▇▆▆▆▆▅▅▅▅▄▄▄▄▃▃▃▃▂▂▂▂▁▁</td></tr><tr><td>train/loss</td><td>█▆▅▄▃▃▃▂▂▂▂▂▂▂▁▁▁▁▁▁▁▁▁▁▁▁▁▁▁▁</td></tr><tr><td>train/total_flos</td><td>▁</td></tr><tr><td>train/train_loss</td><td>▁</td></tr><tr><td>train/train_runtime</td><td>▁</td></tr><tr><td>train/train_samples_per_second</td><td>▁</td></tr><tr><td>train/train_steps_per_second</td><td>▁</td></tr></table><br/></div><div class=\"wandb-col\"><h3>Run summary:</h3><br/><table class=\"wandb\"><tr><td>eval/BLEU</td><td>56.83376</td></tr><tr><td>eval/BLEU-Bigram-Precision</td><td>68.85723</td></tr><tr><td>eval/BLEU-Unigram-Precision</td><td>79.27431</td></tr><tr><td>eval/Code-BERT-SCORE-F1</td><td>0.89395</td></tr><tr><td>eval/Code-BERT-SCORE-Precision</td><td>0.9014</td></tr><tr><td>eval/Code-BERT-SCORE-Recall</td><td>0.88788</td></tr><tr><td>eval/Python-BLEU</td><td>0.57419</td></tr><tr><td>eval/loss</td><td>0.53059</td></tr><tr><td>eval/runtime</td><td>135.5365</td></tr><tr><td>eval/samples_per_second</td><td>9.127</td></tr><tr><td>eval/steps_per_second</td><td>4.567</td></tr><tr><td>train/epoch</td><td>30.0</td></tr><tr><td>train/global_step</td><td>370320</td></tr><tr><td>train/learning_rate</td><td>0.0</td></tr><tr><td>train/loss</td><td>0.0853</td></tr><tr><td>train/total_flos</td><td>2687546914996224.0</td></tr><tr><td>train/train_loss</td><td>0.44341</td></tr><tr><td>train/train_runtime</td><td>30814.9849</td></tr><tr><td>train/train_samples_per_second</td><td>24.034</td></tr><tr><td>train/train_steps_per_second</td><td>12.018</td></tr></table><br/></div></div>"
      ],
      "text/plain": [
       "<IPython.core.display.HTML object>"
      ]
     },
     "metadata": {},
     "output_type": "display_data"
    },
    {
     "data": {
      "text/html": [
       " View run <strong style=\"color:#cdcd00\">./Exp_final10_CodeT5-small+config/</strong> at: <a href='https://wandb.ai/dharneeshkar/code_gen_codeT5_small_config/runs/hw7n8ulz' target=\"_blank\">https://wandb.ai/dharneeshkar/code_gen_codeT5_small_config/runs/hw7n8ulz</a><br/>Synced 6 W&B file(s), 0 media file(s), 7 artifact file(s) and 0 other file(s)"
      ],
      "text/plain": [
       "<IPython.core.display.HTML object>"
      ]
     },
     "metadata": {},
     "output_type": "display_data"
    },
    {
     "data": {
      "text/html": [
       "Find logs at: <code>.\\wandb\\run-20230423_114155-hw7n8ulz\\logs</code>"
      ],
      "text/plain": [
       "<IPython.core.display.HTML object>"
      ]
     },
     "metadata": {},
     "output_type": "display_data"
    }
   ],
   "source": [
    "wandb.finish()"
   ]
  },
  {
   "cell_type": "code",
   "execution_count": 19,
   "id": "bb866a4b",
   "metadata": {},
   "outputs": [],
   "source": [
    "pytorch_total_params = sum(p.numel() for p in model.parameters())"
   ]
  },
  {
   "cell_type": "code",
   "execution_count": null,
   "id": "f533e51d",
   "metadata": {},
   "outputs": [],
   "source": []
  }
 ],
 "metadata": {
  "kernelspec": {
   "display_name": "Python 3 (ipykernel)",
   "language": "python",
   "name": "python3"
  },
  "language_info": {
   "codemirror_mode": {
    "name": "ipython",
    "version": 3
   },
   "file_extension": ".py",
   "mimetype": "text/x-python",
   "name": "python",
   "nbconvert_exporter": "python",
   "pygments_lexer": "ipython3",
   "version": "3.8.16"
  }
 },
 "nbformat": 4,
 "nbformat_minor": 5
}
